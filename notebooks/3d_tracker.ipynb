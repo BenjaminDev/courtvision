{
 "cells": [
  {
   "cell_type": "code",
   "execution_count": 13,
   "metadata": {},
   "outputs": [
    {
     "name": "stdout",
     "output_type": "stream",
     "text": [
      "The autoreload extension is already loaded. To reload it, use:\n",
      "  %reload_ext autoreload\n"
     ]
    }
   ],
   "source": [
    "%load_ext autoreload\n",
    "%autoreload 2\n",
    "import torch\n",
    "import cv2\n",
    "import numpy as np\n",
    "from kornia.geometry import denormalize_pixel_coordinates\n",
    "from torch.testing import assert_close\n",
    "from courtvision.trackers import Tracker, StateIdx\n",
    "import rerun as rr\n",
    "from courtvision.geometry import solve_for_camera_matrix, solve_for_projection_matrix\n",
    "from courtvision.trackers import Tracker, StateIdx"
   ]
  },
  {
   "cell_type": "code",
   "execution_count": 14,
   "metadata": {},
   "outputs": [
    {
     "data": {
      "text/plain": [
       "'rerun_py 0.6.0-alpha.0+ [rustc 1.69.0 (84c898d65 2023-04-16), LLVM 15.0.7] aarch64-apple-darwin main b2f2246, built 2023-05-24T20:29:45Z'"
      ]
     },
     "execution_count": 14,
     "metadata": {},
     "output_type": "execute_result"
    }
   ],
   "source": [
    "rr.version()"
   ]
  },
  {
   "cell_type": "code",
   "execution_count": 15,
   "metadata": {},
   "outputs": [],
   "source": [
    "# Test\n",
    "\n",
    "\n",
    "tracker = Tracker(num_particles=1000)\n",
    "assert all(tracker.states[:, StateIdx.weight] > 0.0)\n",
    "tracker.states[:, 9] = Tracker.normalized_weights(states=tracker.states)\n",
    "\n",
    "assert_close(tracker.states.select(\"state\", 9).sum().item(), 1.0, atol=1e-3, rtol=1e-3)"
   ]
  },
  {
   "cell_type": "code",
   "execution_count": 16,
   "metadata": {},
   "outputs": [],
   "source": [
    "# Test set state\n",
    "\n",
    "\n",
    "tracker = Tracker(num_particles=1000)\n",
    "tracker.set_states_to(torch.tensor([1.0, 2.0, 3.0]))\n",
    "assert_close(tracker.states[:, StateIdx.x].mean().item(), 1.0, atol=1e-3, rtol=1e-3)"
   ]
  },
  {
   "cell_type": "code",
   "execution_count": null,
   "metadata": {},
   "outputs": [],
   "source": []
  },
  {
   "cell_type": "code",
   "execution_count": 17,
   "metadata": {},
   "outputs": [],
   "source": [
    "from torch.nn.functional import mse_loss\n",
    "import torch\n",
    "\n",
    "# Test:\n",
    "tracker = Tracker(num_particles=1000)\n",
    "obs_in_image = torch.tensor([[1.0, 1.0]]).repeat(1000, 1)\n",
    "\n",
    "# tracker.normalize_weights()\n",
    "tracker.H = torch.eye(3, 4)\n",
    "# assert (tracker.states[:,:3] - Tracker.state_to_observation(tracker.states, tracker.H)).sum() == 0.0\n",
    "assert Tracker.state_to_observation(tracker.states, tracker.H).shape == torch.Size(\n",
    "    [1000, 2]\n",
    ")\n",
    "pred_image_states = Tracker.state_to_observation(tracker.states, tracker.H)\n",
    "likelihoods = Tracker.likelihood(obs_state=obs_in_image, pred_state=pred_image_states)\n",
    "assert all(tracker.states.select(\"state\", 9) > 0.0), \"weights should be positive\"\n",
    "\n",
    "assert all(likelihoods > 0.0), \"likelihoods should be positive\"\n",
    "tracker.states[:, 9] = Tracker.update_weights(\n",
    "    tracker.states.select(\"state\", 9), likelihoods\n",
    ")\n",
    "assert all(tracker.states.select(\"state\", 9) > 0.0), \"weights should be positive\"\n",
    "tracker.states = Tracker.resample(\n",
    "    tracker.states.rename(None), tracker.states.select(\"state\", 9)\n",
    ")\n",
    "# print(likelihoods.shape)"
   ]
  },
  {
   "cell_type": "code",
   "execution_count": 18,
   "metadata": {},
   "outputs": [
    {
     "name": "stdout",
     "output_type": "stream",
     "text": [
      "dict_keys(['a_front_left', 'b_front_right', 'c_back_left', 'd_back_right', 'e_left_near_serve_line', 'f_right_near_serve_line', 'g_left_far_serve_line', 'h_right_far_serve_line', 'i_center_line_far', 'j_net_line_left', 'k_center_line_near', 'l_net_line_right', 'm_top_front_left', 'n_top_front_right', 'o_top_back_left', 'p_top_back_right'])\n",
      "removing i_center_line_far\n",
      "removing j_net_line_left\n",
      "removing k_center_line_near\n",
      "removing l_net_line_right\n"
     ]
    },
    {
     "data": {
      "text/plain": [
       "dict_keys(['a_front_left', 'b_front_right', 'c_back_left', 'd_back_right', 'e_left_near_serve_line', 'f_right_near_serve_line', 'g_left_far_serve_line', 'h_right_far_serve_line', 'm_top_front_left', 'n_top_front_right', 'o_top_back_left', 'p_top_back_right'])"
      ]
     },
     "execution_count": 18,
     "metadata": {},
     "output_type": "execute_result"
    }
   ],
   "source": [
    "from courtvision.geometry import corners_world_3d, convert_corners_to_coords\n",
    "\n",
    "print(corners_world_3d.keys())\n",
    "convert_corners_to_coords(corners_world_3d)\n",
    "from courtvision.geometry import get_corners_image, get_corners_verital_plane_on_image\n",
    "\n",
    "corners_image = get_corners_image(\"curated_001/curated_001_frame_0001\")\n",
    "corners_image_other = get_corners_verital_plane_on_image(\n",
    "    \"curated_001/curated_001_frame_0001\", plane=\"both\"\n",
    ")\n",
    "corners_image.update(corners_image_other)\n",
    "\n",
    "for k in list(corners_world_3d.keys()):\n",
    "    if k not in corners_image:\n",
    "        print(f\"removing {k}\")\n",
    "        corners_world_3d.pop(k)\n",
    "\n",
    "\n",
    "corners_image.keys()\n",
    "corners_world_3d.keys()"
   ]
  },
  {
   "cell_type": "code",
   "execution_count": 24,
   "metadata": {},
   "outputs": [],
   "source": [
    "image_size = (1280, 720)\n",
    "world_points = torch.tensor(\n",
    "    convert_corners_to_coords(corners_world_3d), dtype=torch.float64\n",
    ")\n",
    "\n",
    "image_points = torch.tensor(\n",
    "    convert_corners_to_coords(corners_image), dtype=torch.float64\n",
    ")\n",
    "\n",
    "camera_matrix, dist_coeffs, reproj_error = solve_for_camera_matrix(\n",
    "    world_points=world_points[:8],\n",
    "    image_points=image_points[:8],\n",
    "    image_size=image_size,\n",
    ")\n",
    "\n",
    "# fx = 10\n",
    "# fy = 10\n",
    "cy = 720 / 2\n",
    "\n",
    "cx = 1280 / 2\n",
    "# camera_matrix[0][0] = 1.0\n",
    "# camera_matrix[1][1] = 1.0\n",
    "\n",
    "# camera_matrix = np.array(\n",
    "#     [\n",
    "\n",
    "#             [fx, 0.0, cx],\n",
    "#             [0.0, fy, cy],\n",
    "#             [0.0, 0.0, 1.0],\n",
    "\n",
    "#     ])\n",
    "\n",
    "projection_matrix, tvec = solve_for_projection_matrix(\n",
    "    world_points=world_points.numpy(),\n",
    "    image_points=image_points.numpy(),\n",
    "    camera_matrix=camera_matrix,\n",
    "    dist_coeffs=dist_coeffs,\n",
    "    in_object_coordinate_frame=True,\n",
    ")\n",
    "\n",
    "# import numpy as np\n",
    "# from scipy.spatial.transform import Rotation as R\n",
    "\n",
    "# # separate rotation and translation\n",
    "# rotation_matrix = projection_matrix[:3, :3]\n",
    "# rotation_matrix[:, 2] *= -1\n",
    "# translation_xyz = projection_matrix[:3, 3]\n",
    "# translation_xyz[2] *= -1\n",
    "# # translation_xyz[2] = -translation_xyz[2]\n",
    "# # convert rotation matrix to quaternion\n",
    "# r = R.from_matrix(rotation_matrix)\n",
    "# quat_xyzw = r.as_quat()\n",
    "# quat_xyzw\n",
    "\n",
    "\n",
    "# camera_matrix = np.array([\n",
    "#         [2.1178609e+03, 0.0000000e+00, 9.6200000e+02],\n",
    "#        [0.0000000e+00, 2.1178609e+03, 5.3950000e+02],\n",
    "#        [0.0000000e+00, 0.0000000e+00, 1.0000000e+00]])"
   ]
  },
  {
   "cell_type": "code",
   "execution_count": 25,
   "metadata": {},
   "outputs": [
    {
     "data": {
      "text/plain": [
       "(3, 3)"
      ]
     },
     "execution_count": 25,
     "metadata": {},
     "output_type": "execute_result"
    }
   ],
   "source": [
    "projection_matrix.shape"
   ]
  },
  {
   "cell_type": "code",
   "execution_count": 26,
   "metadata": {},
   "outputs": [
    {
     "data": {
      "text/plain": [
       "array([[  123.40760714,  -449.13034974, -1549.92480144],\n",
       "       [  114.31855504,   550.68955591, -1533.26510735],\n",
       "       [ -198.06987535,  -484.93944873,   423.74435439],\n",
       "       [ -207.15892745,   514.88045692,   440.40404848],\n",
       "       [   91.25985889,  -452.71125964, -1352.55788586],\n",
       "       [   82.17080679,   547.10864601, -1335.89819176],\n",
       "       [ -165.9221271 ,  -481.35853883,   226.3774388 ],\n",
       "       [ -175.0111792 ,   518.46136682,   243.0371329 ],\n",
       "       [  419.49414881,  -447.24288995, -1501.6630429 ],\n",
       "       [  410.4050967 ,   552.5770157 , -1485.0033488 ],\n",
       "       [   98.01666632,  -483.05198894,   472.00611293],\n",
       "       [   88.92761422,   516.76791671,   488.66580703]])"
      ]
     },
     "execution_count": 26,
     "metadata": {},
     "output_type": "execute_result"
    }
   ],
   "source": [
    "from courtvision.geometry import transfrom_points, convert_points_to_homogeneous\n",
    "\n",
    "# Transform object points to camera frame\n",
    "objectPoints_camera = transfrom_points(\n",
    "    points=world_points.numpy(), transformation_matrix=projection_matrix, tvec=tvec\n",
    ")\n",
    "objectPoints_camera"
   ]
  },
  {
   "cell_type": "code",
   "execution_count": 27,
   "metadata": {},
   "outputs": [
    {
     "ename": "NameError",
     "evalue": "name 'quat_xyzw' is not defined",
     "output_type": "error",
     "traceback": [
      "\u001b[0;31m---------------------------------------------------------------------------\u001b[0m",
      "\u001b[0;31mNameError\u001b[0m                                 Traceback (most recent call last)",
      "Cell \u001b[0;32mIn[27], line 2\u001b[0m\n\u001b[1;32m      1\u001b[0m from_world_to_camera \u001b[39m=\u001b[39m rr\u001b[39m.\u001b[39mRigid3D(\n\u001b[0;32m----> 2\u001b[0m     rotation\u001b[39m=\u001b[39mrr\u001b[39m.\u001b[39mQuaternion(xyzw\u001b[39m=\u001b[39mquat_xyzw),\n\u001b[1;32m      3\u001b[0m     \u001b[39m# translation=np.array([500.0, -200, 400.0]),\u001b[39;00m\n\u001b[1;32m      4\u001b[0m     \u001b[39m# translation=np.array([0.0, 0.0, 0.0]),\u001b[39;00m\n\u001b[1;32m      5\u001b[0m     translation\u001b[39m=\u001b[39mtranslation_xyz,\n\u001b[1;32m      6\u001b[0m )\n\u001b[1;32m      7\u001b[0m \u001b[39m# translation_xyz=np.array([0.0, 0.0, 0.0])\u001b[39;00m\n\u001b[1;32m      8\u001b[0m from_camera_to_world \u001b[39m=\u001b[39m from_world_to_camera\n",
      "\u001b[0;31mNameError\u001b[0m: name 'quat_xyzw' is not defined"
     ]
    }
   ],
   "source": [
    "from_world_to_camera = rr.Rigid3D(\n",
    "    rotation=rr.Quaternion(xyzw=quat_xyzw),\n",
    "    # translation=np.array([500.0, -200, 400.0]),\n",
    "    # translation=np.array([0.0, 0.0, 0.0]),\n",
    "    translation=translation_xyz,\n",
    ")\n",
    "# translation_xyz=np.array([0.0, 0.0, 0.0])\n",
    "from_camera_to_world = from_world_to_camera"
   ]
  },
  {
   "cell_type": "code",
   "execution_count": 11,
   "metadata": {},
   "outputs": [
    {
     "data": {
      "text/plain": [
       "tensor([[18.3520, 27.8032]], dtype=torch.float64)"
      ]
     },
     "execution_count": 11,
     "metadata": {},
     "output_type": "execute_result"
    }
   ],
   "source": [
    "from kornia.geometry import (\n",
    "    convert_points_to_homogeneous,\n",
    "    convert_points_from_homogeneous,\n",
    ")\n",
    "\n",
    "convert_points_from_homogeneous(\n",
    "    (torch.tensor([500.0, 1000.0, 300.0]) @ projection_matrix).unsqueeze(0)\n",
    ")"
   ]
  },
  {
   "cell_type": "code",
   "execution_count": 12,
   "metadata": {},
   "outputs": [
    {
     "ename": "ValueError",
     "evalue": "Input must be at least a 2D tensor. Got torch.Size([3])",
     "output_type": "error",
     "traceback": [
      "\u001b[0;31m---------------------------------------------------------------------------\u001b[0m",
      "\u001b[0;31mValueError\u001b[0m                                Traceback (most recent call last)",
      "Cell \u001b[0;32mIn[12], line 2\u001b[0m\n\u001b[1;32m      1\u001b[0m \u001b[39mfrom\u001b[39;00m \u001b[39mkornia\u001b[39;00m\u001b[39m.\u001b[39;00m\u001b[39mgeometry\u001b[39;00m \u001b[39mimport\u001b[39;00m convert_points_to_homogeneous, convert_points_from_homogeneous\n\u001b[0;32m----> 2\u001b[0m court_origin \u001b[39m=\u001b[39m convert_points_to_homogeneous( torch\u001b[39m.\u001b[39;49mtensor([ \u001b[39m1.0\u001b[39;49m, \u001b[39m1.0\u001b[39;49m, \u001b[39m1.0\u001b[39;49m])\u001b[39m@projection_matrix\u001b[39;49m)\n",
      "File \u001b[0;32m~/projects/courtvision/.venv/lib/python3.11/site-packages/kornia/geometry/conversions.py:202\u001b[0m, in \u001b[0;36mconvert_points_to_homogeneous\u001b[0;34m(points)\u001b[0m\n\u001b[1;32m    200\u001b[0m     \u001b[39mraise\u001b[39;00m \u001b[39mTypeError\u001b[39;00m(\u001b[39mf\u001b[39m\u001b[39m\"\u001b[39m\u001b[39mInput type is not a Tensor. Got \u001b[39m\u001b[39m{\u001b[39;00m\u001b[39mtype\u001b[39m(points)\u001b[39m}\u001b[39;00m\u001b[39m\"\u001b[39m)\n\u001b[1;32m    201\u001b[0m \u001b[39mif\u001b[39;00m \u001b[39mlen\u001b[39m(points\u001b[39m.\u001b[39mshape) \u001b[39m<\u001b[39m \u001b[39m2\u001b[39m:\n\u001b[0;32m--> 202\u001b[0m     \u001b[39mraise\u001b[39;00m \u001b[39mValueError\u001b[39;00m(\u001b[39mf\u001b[39m\u001b[39m\"\u001b[39m\u001b[39mInput must be at least a 2D tensor. Got \u001b[39m\u001b[39m{\u001b[39;00mpoints\u001b[39m.\u001b[39mshape\u001b[39m}\u001b[39;00m\u001b[39m\"\u001b[39m)\n\u001b[1;32m    204\u001b[0m \u001b[39mreturn\u001b[39;00m pad(points, [\u001b[39m0\u001b[39m, \u001b[39m1\u001b[39m], \u001b[39m\"\u001b[39m\u001b[39mconstant\u001b[39m\u001b[39m\"\u001b[39m, \u001b[39m1.0\u001b[39m)\n",
      "\u001b[0;31mValueError\u001b[0m: Input must be at least a 2D tensor. Got torch.Size([3])"
     ]
    }
   ],
   "source": [
    "from kornia.geometry import (\n",
    "    convert_points_to_homogeneous,\n",
    "    convert_points_from_homogeneous,\n",
    ")\n",
    "\n",
    "court_origin = convert_points_to_homogeneous(\n",
    "    torch.tensor([1.0, 1.0, 1.0]) @ projection_matrix\n",
    ")"
   ]
  },
  {
   "cell_type": "code",
   "execution_count": 22,
   "metadata": {},
   "outputs": [
    {
     "name": "stderr",
     "output_type": "stream",
     "text": [
      "[2023-05-29T17:31:12Z WARN  re_sdk::global] There is no currently active Blueprint recording available for the current thread (ThreadId(1)): have you called `set_global()` and/or `set_thread_local()` first?\n"
     ]
    }
   ],
   "source": [
    "import rerun as rr\n",
    "\n",
    "if False:\n",
    "    rr.init(\"Blueprint demo\")\n",
    "    rr.start_web_viewer_server()\n",
    "    rec = rr.memory_recording()\n",
    "else:\n",
    "    from random import randint\n",
    "    import string\n",
    "\n",
    "    dd = \"\".join(\n",
    "        [\n",
    "            string.ascii_letters[randint(0, len(string.ascii_letters) - 1)]\n",
    "            for i in range(10)\n",
    "        ]\n",
    "    )\n",
    "    rr.init(dd, spawn=True)\n",
    "rr.set_time_sequence(\"frame_nr\", 0)\n",
    "i = 0"
   ]
  },
  {
   "cell_type": "code",
   "execution_count": 13,
   "metadata": {},
   "outputs": [
    {
     "data": {
      "text/plain": [
       "640.6350737614343"
      ]
     },
     "execution_count": 13,
     "metadata": {},
     "output_type": "execute_result"
    }
   ],
   "source": [
    "camera_matrix[0][2]"
   ]
  },
  {
   "cell_type": "code",
   "execution_count": 28,
   "metadata": {},
   "outputs": [
    {
     "name": "stdout",
     "output_type": "stream",
     "text": [
      "2\n",
      "(720, 1280, 3)\n",
      "(720, 1280, 3)\n"
     ]
    }
   ],
   "source": [
    "i = i + 1\n",
    "print(i)\n",
    "rr.set_time_sequence(\"frame_nr\", i)\n",
    "rr.log_view_coordinates(\"camera\", up=\"+Z\", right_handed=False, timeless=False)\n",
    "# rr.log_view_coordinates(\"world\",xyz=\"RFU\", timeless=True)\n",
    "\n",
    "# rr.log_rigid3(\n",
    "#             \"world/camera\",\n",
    "#             child_from_parent=(translation_xyz,quat_xyzw),\n",
    "\n",
    "#             # xyz=\"RFD\",  # X=Right, Y=Down, Z=Forward\n",
    "#         )\n",
    "# rr.log_transform3d(\"camera\",\n",
    "#                    transform=from_camera_to_world,\n",
    "#                    from_parent=False,\n",
    "#                    )\n",
    "\n",
    "rr.log_pinhole(\n",
    "    \"camera/image\",\n",
    "    child_from_parent=camera_matrix,\n",
    "    width=image_size[0],\n",
    "    height=image_size[1],\n",
    "    #   timeless=True,\n",
    ")\n",
    "img = cv2.imread(\n",
    "    \"/Users/benjamindecharmoy/projects/courtvision/data/frames/curated_001/curated_001_frame_0001.png\"\n",
    ")\n",
    "print(img.shape)\n",
    "img = cv2.resize(img, (1280, 720))\n",
    "print(img.shape)\n",
    "rr.log_image(\"camera/image\", img)\n",
    "# rr.log_points(\"world/camera/imgae\",\n",
    "#               positions=denormalize_pixel_coordinates(image_points,height=image_size[1],width=image_size[0]),\n",
    "#               )\n",
    "rr.log_point(\n",
    "    \"camera/origin\",\n",
    "    position=torch.tensor([0.0, 0.0, 0.0]),\n",
    "    color=(1.0, 0.0, 0.0),\n",
    "    radius=10.0,\n",
    ")\n",
    "rr.log_points(\n",
    "    \"camera/court_points\",\n",
    "    positions=objectPoints_camera,\n",
    "    colors=torch.tensor([1.0, 0.0, 0.0]),\n",
    "    radii=100.0,\n",
    ")\n",
    "rr.log_obb(\n",
    "    \"camera/court\",\n",
    "    half_size=(500.0, 1000.0, 300.0),\n",
    "    position=(500.0, 1000.0, 300.0),\n",
    "    stroke_width=3.0,\n",
    ")\n",
    "# rr.log_obb(\"world/court2\",\n",
    "#            half_size=(5000.0/2, 20000.0/2, 3000.0/2),\n",
    "#            position=(2500.0, 1000.0, 1500.0),\n",
    "# )\n",
    "# rr.log_point(\"world/points_ball\", position=torch.tensor([0.0, 0.0, 0.0]),color=(0.0, 0.0, 1.0), radius=10.0)\n",
    "# # rr.log_points(\"world/court_points\", positions=world_points, colors=torch.tensor([1.0, 0.0, 0.0]),radii=1000.0)\n",
    "# rr.log_point(\"world/points_ball\", position=torch.tensor([500.0, 1000.0, 300.0]),color=(0.0, 0.0, 1.0), radius=10.0)"
   ]
  },
  {
   "cell_type": "code",
   "execution_count": 17,
   "metadata": {},
   "outputs": [
    {
     "data": {
      "application/javascript": "/* Put everything inside the global mpl namespace */\n/* global mpl */\nwindow.mpl = {};\n\nmpl.get_websocket_type = function () {\n    if (typeof WebSocket !== 'undefined') {\n        return WebSocket;\n    } else if (typeof MozWebSocket !== 'undefined') {\n        return MozWebSocket;\n    } else {\n        alert(\n            'Your browser does not have WebSocket support. ' +\n                'Please try Chrome, Safari or Firefox ≥ 6. ' +\n                'Firefox 4 and 5 are also supported but you ' +\n                'have to enable WebSockets in about:config.'\n        );\n    }\n};\n\nmpl.figure = function (figure_id, websocket, ondownload, parent_element) {\n    this.id = figure_id;\n\n    this.ws = websocket;\n\n    this.supports_binary = this.ws.binaryType !== undefined;\n\n    if (!this.supports_binary) {\n        var warnings = document.getElementById('mpl-warnings');\n        if (warnings) {\n            warnings.style.display = 'block';\n            warnings.textContent =\n                'This browser does not support binary websocket messages. ' +\n                'Performance may be slow.';\n        }\n    }\n\n    this.imageObj = new Image();\n\n    this.context = undefined;\n    this.message = undefined;\n    this.canvas = undefined;\n    this.rubberband_canvas = undefined;\n    this.rubberband_context = undefined;\n    this.format_dropdown = undefined;\n\n    this.image_mode = 'full';\n\n    this.root = document.createElement('div');\n    this.root.setAttribute('style', 'display: inline-block');\n    this._root_extra_style(this.root);\n\n    parent_element.appendChild(this.root);\n\n    this._init_header(this);\n    this._init_canvas(this);\n    this._init_toolbar(this);\n\n    var fig = this;\n\n    this.waiting = false;\n\n    this.ws.onopen = function () {\n        fig.send_message('supports_binary', { value: fig.supports_binary });\n        fig.send_message('send_image_mode', {});\n        if (fig.ratio !== 1) {\n            fig.send_message('set_device_pixel_ratio', {\n                device_pixel_ratio: fig.ratio,\n            });\n        }\n        fig.send_message('refresh', {});\n    };\n\n    this.imageObj.onload = function () {\n        if (fig.image_mode === 'full') {\n            // Full images could contain transparency (where diff images\n            // almost always do), so we need to clear the canvas so that\n            // there is no ghosting.\n            fig.context.clearRect(0, 0, fig.canvas.width, fig.canvas.height);\n        }\n        fig.context.drawImage(fig.imageObj, 0, 0);\n    };\n\n    this.imageObj.onunload = function () {\n        fig.ws.close();\n    };\n\n    this.ws.onmessage = this._make_on_message_function(this);\n\n    this.ondownload = ondownload;\n};\n\nmpl.figure.prototype._init_header = function () {\n    var titlebar = document.createElement('div');\n    titlebar.classList =\n        'ui-dialog-titlebar ui-widget-header ui-corner-all ui-helper-clearfix';\n    var titletext = document.createElement('div');\n    titletext.classList = 'ui-dialog-title';\n    titletext.setAttribute(\n        'style',\n        'width: 100%; text-align: center; padding: 3px;'\n    );\n    titlebar.appendChild(titletext);\n    this.root.appendChild(titlebar);\n    this.header = titletext;\n};\n\nmpl.figure.prototype._canvas_extra_style = function (_canvas_div) {};\n\nmpl.figure.prototype._root_extra_style = function (_canvas_div) {};\n\nmpl.figure.prototype._init_canvas = function () {\n    var fig = this;\n\n    var canvas_div = (this.canvas_div = document.createElement('div'));\n    canvas_div.setAttribute('tabindex', '0');\n    canvas_div.setAttribute(\n        'style',\n        'border: 1px solid #ddd;' +\n            'box-sizing: content-box;' +\n            'clear: both;' +\n            'min-height: 1px;' +\n            'min-width: 1px;' +\n            'outline: 0;' +\n            'overflow: hidden;' +\n            'position: relative;' +\n            'resize: both;' +\n            'z-index: 2;'\n    );\n\n    function on_keyboard_event_closure(name) {\n        return function (event) {\n            return fig.key_event(event, name);\n        };\n    }\n\n    canvas_div.addEventListener(\n        'keydown',\n        on_keyboard_event_closure('key_press')\n    );\n    canvas_div.addEventListener(\n        'keyup',\n        on_keyboard_event_closure('key_release')\n    );\n\n    this._canvas_extra_style(canvas_div);\n    this.root.appendChild(canvas_div);\n\n    var canvas = (this.canvas = document.createElement('canvas'));\n    canvas.classList.add('mpl-canvas');\n    canvas.setAttribute(\n        'style',\n        'box-sizing: content-box;' +\n            'pointer-events: none;' +\n            'position: relative;' +\n            'z-index: 0;'\n    );\n\n    this.context = canvas.getContext('2d');\n\n    var backingStore =\n        this.context.backingStorePixelRatio ||\n        this.context.webkitBackingStorePixelRatio ||\n        this.context.mozBackingStorePixelRatio ||\n        this.context.msBackingStorePixelRatio ||\n        this.context.oBackingStorePixelRatio ||\n        this.context.backingStorePixelRatio ||\n        1;\n\n    this.ratio = (window.devicePixelRatio || 1) / backingStore;\n\n    var rubberband_canvas = (this.rubberband_canvas = document.createElement(\n        'canvas'\n    ));\n    rubberband_canvas.setAttribute(\n        'style',\n        'box-sizing: content-box;' +\n            'left: 0;' +\n            'pointer-events: none;' +\n            'position: absolute;' +\n            'top: 0;' +\n            'z-index: 1;'\n    );\n\n    // Apply a ponyfill if ResizeObserver is not implemented by browser.\n    if (this.ResizeObserver === undefined) {\n        if (window.ResizeObserver !== undefined) {\n            this.ResizeObserver = window.ResizeObserver;\n        } else {\n            var obs = _JSXTOOLS_RESIZE_OBSERVER({});\n            this.ResizeObserver = obs.ResizeObserver;\n        }\n    }\n\n    this.resizeObserverInstance = new this.ResizeObserver(function (entries) {\n        var nentries = entries.length;\n        for (var i = 0; i < nentries; i++) {\n            var entry = entries[i];\n            var width, height;\n            if (entry.contentBoxSize) {\n                if (entry.contentBoxSize instanceof Array) {\n                    // Chrome 84 implements new version of spec.\n                    width = entry.contentBoxSize[0].inlineSize;\n                    height = entry.contentBoxSize[0].blockSize;\n                } else {\n                    // Firefox implements old version of spec.\n                    width = entry.contentBoxSize.inlineSize;\n                    height = entry.contentBoxSize.blockSize;\n                }\n            } else {\n                // Chrome <84 implements even older version of spec.\n                width = entry.contentRect.width;\n                height = entry.contentRect.height;\n            }\n\n            // Keep the size of the canvas and rubber band canvas in sync with\n            // the canvas container.\n            if (entry.devicePixelContentBoxSize) {\n                // Chrome 84 implements new version of spec.\n                canvas.setAttribute(\n                    'width',\n                    entry.devicePixelContentBoxSize[0].inlineSize\n                );\n                canvas.setAttribute(\n                    'height',\n                    entry.devicePixelContentBoxSize[0].blockSize\n                );\n            } else {\n                canvas.setAttribute('width', width * fig.ratio);\n                canvas.setAttribute('height', height * fig.ratio);\n            }\n            /* This rescales the canvas back to display pixels, so that it\n             * appears correct on HiDPI screens. */\n            canvas.style.width = width + 'px';\n            canvas.style.height = height + 'px';\n\n            rubberband_canvas.setAttribute('width', width);\n            rubberband_canvas.setAttribute('height', height);\n\n            // And update the size in Python. We ignore the initial 0/0 size\n            // that occurs as the element is placed into the DOM, which should\n            // otherwise not happen due to the minimum size styling.\n            if (fig.ws.readyState == 1 && width != 0 && height != 0) {\n                fig.request_resize(width, height);\n            }\n        }\n    });\n    this.resizeObserverInstance.observe(canvas_div);\n\n    function on_mouse_event_closure(name) {\n        /* User Agent sniffing is bad, but WebKit is busted:\n         * https://bugs.webkit.org/show_bug.cgi?id=144526\n         * https://bugs.webkit.org/show_bug.cgi?id=181818\n         * The worst that happens here is that they get an extra browser\n         * selection when dragging, if this check fails to catch them.\n         */\n        var UA = navigator.userAgent;\n        var isWebKit = /AppleWebKit/.test(UA) && !/Chrome/.test(UA);\n        if(isWebKit) {\n            return function (event) {\n                /* This prevents the web browser from automatically changing to\n                 * the text insertion cursor when the button is pressed. We\n                 * want to control all of the cursor setting manually through\n                 * the 'cursor' event from matplotlib */\n                event.preventDefault()\n                return fig.mouse_event(event, name);\n            };\n        } else {\n            return function (event) {\n                return fig.mouse_event(event, name);\n            };\n        }\n    }\n\n    canvas_div.addEventListener(\n        'mousedown',\n        on_mouse_event_closure('button_press')\n    );\n    canvas_div.addEventListener(\n        'mouseup',\n        on_mouse_event_closure('button_release')\n    );\n    canvas_div.addEventListener(\n        'dblclick',\n        on_mouse_event_closure('dblclick')\n    );\n    // Throttle sequential mouse events to 1 every 20ms.\n    canvas_div.addEventListener(\n        'mousemove',\n        on_mouse_event_closure('motion_notify')\n    );\n\n    canvas_div.addEventListener(\n        'mouseenter',\n        on_mouse_event_closure('figure_enter')\n    );\n    canvas_div.addEventListener(\n        'mouseleave',\n        on_mouse_event_closure('figure_leave')\n    );\n\n    canvas_div.addEventListener('wheel', function (event) {\n        if (event.deltaY < 0) {\n            event.step = 1;\n        } else {\n            event.step = -1;\n        }\n        on_mouse_event_closure('scroll')(event);\n    });\n\n    canvas_div.appendChild(canvas);\n    canvas_div.appendChild(rubberband_canvas);\n\n    this.rubberband_context = rubberband_canvas.getContext('2d');\n    this.rubberband_context.strokeStyle = '#000000';\n\n    this._resize_canvas = function (width, height, forward) {\n        if (forward) {\n            canvas_div.style.width = width + 'px';\n            canvas_div.style.height = height + 'px';\n        }\n    };\n\n    // Disable right mouse context menu.\n    canvas_div.addEventListener('contextmenu', function (_e) {\n        event.preventDefault();\n        return false;\n    });\n\n    function set_focus() {\n        canvas.focus();\n        canvas_div.focus();\n    }\n\n    window.setTimeout(set_focus, 100);\n};\n\nmpl.figure.prototype._init_toolbar = function () {\n    var fig = this;\n\n    var toolbar = document.createElement('div');\n    toolbar.classList = 'mpl-toolbar';\n    this.root.appendChild(toolbar);\n\n    function on_click_closure(name) {\n        return function (_event) {\n            return fig.toolbar_button_onclick(name);\n        };\n    }\n\n    function on_mouseover_closure(tooltip) {\n        return function (event) {\n            if (!event.currentTarget.disabled) {\n                return fig.toolbar_button_onmouseover(tooltip);\n            }\n        };\n    }\n\n    fig.buttons = {};\n    var buttonGroup = document.createElement('div');\n    buttonGroup.classList = 'mpl-button-group';\n    for (var toolbar_ind in mpl.toolbar_items) {\n        var name = mpl.toolbar_items[toolbar_ind][0];\n        var tooltip = mpl.toolbar_items[toolbar_ind][1];\n        var image = mpl.toolbar_items[toolbar_ind][2];\n        var method_name = mpl.toolbar_items[toolbar_ind][3];\n\n        if (!name) {\n            /* Instead of a spacer, we start a new button group. */\n            if (buttonGroup.hasChildNodes()) {\n                toolbar.appendChild(buttonGroup);\n            }\n            buttonGroup = document.createElement('div');\n            buttonGroup.classList = 'mpl-button-group';\n            continue;\n        }\n\n        var button = (fig.buttons[name] = document.createElement('button'));\n        button.classList = 'mpl-widget';\n        button.setAttribute('role', 'button');\n        button.setAttribute('aria-disabled', 'false');\n        button.addEventListener('click', on_click_closure(method_name));\n        button.addEventListener('mouseover', on_mouseover_closure(tooltip));\n\n        var icon_img = document.createElement('img');\n        icon_img.src = '_images/' + image + '.png';\n        icon_img.srcset = '_images/' + image + '_large.png 2x';\n        icon_img.alt = tooltip;\n        button.appendChild(icon_img);\n\n        buttonGroup.appendChild(button);\n    }\n\n    if (buttonGroup.hasChildNodes()) {\n        toolbar.appendChild(buttonGroup);\n    }\n\n    var fmt_picker = document.createElement('select');\n    fmt_picker.classList = 'mpl-widget';\n    toolbar.appendChild(fmt_picker);\n    this.format_dropdown = fmt_picker;\n\n    for (var ind in mpl.extensions) {\n        var fmt = mpl.extensions[ind];\n        var option = document.createElement('option');\n        option.selected = fmt === mpl.default_extension;\n        option.innerHTML = fmt;\n        fmt_picker.appendChild(option);\n    }\n\n    var status_bar = document.createElement('span');\n    status_bar.classList = 'mpl-message';\n    toolbar.appendChild(status_bar);\n    this.message = status_bar;\n};\n\nmpl.figure.prototype.request_resize = function (x_pixels, y_pixels) {\n    // Request matplotlib to resize the figure. Matplotlib will then trigger a resize in the client,\n    // which will in turn request a refresh of the image.\n    this.send_message('resize', { width: x_pixels, height: y_pixels });\n};\n\nmpl.figure.prototype.send_message = function (type, properties) {\n    properties['type'] = type;\n    properties['figure_id'] = this.id;\n    this.ws.send(JSON.stringify(properties));\n};\n\nmpl.figure.prototype.send_draw_message = function () {\n    if (!this.waiting) {\n        this.waiting = true;\n        this.ws.send(JSON.stringify({ type: 'draw', figure_id: this.id }));\n    }\n};\n\nmpl.figure.prototype.handle_save = function (fig, _msg) {\n    var format_dropdown = fig.format_dropdown;\n    var format = format_dropdown.options[format_dropdown.selectedIndex].value;\n    fig.ondownload(fig, format);\n};\n\nmpl.figure.prototype.handle_resize = function (fig, msg) {\n    var size = msg['size'];\n    if (size[0] !== fig.canvas.width || size[1] !== fig.canvas.height) {\n        fig._resize_canvas(size[0], size[1], msg['forward']);\n        fig.send_message('refresh', {});\n    }\n};\n\nmpl.figure.prototype.handle_rubberband = function (fig, msg) {\n    var x0 = msg['x0'] / fig.ratio;\n    var y0 = (fig.canvas.height - msg['y0']) / fig.ratio;\n    var x1 = msg['x1'] / fig.ratio;\n    var y1 = (fig.canvas.height - msg['y1']) / fig.ratio;\n    x0 = Math.floor(x0) + 0.5;\n    y0 = Math.floor(y0) + 0.5;\n    x1 = Math.floor(x1) + 0.5;\n    y1 = Math.floor(y1) + 0.5;\n    var min_x = Math.min(x0, x1);\n    var min_y = Math.min(y0, y1);\n    var width = Math.abs(x1 - x0);\n    var height = Math.abs(y1 - y0);\n\n    fig.rubberband_context.clearRect(\n        0,\n        0,\n        fig.canvas.width / fig.ratio,\n        fig.canvas.height / fig.ratio\n    );\n\n    fig.rubberband_context.strokeRect(min_x, min_y, width, height);\n};\n\nmpl.figure.prototype.handle_figure_label = function (fig, msg) {\n    // Updates the figure title.\n    fig.header.textContent = msg['label'];\n};\n\nmpl.figure.prototype.handle_cursor = function (fig, msg) {\n    fig.canvas_div.style.cursor = msg['cursor'];\n};\n\nmpl.figure.prototype.handle_message = function (fig, msg) {\n    fig.message.textContent = msg['message'];\n};\n\nmpl.figure.prototype.handle_draw = function (fig, _msg) {\n    // Request the server to send over a new figure.\n    fig.send_draw_message();\n};\n\nmpl.figure.prototype.handle_image_mode = function (fig, msg) {\n    fig.image_mode = msg['mode'];\n};\n\nmpl.figure.prototype.handle_history_buttons = function (fig, msg) {\n    for (var key in msg) {\n        if (!(key in fig.buttons)) {\n            continue;\n        }\n        fig.buttons[key].disabled = !msg[key];\n        fig.buttons[key].setAttribute('aria-disabled', !msg[key]);\n    }\n};\n\nmpl.figure.prototype.handle_navigate_mode = function (fig, msg) {\n    if (msg['mode'] === 'PAN') {\n        fig.buttons['Pan'].classList.add('active');\n        fig.buttons['Zoom'].classList.remove('active');\n    } else if (msg['mode'] === 'ZOOM') {\n        fig.buttons['Pan'].classList.remove('active');\n        fig.buttons['Zoom'].classList.add('active');\n    } else {\n        fig.buttons['Pan'].classList.remove('active');\n        fig.buttons['Zoom'].classList.remove('active');\n    }\n};\n\nmpl.figure.prototype.updated_canvas_event = function () {\n    // Called whenever the canvas gets updated.\n    this.send_message('ack', {});\n};\n\n// A function to construct a web socket function for onmessage handling.\n// Called in the figure constructor.\nmpl.figure.prototype._make_on_message_function = function (fig) {\n    return function socket_on_message(evt) {\n        if (evt.data instanceof Blob) {\n            var img = evt.data;\n            if (img.type !== 'image/png') {\n                /* FIXME: We get \"Resource interpreted as Image but\n                 * transferred with MIME type text/plain:\" errors on\n                 * Chrome.  But how to set the MIME type?  It doesn't seem\n                 * to be part of the websocket stream */\n                img.type = 'image/png';\n            }\n\n            /* Free the memory for the previous frames */\n            if (fig.imageObj.src) {\n                (window.URL || window.webkitURL).revokeObjectURL(\n                    fig.imageObj.src\n                );\n            }\n\n            fig.imageObj.src = (window.URL || window.webkitURL).createObjectURL(\n                img\n            );\n            fig.updated_canvas_event();\n            fig.waiting = false;\n            return;\n        } else if (\n            typeof evt.data === 'string' &&\n            evt.data.slice(0, 21) === 'data:image/png;base64'\n        ) {\n            fig.imageObj.src = evt.data;\n            fig.updated_canvas_event();\n            fig.waiting = false;\n            return;\n        }\n\n        var msg = JSON.parse(evt.data);\n        var msg_type = msg['type'];\n\n        // Call the  \"handle_{type}\" callback, which takes\n        // the figure and JSON message as its only arguments.\n        try {\n            var callback = fig['handle_' + msg_type];\n        } catch (e) {\n            console.log(\n                \"No handler for the '\" + msg_type + \"' message type: \",\n                msg\n            );\n            return;\n        }\n\n        if (callback) {\n            try {\n                // console.log(\"Handling '\" + msg_type + \"' message: \", msg);\n                callback(fig, msg);\n            } catch (e) {\n                console.log(\n                    \"Exception inside the 'handler_\" + msg_type + \"' callback:\",\n                    e,\n                    e.stack,\n                    msg\n                );\n            }\n        }\n    };\n};\n\nfunction getModifiers(event) {\n    var mods = [];\n    if (event.ctrlKey) {\n        mods.push('ctrl');\n    }\n    if (event.altKey) {\n        mods.push('alt');\n    }\n    if (event.shiftKey) {\n        mods.push('shift');\n    }\n    if (event.metaKey) {\n        mods.push('meta');\n    }\n    return mods;\n}\n\n/*\n * return a copy of an object with only non-object keys\n * we need this to avoid circular references\n * https://stackoverflow.com/a/24161582/3208463\n */\nfunction simpleKeys(original) {\n    return Object.keys(original).reduce(function (obj, key) {\n        if (typeof original[key] !== 'object') {\n            obj[key] = original[key];\n        }\n        return obj;\n    }, {});\n}\n\nmpl.figure.prototype.mouse_event = function (event, name) {\n    if (name === 'button_press') {\n        this.canvas.focus();\n        this.canvas_div.focus();\n    }\n\n    // from https://stackoverflow.com/q/1114465\n    var boundingRect = this.canvas.getBoundingClientRect();\n    var x = (event.clientX - boundingRect.left) * this.ratio;\n    var y = (event.clientY - boundingRect.top) * this.ratio;\n\n    this.send_message(name, {\n        x: x,\n        y: y,\n        button: event.button,\n        step: event.step,\n        modifiers: getModifiers(event),\n        guiEvent: simpleKeys(event),\n    });\n\n    return false;\n};\n\nmpl.figure.prototype._key_event_extra = function (_event, _name) {\n    // Handle any extra behaviour associated with a key event\n};\n\nmpl.figure.prototype.key_event = function (event, name) {\n    // Prevent repeat events\n    if (name === 'key_press') {\n        if (event.key === this._key) {\n            return;\n        } else {\n            this._key = event.key;\n        }\n    }\n    if (name === 'key_release') {\n        this._key = null;\n    }\n\n    var value = '';\n    if (event.ctrlKey && event.key !== 'Control') {\n        value += 'ctrl+';\n    }\n    else if (event.altKey && event.key !== 'Alt') {\n        value += 'alt+';\n    }\n    else if (event.shiftKey && event.key !== 'Shift') {\n        value += 'shift+';\n    }\n\n    value += 'k' + event.key;\n\n    this._key_event_extra(event, name);\n\n    this.send_message(name, { key: value, guiEvent: simpleKeys(event) });\n    return false;\n};\n\nmpl.figure.prototype.toolbar_button_onclick = function (name) {\n    if (name === 'download') {\n        this.handle_save(this, null);\n    } else {\n        this.send_message('toolbar_button', { name: name });\n    }\n};\n\nmpl.figure.prototype.toolbar_button_onmouseover = function (tooltip) {\n    this.message.textContent = tooltip;\n};\n\n///////////////// REMAINING CONTENT GENERATED BY embed_js.py /////////////////\n// prettier-ignore\nvar _JSXTOOLS_RESIZE_OBSERVER=function(A){var t,i=new WeakMap,n=new WeakMap,a=new WeakMap,r=new WeakMap,o=new Set;function s(e){if(!(this instanceof s))throw new TypeError(\"Constructor requires 'new' operator\");i.set(this,e)}function h(){throw new TypeError(\"Function is not a constructor\")}function c(e,t,i,n){e=0 in arguments?Number(arguments[0]):0,t=1 in arguments?Number(arguments[1]):0,i=2 in arguments?Number(arguments[2]):0,n=3 in arguments?Number(arguments[3]):0,this.right=(this.x=this.left=e)+(this.width=i),this.bottom=(this.y=this.top=t)+(this.height=n),Object.freeze(this)}function d(){t=requestAnimationFrame(d);var s=new WeakMap,p=new Set;o.forEach((function(t){r.get(t).forEach((function(i){var r=t instanceof window.SVGElement,o=a.get(t),d=r?0:parseFloat(o.paddingTop),f=r?0:parseFloat(o.paddingRight),l=r?0:parseFloat(o.paddingBottom),u=r?0:parseFloat(o.paddingLeft),g=r?0:parseFloat(o.borderTopWidth),m=r?0:parseFloat(o.borderRightWidth),w=r?0:parseFloat(o.borderBottomWidth),b=u+f,F=d+l,v=(r?0:parseFloat(o.borderLeftWidth))+m,W=g+w,y=r?0:t.offsetHeight-W-t.clientHeight,E=r?0:t.offsetWidth-v-t.clientWidth,R=b+v,z=F+W,M=r?t.width:parseFloat(o.width)-R-E,O=r?t.height:parseFloat(o.height)-z-y;if(n.has(t)){var k=n.get(t);if(k[0]===M&&k[1]===O)return}n.set(t,[M,O]);var S=Object.create(h.prototype);S.target=t,S.contentRect=new c(u,d,M,O),s.has(i)||(s.set(i,[]),p.add(i)),s.get(i).push(S)}))})),p.forEach((function(e){i.get(e).call(e,s.get(e),e)}))}return s.prototype.observe=function(i){if(i instanceof window.Element){r.has(i)||(r.set(i,new Set),o.add(i),a.set(i,window.getComputedStyle(i)));var n=r.get(i);n.has(this)||n.add(this),cancelAnimationFrame(t),t=requestAnimationFrame(d)}},s.prototype.unobserve=function(i){if(i instanceof window.Element&&r.has(i)){var n=r.get(i);n.has(this)&&(n.delete(this),n.size||(r.delete(i),o.delete(i))),n.size||r.delete(i),o.size||cancelAnimationFrame(t)}},A.DOMRectReadOnly=c,A.ResizeObserver=s,A.ResizeObserverEntry=h,A}; // eslint-disable-line\nmpl.toolbar_items = [[\"Home\", \"Reset original view\", \"fa fa-home\", \"home\"], [\"Back\", \"Back to previous view\", \"fa fa-arrow-left\", \"back\"], [\"Forward\", \"Forward to next view\", \"fa fa-arrow-right\", \"forward\"], [\"\", \"\", \"\", \"\"], [\"Pan\", \"Left button pans, Right button zooms\\nx/y fixes axis, CTRL fixes aspect\", \"fa fa-arrows\", \"pan\"], [\"Zoom\", \"Zoom to rectangle\\nx/y fixes axis\", \"fa fa-square-o\", \"zoom\"], [\"\", \"\", \"\", \"\"], [\"Download\", \"Download plot\", \"fa fa-floppy-o\", \"download\"]];\n\nmpl.extensions = [\"eps\", \"jpeg\", \"pgf\", \"pdf\", \"png\", \"ps\", \"raw\", \"svg\", \"tif\", \"webp\"];\n\nmpl.default_extension = \"png\";/* global mpl */\n\nvar comm_websocket_adapter = function (comm) {\n    // Create a \"websocket\"-like object which calls the given IPython comm\n    // object with the appropriate methods. Currently this is a non binary\n    // socket, so there is still some room for performance tuning.\n    var ws = {};\n\n    ws.binaryType = comm.kernel.ws.binaryType;\n    ws.readyState = comm.kernel.ws.readyState;\n    function updateReadyState(_event) {\n        if (comm.kernel.ws) {\n            ws.readyState = comm.kernel.ws.readyState;\n        } else {\n            ws.readyState = 3; // Closed state.\n        }\n    }\n    comm.kernel.ws.addEventListener('open', updateReadyState);\n    comm.kernel.ws.addEventListener('close', updateReadyState);\n    comm.kernel.ws.addEventListener('error', updateReadyState);\n\n    ws.close = function () {\n        comm.close();\n    };\n    ws.send = function (m) {\n        //console.log('sending', m);\n        comm.send(m);\n    };\n    // Register the callback with on_msg.\n    comm.on_msg(function (msg) {\n        //console.log('receiving', msg['content']['data'], msg);\n        var data = msg['content']['data'];\n        if (data['blob'] !== undefined) {\n            data = {\n                data: new Blob(msg['buffers'], { type: data['blob'] }),\n            };\n        }\n        // Pass the mpl event to the overridden (by mpl) onmessage function.\n        ws.onmessage(data);\n    });\n    return ws;\n};\n\nmpl.mpl_figure_comm = function (comm, msg) {\n    // This is the function which gets called when the mpl process\n    // starts-up an IPython Comm through the \"matplotlib\" channel.\n\n    var id = msg.content.data.id;\n    // Get hold of the div created by the display call when the Comm\n    // socket was opened in Python.\n    var element = document.getElementById(id);\n    var ws_proxy = comm_websocket_adapter(comm);\n\n    function ondownload(figure, _format) {\n        window.open(figure.canvas.toDataURL());\n    }\n\n    var fig = new mpl.figure(id, ws_proxy, ondownload, element);\n\n    // Call onopen now - mpl needs it, as it is assuming we've passed it a real\n    // web socket which is closed, not our websocket->open comm proxy.\n    ws_proxy.onopen();\n\n    fig.parent_element = element;\n    fig.cell_info = mpl.find_output_cell(\"<div id='\" + id + \"'></div>\");\n    if (!fig.cell_info) {\n        console.error('Failed to find cell for figure', id, fig);\n        return;\n    }\n    fig.cell_info[0].output_area.element.on(\n        'cleared',\n        { fig: fig },\n        fig._remove_fig_handler\n    );\n};\n\nmpl.figure.prototype.handle_close = function (fig, msg) {\n    var width = fig.canvas.width / fig.ratio;\n    fig.cell_info[0].output_area.element.off(\n        'cleared',\n        fig._remove_fig_handler\n    );\n    fig.resizeObserverInstance.unobserve(fig.canvas_div);\n\n    // Update the output cell to use the data from the current canvas.\n    fig.push_to_output();\n    var dataURL = fig.canvas.toDataURL();\n    // Re-enable the keyboard manager in IPython - without this line, in FF,\n    // the notebook keyboard shortcuts fail.\n    IPython.keyboard_manager.enable();\n    fig.parent_element.innerHTML =\n        '<img src=\"' + dataURL + '\" width=\"' + width + '\">';\n    fig.close_ws(fig, msg);\n};\n\nmpl.figure.prototype.close_ws = function (fig, msg) {\n    fig.send_message('closing', msg);\n    // fig.ws.close()\n};\n\nmpl.figure.prototype.push_to_output = function (_remove_interactive) {\n    // Turn the data on the canvas into data in the output cell.\n    var width = this.canvas.width / this.ratio;\n    var dataURL = this.canvas.toDataURL();\n    this.cell_info[1]['text/html'] =\n        '<img src=\"' + dataURL + '\" width=\"' + width + '\">';\n};\n\nmpl.figure.prototype.updated_canvas_event = function () {\n    // Tell IPython that the notebook contents must change.\n    IPython.notebook.set_dirty(true);\n    this.send_message('ack', {});\n    var fig = this;\n    // Wait a second, then push the new image to the DOM so\n    // that it is saved nicely (might be nice to debounce this).\n    setTimeout(function () {\n        fig.push_to_output();\n    }, 1000);\n};\n\nmpl.figure.prototype._init_toolbar = function () {\n    var fig = this;\n\n    var toolbar = document.createElement('div');\n    toolbar.classList = 'btn-toolbar';\n    this.root.appendChild(toolbar);\n\n    function on_click_closure(name) {\n        return function (_event) {\n            return fig.toolbar_button_onclick(name);\n        };\n    }\n\n    function on_mouseover_closure(tooltip) {\n        return function (event) {\n            if (!event.currentTarget.disabled) {\n                return fig.toolbar_button_onmouseover(tooltip);\n            }\n        };\n    }\n\n    fig.buttons = {};\n    var buttonGroup = document.createElement('div');\n    buttonGroup.classList = 'btn-group';\n    var button;\n    for (var toolbar_ind in mpl.toolbar_items) {\n        var name = mpl.toolbar_items[toolbar_ind][0];\n        var tooltip = mpl.toolbar_items[toolbar_ind][1];\n        var image = mpl.toolbar_items[toolbar_ind][2];\n        var method_name = mpl.toolbar_items[toolbar_ind][3];\n\n        if (!name) {\n            /* Instead of a spacer, we start a new button group. */\n            if (buttonGroup.hasChildNodes()) {\n                toolbar.appendChild(buttonGroup);\n            }\n            buttonGroup = document.createElement('div');\n            buttonGroup.classList = 'btn-group';\n            continue;\n        }\n\n        button = fig.buttons[name] = document.createElement('button');\n        button.classList = 'btn btn-default';\n        button.href = '#';\n        button.title = name;\n        button.innerHTML = '<i class=\"fa ' + image + ' fa-lg\"></i>';\n        button.addEventListener('click', on_click_closure(method_name));\n        button.addEventListener('mouseover', on_mouseover_closure(tooltip));\n        buttonGroup.appendChild(button);\n    }\n\n    if (buttonGroup.hasChildNodes()) {\n        toolbar.appendChild(buttonGroup);\n    }\n\n    // Add the status bar.\n    var status_bar = document.createElement('span');\n    status_bar.classList = 'mpl-message pull-right';\n    toolbar.appendChild(status_bar);\n    this.message = status_bar;\n\n    // Add the close button to the window.\n    var buttongrp = document.createElement('div');\n    buttongrp.classList = 'btn-group inline pull-right';\n    button = document.createElement('button');\n    button.classList = 'btn btn-mini btn-primary';\n    button.href = '#';\n    button.title = 'Stop Interaction';\n    button.innerHTML = '<i class=\"fa fa-power-off icon-remove icon-large\"></i>';\n    button.addEventListener('click', function (_evt) {\n        fig.handle_close(fig, {});\n    });\n    button.addEventListener(\n        'mouseover',\n        on_mouseover_closure('Stop Interaction')\n    );\n    buttongrp.appendChild(button);\n    var titlebar = this.root.querySelector('.ui-dialog-titlebar');\n    titlebar.insertBefore(buttongrp, titlebar.firstChild);\n};\n\nmpl.figure.prototype._remove_fig_handler = function (event) {\n    var fig = event.data.fig;\n    if (event.target !== this) {\n        // Ignore bubbled events from children.\n        return;\n    }\n    fig.close_ws(fig, {});\n};\n\nmpl.figure.prototype._root_extra_style = function (el) {\n    el.style.boxSizing = 'content-box'; // override notebook setting of border-box.\n};\n\nmpl.figure.prototype._canvas_extra_style = function (el) {\n    // this is important to make the div 'focusable\n    el.setAttribute('tabindex', 0);\n    // reach out to IPython and tell the keyboard manager to turn it's self\n    // off when our div gets focus\n\n    // location in version 3\n    if (IPython.notebook.keyboard_manager) {\n        IPython.notebook.keyboard_manager.register_events(el);\n    } else {\n        // location in version 2\n        IPython.keyboard_manager.register_events(el);\n    }\n};\n\nmpl.figure.prototype._key_event_extra = function (event, _name) {\n    // Check for shift+enter\n    if (event.shiftKey && event.which === 13) {\n        this.canvas_div.blur();\n        // select the cell after this one\n        var index = IPython.notebook.find_cell_index(this.cell_info[0]);\n        IPython.notebook.select(index + 1);\n    }\n};\n\nmpl.figure.prototype.handle_save = function (fig, _msg) {\n    fig.ondownload(fig, null);\n};\n\nmpl.find_output_cell = function (html_output) {\n    // Return the cell and output element which can be found *uniquely* in the notebook.\n    // Note - this is a bit hacky, but it is done because the \"notebook_saving.Notebook\"\n    // IPython event is triggered only after the cells have been serialised, which for\n    // our purposes (turning an active figure into a static one), is too late.\n    var cells = IPython.notebook.get_cells();\n    var ncells = cells.length;\n    for (var i = 0; i < ncells; i++) {\n        var cell = cells[i];\n        if (cell.cell_type === 'code') {\n            for (var j = 0; j < cell.output_area.outputs.length; j++) {\n                var data = cell.output_area.outputs[j];\n                if (data.data) {\n                    // IPython >= 3 moved mimebundle to data attribute of output\n                    data = data.data;\n                }\n                if (data['text/html'] === html_output) {\n                    return [cell, data, j];\n                }\n            }\n        }\n    }\n};\n\n// Register the function which deals with the matplotlib target/channel.\n// The kernel may be null if the page has been refreshed.\nif (IPython.notebook.kernel !== null) {\n    IPython.notebook.kernel.comm_manager.register_target(\n        'matplotlib',\n        mpl.mpl_figure_comm\n    );\n}\n",
      "text/plain": [
       "<IPython.core.display.Javascript object>"
      ]
     },
     "metadata": {},
     "output_type": "display_data"
    },
    {
     "data": {
      "text/html": [
       "<div id='759b3676-d918-481a-b826-22cfc463d073'></div>"
      ],
      "text/plain": [
       "<IPython.core.display.HTML object>"
      ]
     },
     "metadata": {},
     "output_type": "display_data"
    }
   ],
   "source": [
    "%matplotlib notebook\n",
    "\n",
    "import matplotlib.pyplot as plt\n",
    "\n",
    "camera_points = objectPoints_camera\n",
    "# Create a 3D plot\n",
    "fig = plt.figure()\n",
    "ax = fig.add_subplot(111, projection=\"3d\")\n",
    "\n",
    "# Plot world points in green\n",
    "ax.scatter(world_points[:, 0], world_points[:, 1], world_points[:, 2], c=\"green\")\n",
    "\n",
    "# Plot camera points in red\n",
    "ax.scatter(camera_points[:, 0], camera_points[:, 1], camera_points[:, 2], c=\"red\")\n",
    "\n",
    "\n",
    "camera_position = -tvec\n",
    "# The camera orientation is the third column of the rotation matrix (or the third row, depending on the convention used).\n",
    "camera_orientation = (\n",
    "    projection_matrix[:, 2]\n",
    "    if projection_matrix.shape[0] == 3\n",
    "    else projection_matrix[2, :]\n",
    ")\n",
    "\n",
    "# Plot camera as an arrow\n",
    "ax.quiver(\n",
    "    camera_position[0],\n",
    "    camera_position[1],\n",
    "    camera_position[2],\n",
    "    camera_orientation[2],\n",
    "    camera_orientation[1],\n",
    "    camera_orientation[0],\n",
    "    length=1000.0,\n",
    "    color=\"blue\",\n",
    ")\n",
    "\n",
    "# Adding labels\n",
    "ax.set_xlabel(\"X\")\n",
    "ax.set_ylabel(\"Y\")\n",
    "ax.set_zlabel(\"Z\")\n",
    "\n",
    "# Show the plot\n",
    "plt.show()"
   ]
  },
  {
   "cell_type": "code",
   "execution_count": 27,
   "metadata": {},
   "outputs": [
    {
     "data": {
      "text/plain": [
       "array([[-2093.20904117],\n",
       "       [ -644.60521486],\n",
       "       [  650.60182588]])"
      ]
     },
     "execution_count": 27,
     "metadata": {},
     "output_type": "execute_result"
    }
   ],
   "source": [
    "tvec"
   ]
  },
  {
   "cell_type": "code",
   "execution_count": 172,
   "metadata": {},
   "outputs": [
    {
     "data": {
      "image/png": "[encoded data removed]",
      "text/plain": [
       "<Figure size 640x480 with 1 Axes>"
      ]
     },
     "metadata": {},
     "output_type": "display_data"
    }
   ],
   "source": [
    "import matplotlib.pyplot as plt\n",
    "\n",
    "# Transform object points\n",
    "objectPoints = world_points.numpy()\n",
    "objectPoints_transformed = objectPoints  # np.dot(projection_matrix[:3,:3], objectPoints.T).T + projection_matrix[:3,3]\n",
    "\n",
    "# Get camera direction from rotation matrix\n",
    "camera_direction = -projection_matrix[\n",
    "    :, 2\n",
    "]  # In OpenGL convention, camera is looking down the negative z-axis\n",
    "\n",
    "# Create a new figure and add a 3D subplot\n",
    "fig = plt.figure()\n",
    "ax = fig.add_subplot(111, projection=\"3d\")\n",
    "\n",
    "# Plot the transformed object points\n",
    "ax.scatter(\n",
    "    objectPoints_transformed[:, 0],\n",
    "    objectPoints_transformed[:, 1],\n",
    "    objectPoints_transformed[:, 2],\n",
    "    c=\"b\",\n",
    "    marker=\"o\",\n",
    ")\n",
    "\n",
    "# Plot the camera location as a red arrow\n",
    "ax.quiver(\n",
    "    translation_xyz[0],\n",
    "    translation_xyz[1],\n",
    "    translation_xyz[2],\n",
    "    camera_direction[0],\n",
    "    camera_direction[1],\n",
    "    camera_direction[2],\n",
    "    color=\"r\",\n",
    "    length=100.5,\n",
    ")\n",
    "\n",
    "# Add labels to the axes\n",
    "ax.set_xlabel(\"X\")\n",
    "ax.set_ylabel(\"Y\")\n",
    "ax.set_zlabel(\"Z\")\n",
    "\n",
    "plt.show()"
   ]
  },
  {
   "cell_type": "code",
   "execution_count": 49,
   "metadata": {},
   "outputs": [
    {
     "data": {
      "text/plain": [
       "array([ 5.02635904e+02, -2.13946340e+03,  1.71047864e+00])"
      ]
     },
     "execution_count": 49,
     "metadata": {},
     "output_type": "execute_result"
    }
   ],
   "source": [
    "translation_xyz"
   ]
  },
  {
   "cell_type": "code",
   "execution_count": 29,
   "metadata": {},
   "outputs": [],
   "source": [
    "# Define the 3D point in homogeneous coordinates\n",
    "# P_hom = np.array([[X], [Y], [Z], [1]], dtype=np.float32)\n",
    "\n",
    "# # Project the 3D point to the image plane using the projection matrix\n",
    "# P_proj_hom = np.dot(P, P_hom)\n",
    "\n",
    "# # Normalize the image coordinates\n",
    "# P_proj = P_proj_hom[:2] / P_proj_hom[2]\n",
    "\n",
    "# # Print the projected point on the image plane\n",
    "# print(\"Projected point:\", P_proj)"
   ]
  },
  {
   "cell_type": "code",
   "execution_count": null,
   "metadata": {},
   "outputs": [],
   "source": [
    "rr.log_extension_components"
   ]
  },
  {
   "cell_type": "code",
   "execution_count": 37,
   "metadata": {},
   "outputs": [
    {
     "name": "stdout",
     "output_type": "stream",
     "text": [
      "torch.Size([1, 16, 3]) torch.Size([1, 12, 2]) torch.Size([1, 3, 3])\n"
     ]
    },
    {
     "ename": "error",
     "evalue": "OpenCV(4.5.5) /Users/xperience/actions-runner/_work/opencv-python/opencv-python/opencv/modules/calib3d/src/solvepnp.cpp:833: error: (-215:Assertion failed) ( (npoints >= 4) || (npoints == 3 && flags == SOLVEPNP_ITERATIVE && useExtrinsicGuess) || (npoints >= 3 && flags == SOLVEPNP_SQPNP) ) && npoints == std::max(ipoints.checkVector(2, CV_32F), ipoints.checkVector(2, CV_64F)) in function 'solvePnPGeneric'\n",
     "output_type": "error",
     "traceback": [
      "\u001b[0;31m---------------------------------------------------------------------------\u001b[0m",
      "\u001b[0;31merror\u001b[0m                                     Traceback (most recent call last)",
      "Cell \u001b[0;32mIn[37], line 52\u001b[0m\n\u001b[1;32m     48\u001b[0m \u001b[39mimport\u001b[39;00m \u001b[39mnumpy\u001b[39;00m \u001b[39mas\u001b[39;00m \u001b[39mnp\u001b[39;00m\n\u001b[1;32m     50\u001b[0m dist_coeffs \u001b[39m=\u001b[39m np\u001b[39m.\u001b[39marray([\u001b[39m0\u001b[39m, \u001b[39m0\u001b[39m, \u001b[39m0\u001b[39m, \u001b[39m0\u001b[39m, \u001b[39m0\u001b[39m], dtype\u001b[39m=\u001b[39mnp\u001b[39m.\u001b[39mfloat32)\n\u001b[0;32m---> 52\u001b[0m success, rvec, tvec \u001b[39m=\u001b[39m cv2\u001b[39m.\u001b[39;49msolvePnP(\n\u001b[1;32m     53\u001b[0m     world_points\u001b[39m.\u001b[39;49mnumpy(),\n\u001b[1;32m     54\u001b[0m     img_points_N\u001b[39m.\u001b[39;49mnumpy(),\n\u001b[1;32m     55\u001b[0m     intrinsics\u001b[39m.\u001b[39;49msqueeze(\u001b[39m0\u001b[39;49m)\u001b[39m.\u001b[39;49mnumpy(),\n\u001b[1;32m     56\u001b[0m     dist_coeffs,\n\u001b[1;32m     57\u001b[0m     flags\u001b[39m=\u001b[39;49mcv2\u001b[39m.\u001b[39;49mSOLVEPNP_ITERATIVE,\n\u001b[1;32m     58\u001b[0m     useExtrinsicGuess\u001b[39m=\u001b[39;49m\u001b[39mFalse\u001b[39;49;00m,\n\u001b[1;32m     59\u001b[0m     \n\u001b[1;32m     60\u001b[0m )\n\u001b[1;32m     61\u001b[0m \u001b[39mprint\u001b[39m(\u001b[39mf\u001b[39m\u001b[39m\"\u001b[39m\u001b[39m{\u001b[39;00msuccess\u001b[39m=}\u001b[39;00m\u001b[39m\"\u001b[39m)\n\u001b[1;32m     62\u001b[0m \u001b[39m# Convert rotation vector to rotation matrix\u001b[39;00m\n",
      "\u001b[0;31merror\u001b[0m: OpenCV(4.5.5) /Users/xperience/actions-runner/_work/opencv-python/opencv-python/opencv/modules/calib3d/src/solvepnp.cpp:833: error: (-215:Assertion failed) ( (npoints >= 4) || (npoints == 3 && flags == SOLVEPNP_ITERATIVE && useExtrinsicGuess) || (npoints >= 3 && flags == SOLVEPNP_SQPNP) ) && npoints == std::max(ipoints.checkVector(2, CV_32F), ipoints.checkVector(2, CV_64F)) in function 'solvePnPGeneric'\n"
     ]
    }
   ],
   "source": [
    "import torch\n",
    "import kornia\n",
    "from courtvision.geometry import corners_world_3d\n",
    "\n",
    "#  REF https://ksimek.github.io/2013/08/13/intrinsic/\n",
    "world_points = torch.tensor(\n",
    "    convert_corners_to_coords(corners_world_3d), dtype=torch.float64\n",
    ").unsqueeze(0)\n",
    "\n",
    "img_points = torch.tensor(\n",
    "    convert_corners_to_coords(corners_image), dtype=torch.float64\n",
    ").unsqueeze(0)\n",
    "# print(f\"{img_points=}\")\n",
    "from kornia.geometry.conversions import (\n",
    "    normalize_pixel_coordinates,\n",
    "    denormalize_pixel_coordinates,\n",
    "    normalize_pixel_coordinates3d,\n",
    ")\n",
    "\n",
    "img_points_N = normalize_pixel_coordinates(img_points, width=1280, height=720)\n",
    "img_points_d = denormalize_pixel_coordinates(img_points_N, width=1280, height=720)\n",
    "# print(f\"{img_points_d=}\")\n",
    "fx = 1000\n",
    "fy = 1000\n",
    "cy = 720 / 2\n",
    "\n",
    "cx = 1280 / 2\n",
    "\n",
    "\n",
    "intrinsics = torch.tensor(\n",
    "    [\n",
    "        [\n",
    "            [fx, 0.0, cx],\n",
    "            [0.0, fy, cy],\n",
    "            [0.0, 0.0, 1.0],\n",
    "        ]\n",
    "    ],\n",
    "    dtype=torch.float64,\n",
    ")\n",
    "\n",
    "print(world_points.shape, img_points.shape, intrinsics.shape)\n",
    "# torch.Size([1, 6, 3]) torch.Size([1, 6, 2]) torch.Size([1, 3, 3])\n",
    "world_points_N = normalize_pixel_coordinates3d(\n",
    "    world_points, depth=2000.0, height=300.0, width=1000.0\n",
    ")\n",
    "# Solve PnP\n",
    "import cv2\n",
    "import numpy as np\n",
    "\n",
    "dist_coeffs = np.array([0, 0, 0, 0, 0], dtype=np.float32)\n",
    "\n",
    "success, rvec, tvec = cv2.solvePnP(\n",
    "    world_points.numpy(),\n",
    "    img_points_N.numpy(),\n",
    "    intrinsics.squeeze(0).numpy(),\n",
    "    dist_coeffs,\n",
    "    flags=cv2.SOLVEPNP_ITERATIVE,\n",
    "    useExtrinsicGuess=False,\n",
    ")\n",
    "print(f\"{success=}\")\n",
    "# Convert rotation vector to rotation matrix\n",
    "rmat, _ = cv2.Rodrigues(rvec)\n",
    "\n",
    "# Concatenate rotation matrix and translation vector to create a 3x4 transformation matrix\n",
    "transformation_matrix = np.hstack((rmat, tvec))\n",
    "print(f\"{transformation_matrix=}\")\n",
    "#    {rvec=} {tvec=}\")\n",
    "pred_world_to_cam = kornia.geometry.solve_pnp_dlt(\n",
    "    world_points_N, img_points_N, intrinsics, svd_eps=0.0000000001\n",
    ")\n",
    "\n",
    "# print(pred_world_to_cam.shape)\n",
    "print(f\"{pred_world_to_cam=}\")\n",
    "# torch.Size([1, 3, 4])\n",
    "\n",
    "# pred_world_to_cam\n",
    "# world_points_N"
   ]
  },
  {
   "cell_type": "code",
   "execution_count": 33,
   "metadata": {},
   "outputs": [
    {
     "name": "stdout",
     "output_type": "stream",
     "text": [
      "1.0996793425628677\n"
     ]
    },
    {
     "data": {
      "text/plain": [
       "0.7312957762435465"
      ]
     },
     "execution_count": 33,
     "metadata": {},
     "output_type": "execute_result"
    }
   ],
   "source": [
    "import numpy as np\n",
    "\n",
    "\n",
    "def calculate_reprojection_error_using_projection_matrix(\n",
    "    objpoints, imgpoints, projection_matrix\n",
    "):\n",
    "    mean_error = 0\n",
    "    for i in range(len(objpoints)):\n",
    "        # convert the object point to homogeneous coordinates\n",
    "        objpoint_homogeneous = np.hstack((objpoints[i], 1))\n",
    "        # project the object point\n",
    "        imgpoint_projected_homogeneous = np.dot(projection_matrix, objpoint_homogeneous)\n",
    "        # convert the projected point from homogeneous to cartesian coordinates\n",
    "        imgpoint_projected = (\n",
    "            imgpoint_projected_homogeneous[:2] / imgpoint_projected_homogeneous[2]\n",
    "        )\n",
    "        # calculate the error\n",
    "        error = np.linalg.norm(imgpoints[i] - imgpoint_projected)\n",
    "        mean_error += error\n",
    "    return mean_error / len(objpoints)\n",
    "\n",
    "\n",
    "print(\n",
    "    calculate_reprojection_error_using_projection_matrix(\n",
    "        world_points_N.squeeze(0).numpy(),\n",
    "        img_points_N.squeeze(0).numpy(),\n",
    "        pred_world_to_cam.squeeze(0).numpy(),\n",
    "    )\n",
    ")\n",
    "calculate_reprojection_error_using_projection_matrix(\n",
    "    world_points_N.squeeze(0).numpy(),\n",
    "    img_points_N.squeeze(0).numpy(),\n",
    "    transformation_matrix,\n",
    ")"
   ]
  },
  {
   "cell_type": "code",
   "execution_count": 155,
   "metadata": {},
   "outputs": [
    {
     "data": {
      "text/plain": [
       "torch.Size([1, 1, 3, 3])"
      ]
     },
     "execution_count": 155,
     "metadata": {},
     "output_type": "execute_result"
    }
   ],
   "source": [
    "import numpy as np\n",
    "import cv2\n",
    "\n",
    "# Assume you have the following required variables\n",
    "# mtx: Camera matrix\n",
    "# dist: Distortion coefficients\n",
    "# rvecs: Rotation vectors\n",
    "# tvecs: Translation vectors\n",
    "# objpoints: 3d point in real world space\n",
    "# imgpoints: 2d points in image plane\n",
    "\n",
    "\n",
    "def calculate_reprojection_error(objpoints, imgpoints, rvecs, tvecs, mtx, dist):\n",
    "    mean_error = 0\n",
    "    for i in range(len(objpoints)):\n",
    "        imgpoints2, _ = cv2.projectPoints(objpoints[i], rvecs[i], tvecs[i], mtx, dist)\n",
    "        error = cv2.norm(imgpoints[i], imgpoints2, cv2.NORM_L2) / len(imgpoints2)\n",
    "        mean_error += error\n",
    "    return mean_error / len(objpoints)\n",
    "\n",
    "\n",
    "reprojection_error = calculate_reprojection_error(\n",
    "    world_points_N.numpy(), img_points_N.numpy(), rvecs, tvecs, mtx, dist\n",
    ")\n",
    "\n",
    "print(\"reprojection error: \", reprojection_error)"
   ]
  },
  {
   "cell_type": "code",
   "execution_count": 160,
   "metadata": {},
   "outputs": [
    {
     "data": {
      "text/plain": [
       "(array([[-1939726.92634732],\n",
       "        [-1090176.10143233],\n",
       "        [ 2426190.30146557]]),\n",
       " array([[ 1.73129197],\n",
       "        [-0.4755916 ],\n",
       "        [ 1.13913989]]))"
      ]
     },
     "execution_count": 160,
     "metadata": {},
     "output_type": "execute_result"
    }
   ],
   "source": [
    "tvec, rvec"
   ]
  },
  {
   "cell_type": "code",
   "execution_count": 143,
   "metadata": {},
   "outputs": [
    {
     "data": {
      "text/plain": [
       "torch.Size([1, 3, 4])"
      ]
     },
     "execution_count": 143,
     "metadata": {},
     "output_type": "execute_result"
    }
   ],
   "source": [
    "pred_world_to_cam.shape"
   ]
  },
  {
   "cell_type": "code",
   "execution_count": 136,
   "metadata": {},
   "outputs": [],
   "source": [
    "tracker = Tracker(num_particles=1000, world_to_cam=pred_world_to_cam)"
   ]
  },
  {
   "cell_type": "code",
   "execution_count": 137,
   "metadata": {},
   "outputs": [
    {
     "data": {
      "text/plain": [
       "tensor([[[-5.8979e-01,  7.1178e-01, -3.8146e-01,  9.6423e+02],\n",
       "         [-3.3216e-01,  2.1675e-01,  9.1798e-01,  5.4303e+02],\n",
       "         [ 7.3609e-01,  6.6812e-01,  1.0859e-01, -1.2034e+03]]])"
      ]
     },
     "execution_count": 137,
     "metadata": {},
     "output_type": "execute_result"
    }
   ],
   "source": [
    "tracker.H.to(dtype=torch.float32)"
   ]
  },
  {
   "cell_type": "code",
   "execution_count": 148,
   "metadata": {},
   "outputs": [
    {
     "data": {
      "text/plain": [
       "(tensor([[-0.8005, -0.4500],\n",
       "         [-0.8005, -0.4500],\n",
       "         [-0.8005, -0.4500],\n",
       "         ...,\n",
       "         [-0.8005, -0.4500],\n",
       "         [-0.8005, -0.4500],\n",
       "         [-0.8005, -0.4500]]),\n",
       " tensor([[[-0.9998, -0.9976],\n",
       "          [-0.9986, -0.9975],\n",
       "          [-0.9995, -0.9992],\n",
       "          [-0.9989, -0.9992],\n",
       "          [-0.9997, -0.9980],\n",
       "          [-0.9987, -0.9980],\n",
       "          [-0.9995, -0.9990],\n",
       "          [-0.9989, -0.9990],\n",
       "          [-0.9999, -0.9986],\n",
       "          [-0.9986, -0.9986],\n",
       "          [-0.9995, -0.9998],\n",
       "          [-0.9989, -0.9981]]], dtype=torch.float64))"
      ]
     },
     "execution_count": 148,
     "metadata": {},
     "output_type": "execute_result"
    }
   ],
   "source": [
    "obs_in_image = torch.tensor([[1.0, 1.0]]).repeat(1000, 1)\n",
    "[0.8944, 0.8864],\n",
    "from kornia.geometry.conversions import normalize_homography3d\n",
    "\n",
    "tracker.set_states_to(torch.tensor([-1.0, -1.0, -1.0]))\n",
    "dd = Tracker.state_to_observation(\n",
    "    tracker.states, tracker.H.to(dtype=torch.float32).squeeze(0)\n",
    ")\n",
    "dd, img_points_N"
   ]
  },
  {
   "cell_type": "code",
   "execution_count": 145,
   "metadata": {},
   "outputs": [
    {
     "data": {
      "text/plain": [
       "tensor([[-0.8012, -0.4512],\n",
       "        [-0.8012, -0.4512],\n",
       "        [-0.8012, -0.4512],\n",
       "        ...,\n",
       "        [-0.8012, -0.4512],\n",
       "        [-0.8012, -0.4512],\n",
       "        [-0.8012, -0.4512]])"
      ]
     },
     "execution_count": 145,
     "metadata": {},
     "output_type": "execute_result"
    }
   ],
   "source": [
    "dd"
   ]
  },
  {
   "cell_type": "code",
   "execution_count": 109,
   "metadata": {},
   "outputs": [
    {
     "data": {
      "text/plain": [
       "tensor(0.0870, dtype=torch.float64)"
      ]
     },
     "execution_count": 109,
     "metadata": {},
     "output_type": "execute_result"
    }
   ],
   "source": [
    "img_points.min()"
   ]
  },
  {
   "cell_type": "code",
   "execution_count": 150,
   "metadata": {},
   "outputs": [
    {
     "name": "stdout",
     "output_type": "stream",
     "text": [
      "success=True rvec=array([[0.],\n",
      "       [0.],\n",
      "       [0.]]) tvec=array([[-31.75634152],\n",
      "       [-23.55795647],\n",
      "       [ 51.23990293]])\n"
     ]
    }
   ],
   "source": [
    "import cv2\n",
    "import numpy as np\n",
    "\n",
    "# 3D object points in world coordinates\n",
    "object_points = np.array([[0, 0, 0], [1, 0, 0], [0, 1, 0], [1, 1, 0]], dtype=np.float32)\n",
    "\n",
    "# 2D image points in image coordinates\n",
    "image_points = np.array([[10, 10], [20, 10], [10, 20], [20, 20]], dtype=np.float32)\n",
    "\n",
    "# Camera intrinsic matrix (fx, fy, cx, cy)\n",
    "camera_matrix = np.array([[500, 0, 320], [0, 500, 240], [0, 0, 1]], dtype=np.float32)\n",
    "\n",
    "# Distortion coefficients (k1, k2, p1, p2, k3)\n",
    "dist_coeffs = np.array([0, 0, 0, 0, 0], dtype=np.float32)\n",
    "\n",
    "# Solve PnP\n",
    "success, rvec, tvec = cv2.solvePnP(\n",
    "    object_points, image_points, camera_matrix, dist_coeffs, flags=cv2.SOLVEPNP_UPNP\n",
    ")\n",
    "print(f\"{success=} {rvec=} {tvec=}\")"
   ]
  },
  {
   "cell_type": "code",
   "execution_count": 77,
   "metadata": {},
   "outputs": [
    {
     "data": {
      "text/plain": [
       "True"
      ]
     },
     "execution_count": 77,
     "metadata": {},
     "output_type": "execute_result"
    }
   ],
   "source": [
    "repo_erro, camera_matrix, dist_coeffs, *_ = cv2.calibrateCamera(\n",
    "    objectPoints=[world_points.squeeze(0).numpy().astype(np.float32)[:-4]],\n",
    "    imagePoints=[img_points.squeeze(0).numpy().astype(np.float32)[:-4]],\n",
    "    imageSize=(1280, 720),\n",
    "    cameraMatrix=None,\n",
    "    distCoeffs=None,\n",
    ")\n",
    "dist_coeffs\n",
    "repo_erro > 1e-2"
   ]
  },
  {
   "cell_type": "code",
   "execution_count": 70,
   "metadata": {},
   "outputs": [
    {
     "data": {
      "text/plain": [
       "(1, 12, 3)"
      ]
     },
     "execution_count": 70,
     "metadata": {},
     "output_type": "execute_result"
    }
   ],
   "source": [
    "world_points.numpy().shape"
   ]
  },
  {
   "cell_type": "code",
   "execution_count": 66,
   "metadata": {},
   "outputs": [
    {
     "data": {
      "text/plain": [
       "[array([[   0.,    0.,    0.],\n",
       "        [1000.,    0.,    0.],\n",
       "        [   0., 2000.,    0.],\n",
       "        [1000., 2000.,    0.],\n",
       "        [   0.,  200.,    0.],\n",
       "        [1000.,  200.,    0.],\n",
       "        [   0., 1800.,    0.],\n",
       "        [1000., 1800.,    0.]], dtype=float32)]"
      ]
     },
     "execution_count": 66,
     "metadata": {},
     "output_type": "execute_result"
    }
   ],
   "source": [
    "[world_points.squeeze(0).numpy().astype(np.float32)[:-4]]"
   ]
  },
  {
   "cell_type": "code",
   "execution_count": 170,
   "metadata": {},
   "outputs": [
    {
     "ename": "TypeError",
     "evalue": "'str' object cannot be interpreted as an integer",
     "output_type": "error",
     "traceback": [
      "\u001b[0;31m---------------------------------------------------------------------------\u001b[0m",
      "\u001b[0;31mTypeError\u001b[0m                                 Traceback (most recent call last)",
      "Cell \u001b[0;32mIn[170], line 4\u001b[0m\n\u001b[1;32m      2\u001b[0m line \u001b[39m=\u001b[39m \u001b[39m'\u001b[39m\u001b[39mAll work and no play makes Jack a dull boy\u001b[39m\u001b[39m'\u001b[39m\n\u001b[1;32m      3\u001b[0m \u001b[39mimport\u001b[39;00m \u001b[39mjson\u001b[39;00m\n\u001b[0;32m----> 4\u001b[0m \u001b[39mprint\u001b[39m(json\u001b[39m.\u001b[39mdumps([{\u001b[39mf\u001b[39m\u001b[39m\"\u001b[39m\u001b[39mline \u001b[39m\u001b[39m{\u001b[39;00mline_num\u001b[39m:\u001b[39;00m\u001b[39m04d\u001b[39m\u001b[39m}\u001b[39;00m\u001b[39m\"\u001b[39m: line} \u001b[39mfor\u001b[39;00m line_num \u001b[39min\u001b[39;00m \u001b[39mrange\u001b[39;49m(count)], indent\u001b[39m=\u001b[39m\u001b[39m2\u001b[39m))\n",
      "\u001b[0;31mTypeError\u001b[0m: 'str' object cannot be interpreted as an integer"
     ]
    }
   ],
   "source": []
  },
  {
   "cell_type": "code",
   "execution_count": 28,
   "metadata": {},
   "outputs": [
    {
     "name": "stdout",
     "output_type": "stream",
     "text": [
      "else\n",
      "finally\n"
     ]
    }
   ],
   "source": []
  },
  {
   "cell_type": "code",
   "execution_count": null,
   "metadata": {},
   "outputs": [],
   "source": []
  }
 ],
 "metadata": {
  "kernelspec": {
   "display_name": ".venv",
   "language": "python",
   "name": "python3"
  },
  "language_info": {
   "codemirror_mode": {
    "name": "ipython",
    "version": 3
   },
   "file_extension": ".py",
   "mimetype": "text/x-python",
   "name": "python",
   "nbconvert_exporter": "python",
   "pygments_lexer": "ipython3",
   "version": "3.11.2"
  },
  "orig_nbformat": 4
 },
 "nbformat": 4,
 "nbformat_minor": 2
}
