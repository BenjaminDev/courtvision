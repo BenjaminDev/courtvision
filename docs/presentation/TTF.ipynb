{
 "cells": [
  {
   "attachments": {},
   "cell_type": "markdown",
   "metadata": {
    "slideshow": {
     "slide_type": "slide"
    }
   },
   "source": [
    "# Labs Project - CourtVision\n",
    "\n"
   ]
  },
  {
   "attachments": {},
   "cell_type": "markdown",
   "metadata": {
    "slideshow": {
     "slide_type": "subslide"
    }
   },
   "source": [
    "* You and your research - Labs slide Propose, Motivate, Do -(we can chat if I should/n't add this here)\n",
    "* What is CourtVision - applied to Padel (clip and highlevel description)\n",
    "* Pieces of the puzzle:\n",
    "    - Image plane detections (detect [x, y] - Players, Ball, Court markings)\n",
    "    - Relate image plan to real world\n",
    "    - Track Players and Ball to better estimate real world potitions\n",
    "    - Visualize game play and see what players could learn / discover\n",
    "* Following the path:\n",
    "    - Here I have sides on approaches and some details / code explaining\n",
    "    - Annatomy of the ML process showing intermediate results - gotchas, oversights\n",
    "\n",
    "* Where are we - where to next:\n",
    "    - Nice visuals of what one can currently do.\n",
    "\n",
    "* Questions / Ideas\n",
    "    - "
   ]
  },
  {
   "cell_type": "markdown",
   "metadata": {},
   "source": []
  }
 ],
 "metadata": {
  "kernelspec": {
   "display_name": ".venv",
   "language": "python",
   "name": "python3"
  },
  "language_info": {
   "codemirror_mode": {
    "name": "ipython",
    "version": 3
   },
   "file_extension": ".py",
   "mimetype": "text/x-python",
   "name": "python",
   "nbconvert_exporter": "python",
   "pygments_lexer": "ipython3",
   "version": "3.11.2"
  },
  "orig_nbformat": 4
 },
 "nbformat": 4,
 "nbformat_minor": 2
}
