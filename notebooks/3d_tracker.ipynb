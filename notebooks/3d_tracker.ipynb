{
 "cells": [
  {
   "cell_type": "code",
   "execution_count": null,
   "metadata": {},
   "outputs": [],
   "source": [
    "from torch import tensor\n",
    "import torch\n",
    "\n",
    "import torch\n",
    "\n",
    "# Define a type for a named tensor with two dimensions\n",
    "ImagePlaneDetections = torch.TensorType[(\"x\", float), (\"y\", float)]\n",
    "\n",
    "\n",
    "class Tracker:\n",
    "    def __init__(self, num_particles: int = 1000) -> None:\n",
    "        self.num_particles = num_particles\n",
    "        # state: [x, y, z, vx, vy, zv, ax, ay, az, ax, ay, az, weight]\n",
    "        self.states = torch.randn(\n",
    "            (num_particles, 3 * 3 + 1, 1),\n",
    "            names=[\"x\", \"y\", \"z\", \"vx\", \"vy\", \"vz\", \"ax\", \"ay\", \"az\", \"weight\"],\n",
    "        )\n",
    "\n",
    "    @staticmethod\n",
    "    def dynamics(state_prev, dt):\n",
    "        state_prev = state_prev\n",
    "        v = v_prev + torch.randn_like(v_prev) * 0.1  # Add noise to the velocity\n",
    "        x = x_prev + v * dt\n",
    "        return x, v\n",
    "\n",
    "    @staticmethod\n",
    "    def state_to_observation(state, H) -> ImagePlaneDetections:\n",
    "\n",
    "        return (H @ state).to(ImagePlaneDetections)\n",
    "\n",
    "    # Define the likelihood function\n",
    "    @staticmethod\n",
    "    def likelihood(obs_state: torch.tensor, pred_state):\n",
    "        sigma = 0.1  # Standard deviation of the observation noise\n",
    "        p = torch.exp(-0.5 * ((x_obs - x_pred) / sigma) ** 2)\n",
    "        return p"
   ]
  },
  {
   "cell_type": "code",
   "execution_count": null,
   "metadata": {},
   "outputs": [],
   "source": [
    "# Define the 3D point in homogeneous coordinates\n",
    "P_hom = np.array([[X], [Y], [Z], [1]], dtype=np.float32)\n",
    "\n",
    "# Project the 3D point to the image plane using the projection matrix\n",
    "P_proj_hom = np.dot(P, P_hom)\n",
    "\n",
    "# Normalize the image coordinates\n",
    "P_proj = P_proj_hom[:2] / P_proj_hom[2]\n",
    "\n",
    "# Print the projected point on the image plane\n",
    "print(\"Projected point:\", P_proj)"
   ]
  }
 ],
 "metadata": {
  "language_info": {
   "name": "python"
  },
  "orig_nbformat": 4
 },
 "nbformat": 4,
 "nbformat_minor": 2
}
