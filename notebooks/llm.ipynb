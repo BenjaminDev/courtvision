{
 "cells": [
  {
   "cell_type": "code",
   "execution_count": 47,
   "metadata": {},
   "outputs": [
    {
     "name": "stderr",
     "output_type": "stream",
     "text": [
      "Some weights of the model checkpoint at roberta-base-openai-detector were not used when initializing RobertaForSequenceClassification: ['roberta.pooler.dense.weight', 'roberta.pooler.dense.bias']\n",
      "- This IS expected if you are initializing RobertaForSequenceClassification from the checkpoint of a model trained on another task or with another architecture (e.g. initializing a BertForSequenceClassification model from a BertForPreTraining model).\n",
      "- This IS NOT expected if you are initializing RobertaForSequenceClassification from the checkpoint of a model that you expect to be exactly identical (initializing a BertForSequenceClassification model from a BertForSequenceClassification model).\n"
     ]
    }
   ],
   "source": [
    "from transformers import AutoTokenizer, AutoModelForSequenceClassification\n",
    "import torch\n",
    "\n",
    "tokenizer = AutoTokenizer.from_pretrained(\"roberta-base-openai-detector\")\n",
    "\n",
    "model = AutoModelForSequenceClassification.from_pretrained(\n",
    "    \"roberta-base-openai-detector\", torchscript=True\n",
    ").eval()"
   ]
  },
  {
   "cell_type": "code",
   "execution_count": 57,
   "metadata": {},
   "outputs": [
    {
     "data": {
      "text/plain": [
       "RobertaForSequenceClassification(\n",
       "  (roberta): RobertaModel(\n",
       "    (embeddings): RobertaEmbeddings(\n",
       "      (word_embeddings): Embedding(50265, 768, padding_idx=1)\n",
       "      (position_embeddings): Embedding(514, 768, padding_idx=1)\n",
       "      (token_type_embeddings): Embedding(1, 768)\n",
       "      (LayerNorm): LayerNorm((768,), eps=1e-05, elementwise_affine=True)\n",
       "      (dropout): Dropout(p=0.1, inplace=False)\n",
       "    )\n",
       "    (encoder): RobertaEncoder(\n",
       "      (layer): ModuleList(\n",
       "        (0-11): 12 x RobertaLayer(\n",
       "          (attention): RobertaAttention(\n",
       "            (self): RobertaSelfAttention(\n",
       "              (query): Linear(in_features=768, out_features=768, bias=True)\n",
       "              (key): Linear(in_features=768, out_features=768, bias=True)\n",
       "              (value): Linear(in_features=768, out_features=768, bias=True)\n",
       "              (dropout): Dropout(p=0.1, inplace=False)\n",
       "            )\n",
       "            (output): RobertaSelfOutput(\n",
       "              (dense): Linear(in_features=768, out_features=768, bias=True)\n",
       "              (LayerNorm): LayerNorm((768,), eps=1e-05, elementwise_affine=True)\n",
       "              (dropout): Dropout(p=0.1, inplace=False)\n",
       "            )\n",
       "          )\n",
       "          (intermediate): RobertaIntermediate(\n",
       "            (dense): Linear(in_features=768, out_features=3072, bias=True)\n",
       "            (intermediate_act_fn): GELUActivation()\n",
       "          )\n",
       "          (output): RobertaOutput(\n",
       "            (dense): Linear(in_features=3072, out_features=768, bias=True)\n",
       "            (LayerNorm): LayerNorm((768,), eps=1e-05, elementwise_affine=True)\n",
       "            (dropout): Dropout(p=0.1, inplace=False)\n",
       "          )\n",
       "        )\n",
       "      )\n",
       "    )\n",
       "  )\n",
       "  (classifier): RobertaClassificationHead(\n",
       "    (dense): Linear(in_features=768, out_features=768, bias=True)\n",
       "    (dropout): Dropout(p=0.1, inplace=False)\n",
       "    (out_proj): Linear(in_features=768, out_features=2, bias=True)\n",
       "  )\n",
       ")"
      ]
     },
     "execution_count": 57,
     "metadata": {},
     "output_type": "execute_result"
    }
   ],
   "source": [
    "model"
   ]
  },
  {
   "cell_type": "code",
   "execution_count": 58,
   "metadata": {},
   "outputs": [
    {
     "data": {
      "text/plain": [
       "{0: 'Fake', 1: 'Real'}"
      ]
     },
     "execution_count": 58,
     "metadata": {},
     "output_type": "execute_result"
    }
   ],
   "source": [
    "model.config.id2label"
   ]
  },
  {
   "cell_type": "code",
   "execution_count": 48,
   "metadata": {},
   "outputs": [],
   "source": [
    "text = (\n",
    "    \"\"\"I am a person who lives in rural CO, I like living in rural areas, probably because when I was little I grew up in rural VT. \n",
    "I am 33 years old, I have a dog namd Dusty who I walk multiple times each day. Today I ran to the fire station to do the pack test then ran home. \n",
    "It started snowing today so I started a fire in the wood stove which is heating the house nicely as it is supposed to get quite cold this evening.\n",
    "\n",
    "When I was in middle school I moved to The Netherlands and went to school there (International school of Amsterdam), I had to ride my bike there every\n",
    "day, it was almost 4 km each way. While at the time it was tough for me to say goodbye to my friends from VT (the only I'd ever known), it was, upon\n",
    "reflection an immensely valuable life experience to see how other people and other cultures lived. I was also able to pick up een beetje Nederlands!\"\"\"\n",
    "    * 100\n",
    ")\n",
    "encoded_input = tokenizer(text, truncation=True, padding=True, return_tensors=\"pt\")"
   ]
  },
  {
   "cell_type": "code",
   "execution_count": 51,
   "metadata": {},
   "outputs": [
    {
     "name": "stdout",
     "output_type": "stream",
     "text": [
      "CPU times: user 1e+03 ns, sys: 0 ns, total: 1e+03 ns\n",
      "Wall time: 3.81 µs\n"
     ]
    },
    {
     "data": {
      "text/plain": [
       "1"
      ]
     },
     "execution_count": 51,
     "metadata": {},
     "output_type": "execute_result"
    }
   ],
   "source": [
    "%time\n",
    "with torch.no_grad():\n",
    "    (output,) = model(**encoded_input)\n",
    "# output\n",
    "probabilities = output.softmax(dim=1)\n",
    "predicted_class = probabilities.argmax(dim=1).item()\n",
    "predicted_class"
   ]
  },
  {
   "cell_type": "code",
   "execution_count": 24,
   "metadata": {},
   "outputs": [
    {
     "data": {
      "text/plain": [
       "1"
      ]
     },
     "execution_count": 24,
     "metadata": {},
     "output_type": "execute_result"
    }
   ],
   "source": [
    "probabilities = output.logits.softmax(dim=1)\n",
    "predicted_class = probabilities.argmax(dim=1).item()\n",
    "predicted_class"
   ]
  },
  {
   "cell_type": "code",
   "execution_count": 36,
   "metadata": {},
   "outputs": [
    {
     "data": {
      "application/vnd.jupyter.widget-view+json": {
       "model_id": "c8d2fb58d1a646de9f34291b258ca9a9",
       "version_major": 2,
       "version_minor": 0
      },
      "text/plain": [
       "Downloading (…)solve/main/vocab.txt:   0%|          | 0.00/232k [00:00<?, ?B/s]"
      ]
     },
     "metadata": {},
     "output_type": "display_data"
    },
    {
     "data": {
      "application/vnd.jupyter.widget-view+json": {
       "model_id": "b071b8990e814d03834c9a964f6d81a1",
       "version_major": 2,
       "version_minor": 0
      },
      "text/plain": [
       "Downloading (…)okenizer_config.json:   0%|          | 0.00/28.0 [00:00<?, ?B/s]"
      ]
     },
     "metadata": {},
     "output_type": "display_data"
    },
    {
     "data": {
      "application/vnd.jupyter.widget-view+json": {
       "model_id": "f308ab81c6d74f368ad94f875697da22",
       "version_major": 2,
       "version_minor": 0
      },
      "text/plain": [
       "Downloading (…)lve/main/config.json:   0%|          | 0.00/570 [00:00<?, ?B/s]"
      ]
     },
     "metadata": {},
     "output_type": "display_data"
    }
   ],
   "source": [
    "example_input = encoded_input\n",
    "from transformers import BertModel, BertTokenizer, BertConfig\n",
    "import torch\n",
    "\n",
    "enc = BertTokenizer.from_pretrained(\"bert-base-uncased\")\n",
    "text = \"[CLS] Who was Jim Henson ? [SEP] Jim Henson was a puppeteer [SEP]\"\n",
    "tokenized_text = enc.tokenize(text)\n",
    "\n",
    "# Masking one of the input tokens\n",
    "masked_index = 8\n",
    "tokenized_text[masked_index] = \"[MASK]\"\n",
    "indexed_tokens = enc.convert_tokens_to_ids(tokenized_text)\n",
    "segments_ids = [0, 0, 0, 0, 0, 0, 0, 1, 1, 1, 1, 1, 1, 1]\n",
    "\n",
    "# Creating a dummy input\n",
    "tokens_tensor = torch.tensor([indexed_tokens])\n",
    "segments_tensors = torch.tensor([segments_ids])\n",
    "dummy_input = [tokens_tensor, segments_tensors]\n",
    "\n",
    "traced_model = torch.jit.trace(model, dummy_input)"
   ]
  },
  {
   "cell_type": "code",
   "execution_count": 56,
   "metadata": {},
   "outputs": [
    {
     "ename": "AttributeError",
     "evalue": "'RecursiveScriptModule' object has no attribute 'optimize'",
     "output_type": "error",
     "traceback": [
      "\u001b[0;31m---------------------------------------------------------------------------\u001b[0m",
      "\u001b[0;31mAttributeError\u001b[0m                            Traceback (most recent call last)",
      "Cell \u001b[0;32mIn[56], line 1\u001b[0m\n\u001b[0;32m----> 1\u001b[0m optimized_model \u001b[39m=\u001b[39m traced_model\u001b[39m.\u001b[39;49moptimize()\n\u001b[1;32m      3\u001b[0m torch\u001b[39m.\u001b[39mjit\u001b[39m.\u001b[39msave(traced_model, \u001b[39m\"\u001b[39m\u001b[39mtraced_model.pt\u001b[39m\u001b[39m\"\u001b[39m)\n",
      "File \u001b[0;32m~/projects/courtvision/.venv/lib/python3.11/site-packages/torch/jit/_trace.py:1188\u001b[0m, in \u001b[0;36mTracedModule.__getattr__\u001b[0;34m(self, attr)\u001b[0m\n\u001b[1;32m   1186\u001b[0m \u001b[39mif\u001b[39;00m \u001b[39m\"\u001b[39m\u001b[39m_actual_script_module\u001b[39m\u001b[39m\"\u001b[39m \u001b[39mnot\u001b[39;00m \u001b[39min\u001b[39;00m \u001b[39mself\u001b[39m\u001b[39m.\u001b[39m\u001b[39m__dict__\u001b[39m:\n\u001b[1;32m   1187\u001b[0m     \u001b[39mreturn\u001b[39;00m \u001b[39msuper\u001b[39m()\u001b[39m.\u001b[39m\u001b[39m__getattr__\u001b[39m(attr)\n\u001b[0;32m-> 1188\u001b[0m \u001b[39mreturn\u001b[39;00m \u001b[39mgetattr\u001b[39m(\u001b[39mself\u001b[39m\u001b[39m.\u001b[39m_actual_script_module, attr)\n",
      "File \u001b[0;32m~/projects/courtvision/.venv/lib/python3.11/site-packages/torch/jit/_script.py:784\u001b[0m, in \u001b[0;36mRecursiveScriptModule.__getattr__\u001b[0;34m(self, attr)\u001b[0m\n\u001b[1;32m    781\u001b[0m     \u001b[39mself\u001b[39m\u001b[39m.\u001b[39m\u001b[39m__dict__\u001b[39m[attr] \u001b[39m=\u001b[39m script_method\n\u001b[1;32m    782\u001b[0m     \u001b[39mreturn\u001b[39;00m script_method\n\u001b[0;32m--> 784\u001b[0m \u001b[39mreturn\u001b[39;00m \u001b[39msuper\u001b[39;49m()\u001b[39m.\u001b[39;49m\u001b[39m__getattr__\u001b[39;49m(attr)\n",
      "File \u001b[0;32m~/projects/courtvision/.venv/lib/python3.11/site-packages/torch/jit/_script.py:501\u001b[0m, in \u001b[0;36mScriptModule.__getattr__\u001b[0;34m(self, attr)\u001b[0m\n\u001b[1;32m    499\u001b[0m \u001b[39mdef\u001b[39;00m \u001b[39m__getattr__\u001b[39m(\u001b[39mself\u001b[39m, attr):\n\u001b[1;32m    500\u001b[0m     \u001b[39mif\u001b[39;00m \u001b[39m\"\u001b[39m\u001b[39m_actual_script_module\u001b[39m\u001b[39m\"\u001b[39m \u001b[39mnot\u001b[39;00m \u001b[39min\u001b[39;00m \u001b[39mself\u001b[39m\u001b[39m.\u001b[39m\u001b[39m__dict__\u001b[39m:\n\u001b[0;32m--> 501\u001b[0m         \u001b[39mreturn\u001b[39;00m \u001b[39msuper\u001b[39;49m()\u001b[39m.\u001b[39;49m\u001b[39m__getattr__\u001b[39;49m(attr)\n\u001b[1;32m    502\u001b[0m     \u001b[39mreturn\u001b[39;00m \u001b[39mgetattr\u001b[39m(\u001b[39mself\u001b[39m\u001b[39m.\u001b[39m_actual_script_module, attr)\n",
      "File \u001b[0;32m~/projects/courtvision/.venv/lib/python3.11/site-packages/torch/nn/modules/module.py:1614\u001b[0m, in \u001b[0;36mModule.__getattr__\u001b[0;34m(self, name)\u001b[0m\n\u001b[1;32m   1612\u001b[0m     \u001b[39mif\u001b[39;00m name \u001b[39min\u001b[39;00m modules:\n\u001b[1;32m   1613\u001b[0m         \u001b[39mreturn\u001b[39;00m modules[name]\n\u001b[0;32m-> 1614\u001b[0m \u001b[39mraise\u001b[39;00m \u001b[39mAttributeError\u001b[39;00m(\u001b[39m\"\u001b[39m\u001b[39m'\u001b[39m\u001b[39m{}\u001b[39;00m\u001b[39m'\u001b[39m\u001b[39m object has no attribute \u001b[39m\u001b[39m'\u001b[39m\u001b[39m{}\u001b[39;00m\u001b[39m'\u001b[39m\u001b[39m\"\u001b[39m\u001b[39m.\u001b[39mformat(\n\u001b[1;32m   1615\u001b[0m     \u001b[39mtype\u001b[39m(\u001b[39mself\u001b[39m)\u001b[39m.\u001b[39m\u001b[39m__name__\u001b[39m, name))\n",
      "\u001b[0;31mAttributeError\u001b[0m: 'RecursiveScriptModule' object has no attribute 'optimize'"
     ]
    }
   ],
   "source": [
    "# optimized_model = traced_model.optimize()\n",
    "\n",
    "torch.jit.save(traced_model, \"traced_model.pt\")"
   ]
  },
  {
   "cell_type": "code",
   "execution_count": 55,
   "metadata": {},
   "outputs": [
    {
     "name": "stdout",
     "output_type": "stream",
     "text": [
      "CPU times: user 1 µs, sys: 0 ns, total: 1 µs\n",
      "Wall time: 4.05 µs\n"
     ]
    },
    {
     "ename": "RuntimeError",
     "evalue": "forward() Expected a value of type 'Tensor' for argument 'input_ids' but instead found type 'BatchEncoding'.\nPosition: 1\nValue: {'input_ids': tensor([[    0,   100,   524,    10,   621,    54,  1074,    11,  3826,  6247,\n             6,    38,   101,  1207,    11,  3826,   911,     6,  1153,   142,\n            77,    38,    21,   410,    38,  2307,    62,    11,  3826, 37599,\n             4,  1437, 50118,   100,   524,  2357,   107,   793,     6,    38,\n            33,    10,  2335,   295, 45594, 25953,   219,    54,    38,  1656,\n          1533,   498,   349,   183,     4,  2477,    38,  2075,     7,     5,\n           668,  1992,     7,   109,     5,  6356,  1296,   172,  2075,   184,\n             4,  1437, 50118,   243,   554,  1958,   154,   452,    98,    38,\n           554,    10,   668,    11,     5,  5627, 25901,    61,    16, 11545,\n             5,   790, 15481,    25,    24,    16,  3518,     7,   120,  1341,\n          2569,    42,  1559,     4, 50118, 50118,  1779,    38,    21,    11,\n          1692,   334,    38,  1410,     7,    20,  7556,     8,   439,     7,\n           334,    89,    36, 29743,   334,     9, 16342,   238,    38,    56,\n             7,  3068,   127,  4806,    89,   358, 50118,  1208,     6,    24,\n            21,   818,   204,  6301,   349,   169,     4,   616,    23,     5,\n            86,    24,    21,  1828,    13,   162,     7,   224, 15364,     7,\n           127,   964,    31, 37599,    36,   627,   129,    38,  1017,   655,\n           684,   238,    24,    21,     6,  2115, 50118, 13043, 20576,    41,\n         23783,  5130,   301,   676,     7,   192,   141,    97,    82,     8,\n            97, 13426,  3033,     4,    38,    21,    67,   441,     7,  1339,\n            62,   364,   225, 38769,  2359,   234, 11736,  8391,   328,   100,\n           524,    10,   621,    54,  1074,    11,  3826,  6247,     6,    38,\n           101,  1207,    11,  3826,   911,     6,  1153,   142,    77,    38,\n            21,   410,    38,  2307,    62,    11,  3826, 37599,     4,  1437,\n         50118,   100,   524,  2357,   107,   793,     6,    38,    33,    10,\n          2335,   295, 45594, 25953,   219,    54,    38,  1656,  1533,   498,\n           349,   183,     4,  2477,    38,  2075,     7,     5,   668,  1992,\n             7,   109,     5,  6356,  1296,   172,  2075,   184,     4,  1437,\n         50118,   243,   554,  1958,   154,   452,    98,    38,   554,    10,\n           668,    11,     5,  5627, 25901,    61,    16, 11545,     5,   790,\n         15481,    25,    24,    16,  3518,     7,   120,  1341,  2569,    42,\n          1559,     4, 50118, 50118,  1779,    38,    21,    11,  1692,   334,\n            38,  1410,     7,    20,  7556,     8,   439,     7,   334,    89,\n            36, 29743,   334,     9, 16342,   238,    38,    56,     7,  3068,\n           127,  4806,    89,   358, 50118,  1208,     6,    24,    21,   818,\n           204,  6301,   349,   169,     4,   616,    23,     5,    86,    24,\n            21,  1828,    13,   162,     7,   224, 15364,     7,   127,   964,\n            31, 37599,    36,   627,   129,    38,  1017,   655,   684,   238,\n            24,    21,     6,  2115, 50118, 13043, 20576,    41, 23783,  5130,\n           301,   676,     7,   192,   141,    97,    82,     8,    97, 13426,\n          3033,     4,    38,    21,    67,   441,     7,  1339,    62,   364,\n           225, 38769,  2359,   234, 11736,  8391,   328,   100,   524,    10,\n           621,    54,  1074,    11,  3826,  6247,     6,    38,   101,  1207,\n            11,  3826,   911,     6,  1153,   142,    77,    38,    21,   410,\n            38,  2307,    62,    11,  3826, 37599,     4,  1437, 50118,   100,\n           524,  2357,   107,   793,     6,    38,    33,    10,  2335,   295,\n         45594, 25953,   219,    54,    38,  1656,  1533,   498,   349,   183,\n             4,  2477,    38,  2075,     7,     5,   668,  1992,     7,   109,\n             5,  6356,  1296,   172,  2075,   184,     4,  1437, 50118,   243,\n           554,  1958,   154,   452,    98,    38,   554,    10,   668,    11,\n             5,  5627, 25901,    61,    16, 11545,     5,   790, 15481,    25,\n            24,     2]]), 'attention_mask': tensor([[1, 1, 1, 1, 1, 1, 1, 1, 1, 1, 1, 1, 1, 1, 1, 1, 1, 1, 1, 1, 1, 1, 1, 1,\n         1, 1, 1, 1, 1, 1, 1, 1, 1, 1, 1, 1, 1, 1, 1, 1, 1, 1, 1, 1, 1, 1, 1, 1,\n         1, 1, 1, 1, 1, 1, 1, 1, 1, 1, 1, 1, 1, 1, 1, 1, 1, 1, 1, 1, 1, 1, 1, 1,\n         1, 1, 1, 1, 1, 1, 1, 1, 1, 1, 1, 1, 1, 1, 1, 1, 1, 1, 1, 1, 1, 1, 1, 1,\n         1, 1, 1, 1, 1, 1, 1, 1, 1, 1, 1, 1, 1, 1, 1, 1, 1, 1, 1, 1, 1, 1, 1, 1,\n         1, 1, 1, 1, 1, 1, 1, 1, 1, 1, 1, 1, 1, 1, 1, 1, 1, 1, 1, 1, 1, 1, 1, 1,\n         1, 1, 1, 1, 1, 1, 1, 1, 1, 1, 1, 1, 1, 1, 1, 1, 1, 1, 1, 1, 1, 1, 1, 1,\n         1, 1, 1, 1, 1, 1, 1, 1, 1, 1, 1, 1, 1, 1, 1, 1, 1, 1, 1, 1, 1, 1, 1, 1,\n         1, 1, 1, 1, 1, 1, 1, 1, 1, 1, 1, 1, 1, 1, 1, 1, 1, 1, 1, 1, 1, 1, 1, 1,\n         1, 1, 1, 1, 1, 1, 1, 1, 1, 1, 1, 1, 1, 1, 1, 1, 1, 1, 1, 1, 1, 1, 1, 1,\n         1, 1, 1, 1, 1, 1, 1, 1, 1, 1, 1, 1, 1, 1, 1, 1, 1, 1, 1, 1, 1, 1, 1, 1,\n         1, 1, 1, 1, 1, 1, 1, 1, 1, 1, 1, 1, 1, 1, 1, 1, 1, 1, 1, 1, 1, 1, 1, 1,\n         1, 1, 1, 1, 1, 1, 1, 1, 1, 1, 1, 1, 1, 1, 1, 1, 1, 1, 1, 1, 1, 1, 1, 1,\n         1, 1, 1, 1, 1, 1, 1, 1, 1, 1, 1, 1, 1, 1, 1, 1, 1, 1, 1, 1, 1, 1, 1, 1,\n         1, 1, 1, 1, 1, 1, 1, 1, 1, 1, 1, 1, 1, 1, 1, 1, 1, 1, 1, 1, 1, 1, 1, 1,\n         1, 1, 1, 1, 1, 1, 1, 1, 1, 1, 1, 1, 1, 1, 1, 1, 1, 1, 1, 1, 1, 1, 1, 1,\n         1, 1, 1, 1, 1, 1, 1, 1, 1, 1, 1, 1, 1, 1, 1, 1, 1, 1, 1, 1, 1, 1, 1, 1,\n         1, 1, 1, 1, 1, 1, 1, 1, 1, 1, 1, 1, 1, 1, 1, 1, 1, 1, 1, 1, 1, 1, 1, 1,\n         1, 1, 1, 1, 1, 1, 1, 1, 1, 1, 1, 1, 1, 1, 1, 1, 1, 1, 1, 1, 1, 1, 1, 1,\n         1, 1, 1, 1, 1, 1, 1, 1, 1, 1, 1, 1, 1, 1, 1, 1, 1, 1, 1, 1, 1, 1, 1, 1,\n         1, 1, 1, 1, 1, 1, 1, 1, 1, 1, 1, 1, 1, 1, 1, 1, 1, 1, 1, 1, 1, 1, 1, 1,\n         1, 1, 1, 1, 1, 1, 1, 1]])}\nDeclaration: forward(__torch__.transformers.models.roberta.modeling_roberta.___torch_mangle_672.RobertaForSequenceClassification self, Tensor input_ids, Tensor attention_mask) -> ((Tensor))\nCast error details: Unable to cast {'input_ids': tensor([[    0,   100,   524,    10,   621,    54,  1074,    11,  3826,  6247,\n             6,    38,   101,  1207,    11,  3826,   911,     6,  1153,   142,\n            77,    38,    21,   410,    38,  2307,    62,    11,  3826, 37599,\n             4,  1437, 50118,   100,   524,  2357,   107,   793,     6,    38,\n            33,    10,  2335,   295, 45594, 25953,   219,    54,    38,  1656,\n          1533,   498,   349,   183,     4,  2477,    38,  2075,     7,     5,\n           668,  1992,     7,   109,     5,  6356,  1296,   172,  2075,   184,\n             4,  1437, 50118,   243,   554,  1958,   154,   452,    98,    38,\n           554,    10,   668,    11,     5,  5627, 25901,    61,    16, 11545,\n             5,   790, 15481,    25,    24,    16,  3518,     7,   120,  1341,\n          2569,    42,  1559,     4, 50118, 50118,  1779,    38,    21,    11,\n          1692,   334,    38,  1410,     7,    20,  7556,     8,   439,     7,\n           334,    89,    36, 29743,   334,     9, 16342,   238,    38,    56,\n             7,  3068,   127,  4806,    89,   358, 50118,  1208,     6,    24,\n            21,   818,   204,  6301,   349,   169,     4,   616,    23,     5,\n            86,    24,    21,  1828,    13,   162,     7,   224, 15364,     7,\n           127,   964,    31, 37599,    36,   627,   129,    38,  1017,   655,\n           684,   238,    24,    21,     6,  2115, 50118, 13043, 20576,    41,\n         23783,  5130,   301,   676,     7,   192,   141,    97,    82,     8,\n            97, 13426,  3033,     4,    38,    21,    67,   441,     7,  1339,\n            62,   364,   225, 38769,  2359,   234, 11736,  8391,   328,   100,\n           524,    10,   621,    54,  1074,    11,  3826,  6247,     6,    38,\n           101,  1207,    11,  3826,   911,     6,  1153,   142,    77,    38,\n            21,   410,    38,  2307,    62,    11,  3826, 37599,     4,  1437,\n         50118,   100,   524,  2357,   107,   793,     6,    38,    33,    10,\n          2335,   295, 45594, 25953,   219,    54,    38,  1656,  1533,   498,\n           349,   183,     4,  2477,    38,  2075,     7,     5,   668,  1992,\n             7,   109,     5,  6356,  1296,   172,  2075,   184,     4,  1437,\n         50118,   243,   554,  1958,   154,   452,    98,    38,   554,    10,\n           668,    11,     5,  5627, 25901,    61,    16, 11545,     5,   790,\n         15481,    25,    24,    16,  3518,     7,   120,  1341,  2569,    42,\n          1559,     4, 50118, 50118,  1779,    38,    21,    11,  1692,   334,\n            38,  1410,     7,    20,  7556,     8,   439,     7,   334,    89,\n            36, 29743,   334,     9, 16342,   238,    38,    56,     7,  3068,\n           127,  4806,    89,   358, 50118,  1208,     6,    24,    21,   818,\n           204,  6301,   349,   169,     4,   616,    23,     5,    86,    24,\n            21,  1828,    13,   162,     7,   224, 15364,     7,   127,   964,\n            31, 37599,    36,   627,   129,    38,  1017,   655,   684,   238,\n            24,    21,     6,  2115, 50118, 13043, 20576,    41, 23783,  5130,\n           301,   676,     7,   192,   141,    97,    82,     8,    97, 13426,\n          3033,     4,    38,    21,    67,   441,     7,  1339,    62,   364,\n           225, 38769,  2359,   234, 11736,  8391,   328,   100,   524,    10,\n           621,    54,  1074,    11,  3826,  6247,     6,    38,   101,  1207,\n            11,  3826,   911,     6,  1153,   142,    77,    38,    21,   410,\n            38,  2307,    62,    11,  3826, 37599,     4,  1437, 50118,   100,\n           524,  2357,   107,   793,     6,    38,    33,    10,  2335,   295,\n         45594, 25953,   219,    54,    38,  1656,  1533,   498,   349,   183,\n             4,  2477,    38,  2075,     7,     5,   668,  1992,     7,   109,\n             5,  6356,  1296,   172,  2075,   184,     4,  1437, 50118,   243,\n           554,  1958,   154,   452,    98,    38,   554,    10,   668,    11,\n             5,  5627, 25901,    61,    16, 11545,     5,   790, 15481,    25,\n            24,     2]]), 'attention_mask': tensor([[1, 1, 1, 1, 1, 1, 1, 1, 1, 1, 1, 1, 1, 1, 1, 1, 1, 1, 1, 1, 1, 1, 1, 1,\n         1, 1, 1, 1, 1, 1, 1, 1, 1, 1, 1, 1, 1, 1, 1, 1, 1, 1, 1, 1, 1, 1, 1, 1,\n         1, 1, 1, 1, 1, 1, 1, 1, 1, 1, 1, 1, 1, 1, 1, 1, 1, 1, 1, 1, 1, 1, 1, 1,\n         1, 1, 1, 1, 1, 1, 1, 1, 1, 1, 1, 1, 1, 1, 1, 1, 1, 1, 1, 1, 1, 1, 1, 1,\n         1, 1, 1, 1, 1, 1, 1, 1, 1, 1, 1, 1, 1, 1, 1, 1, 1, 1, 1, 1, 1, 1, 1, 1,\n         1, 1, 1, 1, 1, 1, 1, 1, 1, 1, 1, 1, 1, 1, 1, 1, 1, 1, 1, 1, 1, 1, 1, 1,\n         1, 1, 1, 1, 1, 1, 1, 1, 1, 1, 1, 1, 1, 1, 1, 1, 1, 1, 1, 1, 1, 1, 1, 1,\n         1, 1, 1, 1, 1, 1, 1, 1, 1, 1, 1, 1, 1, 1, 1, 1, 1, 1, 1, 1, 1, 1, 1, 1,\n         1, 1, 1, 1, 1, 1, 1, 1, 1, 1, 1, 1, 1, 1, 1, 1, 1, 1, 1, 1, 1, 1, 1, 1,\n         1, 1, 1, 1, 1, 1, 1, 1, 1, 1, 1, 1, 1, 1, 1, 1, 1, 1, 1, 1, 1, 1, 1, 1,\n         1, 1, 1, 1, 1, 1, 1, 1, 1, 1, 1, 1, 1, 1, 1, 1, 1, 1, 1, 1, 1, 1, 1, 1,\n         1, 1, 1, 1, 1, 1, 1, 1, 1, 1, 1, 1, 1, 1, 1, 1, 1, 1, 1, 1, 1, 1, 1, 1,\n         1, 1, 1, 1, 1, 1, 1, 1, 1, 1, 1, 1, 1, 1, 1, 1, 1, 1, 1, 1, 1, 1, 1, 1,\n         1, 1, 1, 1, 1, 1, 1, 1, 1, 1, 1, 1, 1, 1, 1, 1, 1, 1, 1, 1, 1, 1, 1, 1,\n         1, 1, 1, 1, 1, 1, 1, 1, 1, 1, 1, 1, 1, 1, 1, 1, 1, 1, 1, 1, 1, 1, 1, 1,\n         1, 1, 1, 1, 1, 1, 1, 1, 1, 1, 1, 1, 1, 1, 1, 1, 1, 1, 1, 1, 1, 1, 1, 1,\n         1, 1, 1, 1, 1, 1, 1, 1, 1, 1, 1, 1, 1, 1, 1, 1, 1, 1, 1, 1, 1, 1, 1, 1,\n         1, 1, 1, 1, 1, 1, 1, 1, 1, 1, 1, 1, 1, 1, 1, 1, 1, 1, 1, 1, 1, 1, 1, 1,\n         1, 1, 1, 1, 1, 1, 1, 1, 1, 1, 1, 1, 1, 1, 1, 1, 1, 1, 1, 1, 1, 1, 1, 1,\n         1, 1, 1, 1, 1, 1, 1, 1, 1, 1, 1, 1, 1, 1, 1, 1, 1, 1, 1, 1, 1, 1, 1, 1,\n         1, 1, 1, 1, 1, 1, 1, 1, 1, 1, 1, 1, 1, 1, 1, 1, 1, 1, 1, 1, 1, 1, 1, 1,\n         1, 1, 1, 1, 1, 1, 1, 1]])} to Tensor",
     "output_type": "error",
     "traceback": [
      "\u001b[0;31m---------------------------------------------------------------------------\u001b[0m",
      "\u001b[0;31mRuntimeError\u001b[0m                              Traceback (most recent call last)",
      "Cell \u001b[0;32mIn[55], line 3\u001b[0m\n\u001b[1;32m      1\u001b[0m get_ipython()\u001b[39m.\u001b[39mrun_line_magic(\u001b[39m'\u001b[39m\u001b[39mtime\u001b[39m\u001b[39m'\u001b[39m, \u001b[39m'\u001b[39m\u001b[39m'\u001b[39m)\n\u001b[1;32m      2\u001b[0m \u001b[39mwith\u001b[39;00m torch\u001b[39m.\u001b[39mno_grad():\n\u001b[0;32m----> 3\u001b[0m     output \u001b[39m=\u001b[39m traced_model(encoded_input)\n",
      "File \u001b[0;32m~/projects/courtvision/.venv/lib/python3.11/site-packages/torch/nn/modules/module.py:1501\u001b[0m, in \u001b[0;36mModule._call_impl\u001b[0;34m(self, *args, **kwargs)\u001b[0m\n\u001b[1;32m   1496\u001b[0m \u001b[39m# If we don't have any hooks, we want to skip the rest of the logic in\u001b[39;00m\n\u001b[1;32m   1497\u001b[0m \u001b[39m# this function, and just call forward.\u001b[39;00m\n\u001b[1;32m   1498\u001b[0m \u001b[39mif\u001b[39;00m \u001b[39mnot\u001b[39;00m (\u001b[39mself\u001b[39m\u001b[39m.\u001b[39m_backward_hooks \u001b[39mor\u001b[39;00m \u001b[39mself\u001b[39m\u001b[39m.\u001b[39m_backward_pre_hooks \u001b[39mor\u001b[39;00m \u001b[39mself\u001b[39m\u001b[39m.\u001b[39m_forward_hooks \u001b[39mor\u001b[39;00m \u001b[39mself\u001b[39m\u001b[39m.\u001b[39m_forward_pre_hooks\n\u001b[1;32m   1499\u001b[0m         \u001b[39mor\u001b[39;00m _global_backward_pre_hooks \u001b[39mor\u001b[39;00m _global_backward_hooks\n\u001b[1;32m   1500\u001b[0m         \u001b[39mor\u001b[39;00m _global_forward_hooks \u001b[39mor\u001b[39;00m _global_forward_pre_hooks):\n\u001b[0;32m-> 1501\u001b[0m     \u001b[39mreturn\u001b[39;00m forward_call(\u001b[39m*\u001b[39;49margs, \u001b[39m*\u001b[39;49m\u001b[39m*\u001b[39;49mkwargs)\n\u001b[1;32m   1502\u001b[0m \u001b[39m# Do not call functions when jit is used\u001b[39;00m\n\u001b[1;32m   1503\u001b[0m full_backward_hooks, non_full_backward_hooks \u001b[39m=\u001b[39m [], []\n",
      "\u001b[0;31mRuntimeError\u001b[0m: forward() Expected a value of type 'Tensor' for argument 'input_ids' but instead found type 'BatchEncoding'.\nPosition: 1\nValue: {'input_ids': tensor([[    0,   100,   524,    10,   621,    54,  1074,    11,  3826,  6247,\n             6,    38,   101,  1207,    11,  3826,   911,     6,  1153,   142,\n            77,    38,    21,   410,    38,  2307,    62,    11,  3826, 37599,\n             4,  1437, 50118,   100,   524,  2357,   107,   793,     6,    38,\n            33,    10,  2335,   295, 45594, 25953,   219,    54,    38,  1656,\n          1533,   498,   349,   183,     4,  2477,    38,  2075,     7,     5,\n           668,  1992,     7,   109,     5,  6356,  1296,   172,  2075,   184,\n             4,  1437, 50118,   243,   554,  1958,   154,   452,    98,    38,\n           554,    10,   668,    11,     5,  5627, 25901,    61,    16, 11545,\n             5,   790, 15481,    25,    24,    16,  3518,     7,   120,  1341,\n          2569,    42,  1559,     4, 50118, 50118,  1779,    38,    21,    11,\n          1692,   334,    38,  1410,     7,    20,  7556,     8,   439,     7,\n           334,    89,    36, 29743,   334,     9, 16342,   238,    38,    56,\n             7,  3068,   127,  4806,    89,   358, 50118,  1208,     6,    24,\n            21,   818,   204,  6301,   349,   169,     4,   616,    23,     5,\n            86,    24,    21,  1828,    13,   162,     7,   224, 15364,     7,\n           127,   964,    31, 37599,    36,   627,   129,    38,  1017,   655,\n           684,   238,    24,    21,     6,  2115, 50118, 13043, 20576,    41,\n         23783,  5130,   301,   676,     7,   192,   141,    97,    82,     8,\n            97, 13426,  3033,     4,    38,    21,    67,   441,     7,  1339,\n            62,   364,   225, 38769,  2359,   234, 11736,  8391,   328,   100,\n           524,    10,   621,    54,  1074,    11,  3826,  6247,     6,    38,\n           101,  1207,    11,  3826,   911,     6,  1153,   142,    77,    38,\n            21,   410,    38,  2307,    62,    11,  3826, 37599,     4,  1437,\n         50118,   100,   524,  2357,   107,   793,     6,    38,    33,    10,\n          2335,   295, 45594, 25953,   219,    54,    38,  1656,  1533,   498,\n           349,   183,     4,  2477,    38,  2075,     7,     5,   668,  1992,\n             7,   109,     5,  6356,  1296,   172,  2075,   184,     4,  1437,\n         50118,   243,   554,  1958,   154,   452,    98,    38,   554,    10,\n           668,    11,     5,  5627, 25901,    61,    16, 11545,     5,   790,\n         15481,    25,    24,    16,  3518,     7,   120,  1341,  2569,    42,\n          1559,     4, 50118, 50118,  1779,    38,    21,    11,  1692,   334,\n            38,  1410,     7,    20,  7556,     8,   439,     7,   334,    89,\n            36, 29743,   334,     9, 16342,   238,    38,    56,     7,  3068,\n           127,  4806,    89,   358, 50118,  1208,     6,    24,    21,   818,\n           204,  6301,   349,   169,     4,   616,    23,     5,    86,    24,\n            21,  1828,    13,   162,     7,   224, 15364,     7,   127,   964,\n            31, 37599,    36,   627,   129,    38,  1017,   655,   684,   238,\n            24,    21,     6,  2115, 50118, 13043, 20576,    41, 23783,  5130,\n           301,   676,     7,   192,   141,    97,    82,     8,    97, 13426,\n          3033,     4,    38,    21,    67,   441,     7,  1339,    62,   364,\n           225, 38769,  2359,   234, 11736,  8391,   328,   100,   524,    10,\n           621,    54,  1074,    11,  3826,  6247,     6,    38,   101,  1207,\n            11,  3826,   911,     6,  1153,   142,    77,    38,    21,   410,\n            38,  2307,    62,    11,  3826, 37599,     4,  1437, 50118,   100,\n           524,  2357,   107,   793,     6,    38,    33,    10,  2335,   295,\n         45594, 25953,   219,    54,    38,  1656,  1533,   498,   349,   183,\n             4,  2477,    38,  2075,     7,     5,   668,  1992,     7,   109,\n             5,  6356,  1296,   172,  2075,   184,     4,  1437, 50118,   243,\n           554,  1958,   154,   452,    98,    38,   554,    10,   668,    11,\n             5,  5627, 25901,    61,    16, 11545,     5,   790, 15481,    25,\n            24,     2]]), 'attention_mask': tensor([[1, 1, 1, 1, 1, 1, 1, 1, 1, 1, 1, 1, 1, 1, 1, 1, 1, 1, 1, 1, 1, 1, 1, 1,\n         1, 1, 1, 1, 1, 1, 1, 1, 1, 1, 1, 1, 1, 1, 1, 1, 1, 1, 1, 1, 1, 1, 1, 1,\n         1, 1, 1, 1, 1, 1, 1, 1, 1, 1, 1, 1, 1, 1, 1, 1, 1, 1, 1, 1, 1, 1, 1, 1,\n         1, 1, 1, 1, 1, 1, 1, 1, 1, 1, 1, 1, 1, 1, 1, 1, 1, 1, 1, 1, 1, 1, 1, 1,\n         1, 1, 1, 1, 1, 1, 1, 1, 1, 1, 1, 1, 1, 1, 1, 1, 1, 1, 1, 1, 1, 1, 1, 1,\n         1, 1, 1, 1, 1, 1, 1, 1, 1, 1, 1, 1, 1, 1, 1, 1, 1, 1, 1, 1, 1, 1, 1, 1,\n         1, 1, 1, 1, 1, 1, 1, 1, 1, 1, 1, 1, 1, 1, 1, 1, 1, 1, 1, 1, 1, 1, 1, 1,\n         1, 1, 1, 1, 1, 1, 1, 1, 1, 1, 1, 1, 1, 1, 1, 1, 1, 1, 1, 1, 1, 1, 1, 1,\n         1, 1, 1, 1, 1, 1, 1, 1, 1, 1, 1, 1, 1, 1, 1, 1, 1, 1, 1, 1, 1, 1, 1, 1,\n         1, 1, 1, 1, 1, 1, 1, 1, 1, 1, 1, 1, 1, 1, 1, 1, 1, 1, 1, 1, 1, 1, 1, 1,\n         1, 1, 1, 1, 1, 1, 1, 1, 1, 1, 1, 1, 1, 1, 1, 1, 1, 1, 1, 1, 1, 1, 1, 1,\n         1, 1, 1, 1, 1, 1, 1, 1, 1, 1, 1, 1, 1, 1, 1, 1, 1, 1, 1, 1, 1, 1, 1, 1,\n         1, 1, 1, 1, 1, 1, 1, 1, 1, 1, 1, 1, 1, 1, 1, 1, 1, 1, 1, 1, 1, 1, 1, 1,\n         1, 1, 1, 1, 1, 1, 1, 1, 1, 1, 1, 1, 1, 1, 1, 1, 1, 1, 1, 1, 1, 1, 1, 1,\n         1, 1, 1, 1, 1, 1, 1, 1, 1, 1, 1, 1, 1, 1, 1, 1, 1, 1, 1, 1, 1, 1, 1, 1,\n         1, 1, 1, 1, 1, 1, 1, 1, 1, 1, 1, 1, 1, 1, 1, 1, 1, 1, 1, 1, 1, 1, 1, 1,\n         1, 1, 1, 1, 1, 1, 1, 1, 1, 1, 1, 1, 1, 1, 1, 1, 1, 1, 1, 1, 1, 1, 1, 1,\n         1, 1, 1, 1, 1, 1, 1, 1, 1, 1, 1, 1, 1, 1, 1, 1, 1, 1, 1, 1, 1, 1, 1, 1,\n         1, 1, 1, 1, 1, 1, 1, 1, 1, 1, 1, 1, 1, 1, 1, 1, 1, 1, 1, 1, 1, 1, 1, 1,\n         1, 1, 1, 1, 1, 1, 1, 1, 1, 1, 1, 1, 1, 1, 1, 1, 1, 1, 1, 1, 1, 1, 1, 1,\n         1, 1, 1, 1, 1, 1, 1, 1, 1, 1, 1, 1, 1, 1, 1, 1, 1, 1, 1, 1, 1, 1, 1, 1,\n         1, 1, 1, 1, 1, 1, 1, 1]])}\nDeclaration: forward(__torch__.transformers.models.roberta.modeling_roberta.___torch_mangle_672.RobertaForSequenceClassification self, Tensor input_ids, Tensor attention_mask) -> ((Tensor))\nCast error details: Unable to cast {'input_ids': tensor([[    0,   100,   524,    10,   621,    54,  1074,    11,  3826,  6247,\n             6,    38,   101,  1207,    11,  3826,   911,     6,  1153,   142,\n            77,    38,    21,   410,    38,  2307,    62,    11,  3826, 37599,\n             4,  1437, 50118,   100,   524,  2357,   107,   793,     6,    38,\n            33,    10,  2335,   295, 45594, 25953,   219,    54,    38,  1656,\n          1533,   498,   349,   183,     4,  2477,    38,  2075,     7,     5,\n           668,  1992,     7,   109,     5,  6356,  1296,   172,  2075,   184,\n             4,  1437, 50118,   243,   554,  1958,   154,   452,    98,    38,\n           554,    10,   668,    11,     5,  5627, 25901,    61,    16, 11545,\n             5,   790, 15481,    25,    24,    16,  3518,     7,   120,  1341,\n          2569,    42,  1559,     4, 50118, 50118,  1779,    38,    21,    11,\n          1692,   334,    38,  1410,     7,    20,  7556,     8,   439,     7,\n           334,    89,    36, 29743,   334,     9, 16342,   238,    38,    56,\n             7,  3068,   127,  4806,    89,   358, 50118,  1208,     6,    24,\n            21,   818,   204,  6301,   349,   169,     4,   616,    23,     5,\n            86,    24,    21,  1828,    13,   162,     7,   224, 15364,     7,\n           127,   964,    31, 37599,    36,   627,   129,    38,  1017,   655,\n           684,   238,    24,    21,     6,  2115, 50118, 13043, 20576,    41,\n         23783,  5130,   301,   676,     7,   192,   141,    97,    82,     8,\n            97, 13426,  3033,     4,    38,    21,    67,   441,     7,  1339,\n            62,   364,   225, 38769,  2359,   234, 11736,  8391,   328,   100,\n           524,    10,   621,    54,  1074,    11,  3826,  6247,     6,    38,\n           101,  1207,    11,  3826,   911,     6,  1153,   142,    77,    38,\n            21,   410,    38,  2307,    62,    11,  3826, 37599,     4,  1437,\n         50118,   100,   524,  2357,   107,   793,     6,    38,    33,    10,\n          2335,   295, 45594, 25953,   219,    54,    38,  1656,  1533,   498,\n           349,   183,     4,  2477,    38,  2075,     7,     5,   668,  1992,\n             7,   109,     5,  6356,  1296,   172,  2075,   184,     4,  1437,\n         50118,   243,   554,  1958,   154,   452,    98,    38,   554,    10,\n           668,    11,     5,  5627, 25901,    61,    16, 11545,     5,   790,\n         15481,    25,    24,    16,  3518,     7,   120,  1341,  2569,    42,\n          1559,     4, 50118, 50118,  1779,    38,    21,    11,  1692,   334,\n            38,  1410,     7,    20,  7556,     8,   439,     7,   334,    89,\n            36, 29743,   334,     9, 16342,   238,    38,    56,     7,  3068,\n           127,  4806,    89,   358, 50118,  1208,     6,    24,    21,   818,\n           204,  6301,   349,   169,     4,   616,    23,     5,    86,    24,\n            21,  1828,    13,   162,     7,   224, 15364,     7,   127,   964,\n            31, 37599,    36,   627,   129,    38,  1017,   655,   684,   238,\n            24,    21,     6,  2115, 50118, 13043, 20576,    41, 23783,  5130,\n           301,   676,     7,   192,   141,    97,    82,     8,    97, 13426,\n          3033,     4,    38,    21,    67,   441,     7,  1339,    62,   364,\n           225, 38769,  2359,   234, 11736,  8391,   328,   100,   524,    10,\n           621,    54,  1074,    11,  3826,  6247,     6,    38,   101,  1207,\n            11,  3826,   911,     6,  1153,   142,    77,    38,    21,   410,\n            38,  2307,    62,    11,  3826, 37599,     4,  1437, 50118,   100,\n           524,  2357,   107,   793,     6,    38,    33,    10,  2335,   295,\n         45594, 25953,   219,    54,    38,  1656,  1533,   498,   349,   183,\n             4,  2477,    38,  2075,     7,     5,   668,  1992,     7,   109,\n             5,  6356,  1296,   172,  2075,   184,     4,  1437, 50118,   243,\n           554,  1958,   154,   452,    98,    38,   554,    10,   668,    11,\n             5,  5627, 25901,    61,    16, 11545,     5,   790, 15481,    25,\n            24,     2]]), 'attention_mask': tensor([[1, 1, 1, 1, 1, 1, 1, 1, 1, 1, 1, 1, 1, 1, 1, 1, 1, 1, 1, 1, 1, 1, 1, 1,\n         1, 1, 1, 1, 1, 1, 1, 1, 1, 1, 1, 1, 1, 1, 1, 1, 1, 1, 1, 1, 1, 1, 1, 1,\n         1, 1, 1, 1, 1, 1, 1, 1, 1, 1, 1, 1, 1, 1, 1, 1, 1, 1, 1, 1, 1, 1, 1, 1,\n         1, 1, 1, 1, 1, 1, 1, 1, 1, 1, 1, 1, 1, 1, 1, 1, 1, 1, 1, 1, 1, 1, 1, 1,\n         1, 1, 1, 1, 1, 1, 1, 1, 1, 1, 1, 1, 1, 1, 1, 1, 1, 1, 1, 1, 1, 1, 1, 1,\n         1, 1, 1, 1, 1, 1, 1, 1, 1, 1, 1, 1, 1, 1, 1, 1, 1, 1, 1, 1, 1, 1, 1, 1,\n         1, 1, 1, 1, 1, 1, 1, 1, 1, 1, 1, 1, 1, 1, 1, 1, 1, 1, 1, 1, 1, 1, 1, 1,\n         1, 1, 1, 1, 1, 1, 1, 1, 1, 1, 1, 1, 1, 1, 1, 1, 1, 1, 1, 1, 1, 1, 1, 1,\n         1, 1, 1, 1, 1, 1, 1, 1, 1, 1, 1, 1, 1, 1, 1, 1, 1, 1, 1, 1, 1, 1, 1, 1,\n         1, 1, 1, 1, 1, 1, 1, 1, 1, 1, 1, 1, 1, 1, 1, 1, 1, 1, 1, 1, 1, 1, 1, 1,\n         1, 1, 1, 1, 1, 1, 1, 1, 1, 1, 1, 1, 1, 1, 1, 1, 1, 1, 1, 1, 1, 1, 1, 1,\n         1, 1, 1, 1, 1, 1, 1, 1, 1, 1, 1, 1, 1, 1, 1, 1, 1, 1, 1, 1, 1, 1, 1, 1,\n         1, 1, 1, 1, 1, 1, 1, 1, 1, 1, 1, 1, 1, 1, 1, 1, 1, 1, 1, 1, 1, 1, 1, 1,\n         1, 1, 1, 1, 1, 1, 1, 1, 1, 1, 1, 1, 1, 1, 1, 1, 1, 1, 1, 1, 1, 1, 1, 1,\n         1, 1, 1, 1, 1, 1, 1, 1, 1, 1, 1, 1, 1, 1, 1, 1, 1, 1, 1, 1, 1, 1, 1, 1,\n         1, 1, 1, 1, 1, 1, 1, 1, 1, 1, 1, 1, 1, 1, 1, 1, 1, 1, 1, 1, 1, 1, 1, 1,\n         1, 1, 1, 1, 1, 1, 1, 1, 1, 1, 1, 1, 1, 1, 1, 1, 1, 1, 1, 1, 1, 1, 1, 1,\n         1, 1, 1, 1, 1, 1, 1, 1, 1, 1, 1, 1, 1, 1, 1, 1, 1, 1, 1, 1, 1, 1, 1, 1,\n         1, 1, 1, 1, 1, 1, 1, 1, 1, 1, 1, 1, 1, 1, 1, 1, 1, 1, 1, 1, 1, 1, 1, 1,\n         1, 1, 1, 1, 1, 1, 1, 1, 1, 1, 1, 1, 1, 1, 1, 1, 1, 1, 1, 1, 1, 1, 1, 1,\n         1, 1, 1, 1, 1, 1, 1, 1, 1, 1, 1, 1, 1, 1, 1, 1, 1, 1, 1, 1, 1, 1, 1, 1,\n         1, 1, 1, 1, 1, 1, 1, 1]])} to Tensor"
     ]
    }
   ],
   "source": [
    "%time\n",
    "with torch.no_grad():\n",
    "    output = traced_model(encoded_input)"
   ]
  },
  {
   "cell_type": "code",
   "execution_count": null,
   "metadata": {},
   "outputs": [],
   "source": []
  }
 ],
 "metadata": {
  "kernelspec": {
   "display_name": ".venv",
   "language": "python",
   "name": "python3"
  },
  "language_info": {
   "codemirror_mode": {
    "name": "ipython",
    "version": 3
   },
   "file_extension": ".py",
   "mimetype": "text/x-python",
   "name": "python",
   "nbconvert_exporter": "python",
   "pygments_lexer": "ipython3",
   "version": "3.11.2"
  },
  "orig_nbformat": 4
 },
 "nbformat": 4,
 "nbformat_minor": 2
}
