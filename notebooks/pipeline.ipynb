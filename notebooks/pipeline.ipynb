{
 "cells": [
  {
   "attachments": {},
   "cell_type": "markdown",
   "metadata": {},
   "source": [
    "# Court Vision Pipeline\n",
    "### Single Stationary Camera\n",
    "1. Detect lines or corners of court in a single frame of the clip\n",
    "2. Compute the homography between the image and the base world frame\n",
    "3. Make image plane detections. People, Ball etc.\n",
    "4. Project detections onto base world frame"
   ]
  },
  {
   "cell_type": "code",
   "execution_count": 1,
   "metadata": {},
   "outputs": [],
   "source": [
    "%load_ext autoreload\n",
    "%autoreload 2\n",
    "from pathlib import Path\n",
    "from torchvision.io import read_image\n",
    "from courtvision.geometry import (\n",
    "    get_corners_image,\n",
    "    get_coords_world_3d_n,\n",
    "    corners_world_n,\n",
    "    convert_corners_to_vec,\n",
    "    PadelCourt,\n",
    "    compute_homography,\n",
    "    project_points_to_base_plane\n",
    ")\n",
    "from courtvision.geometry import corners_world_3d\n",
    "import numpy as np\n",
    "from courtvision.vis import plot_n_images_in_a_grid, load_timg, plot_3d_lines, plot_3d_points\n",
    "from courtvision.swiss import save_camera_params\n",
    "import cv2\n",
    "import torch\n",
    "import matplotlib.pyplot as plt\n",
    "\n",
    "import rerun as rr\n",
    "\n",
    "\n",
    "\n"
   ]
  },
  {
   "cell_type": "code",
   "execution_count": 2,
   "metadata": {},
   "outputs": [
    {
     "name": "stdout",
     "output_type": "stream",
     "text": [
      "Removing key='j_net_line_left'\n",
      "Removing key='i_center_line_far'\n",
      "Removing key='k_center_line_near'\n",
      "Removing key='l_net_line_right'\n"
     ]
    }
   ],
   "source": [
    "annotated_frame = Path(\n",
    "    \"/Users/benjamindecharmoy/projects/courtvision/data/frames/curated_001/curated_001_frame_0001.png\"\n",
    ")\n",
    "src_corners_n = get_corners_image(annotated_frame)\n",
    "dst_corners_n = corners_world_n.copy()\n",
    "\n",
    "named_points_not_labelled_in_image = set(dst_corners_n.keys()) - set(\n",
    "    src_corners_n.keys()\n",
    ")\n",
    "for key in named_points_not_labelled_in_image:\n",
    "    print(f\"Removing {key=}\")\n",
    "    dst_corners_n.pop(key)"
   ]
  },
  {
   "cell_type": "code",
   "execution_count": 3,
   "metadata": {},
   "outputs": [
    {
     "data": {
      "text/plain": [
       "({'a_front_left': (0.1111111111111111, 0.8790123456790124),\n",
       "  'b_front_right': (0.8944444444444444, 0.8864197530864197),\n",
       "  'c_back_left': (0.3138888888888889, 0.291358024691358),\n",
       "  'd_back_right': (0.6916666666666668, 0.2938271604938272),\n",
       "  'e_left_near_serve_line': (0.16612377850162863, 0.7258687258687259),\n",
       "  'f_right_near_serve_line': (0.8414766558089035, 0.7277992277992279),\n",
       "  'g_left_far_serve_line': (0.29641693811074915, 0.3436293436293436),\n",
       "  'h_right_far_serve_line': (0.7096774193548387, 0.3438735177865613)},\n",
       " {'a_front_left': (0.0, 0.0),\n",
       "  'b_front_right': (1.0, 0.0),\n",
       "  'c_back_left': (0.0, 1.0),\n",
       "  'd_back_right': (1.0, 1.0),\n",
       "  'e_left_near_serve_line': (0.0, 0.1),\n",
       "  'f_right_near_serve_line': (1.0, 0.1),\n",
       "  'g_left_far_serve_line': (0.0, 0.9),\n",
       "  'h_right_far_serve_line': (1.0, 0.9)})"
      ]
     },
     "execution_count": 3,
     "metadata": {},
     "output_type": "execute_result"
    }
   ],
   "source": [
    "src_corners_n, dst_corners_n"
   ]
  },
  {
   "cell_type": "code",
   "execution_count": 4,
   "metadata": {},
   "outputs": [],
   "source": [
    "H, _, _ = compute_homography(\n",
    "    annotated_frame=annotated_frame,\n",
    "    src_corners_n=src_corners_n,\n",
    "    dst_corners_n=dst_corners_n,\n",
    ")\n",
    "save_camera_params(\n",
    "    file_name=annotated_frame,\n",
    "    homography=H,\n",
    ")"
   ]
  },
  {
   "cell_type": "code",
   "execution_count": 5,
   "metadata": {},
   "outputs": [
    {
     "data": {
      "text/plain": [
       "array([[ 4.13237653e+00,  2.44007051e+00, -2.16170501e+03],\n",
       "       [-4.40189239e-02,  2.00111158e+01, -4.30414418e+03],\n",
       "       [-5.98347134e-06,  4.87951036e-03,  1.00000000e+00]])"
      ]
     },
     "execution_count": 5,
     "metadata": {},
     "output_type": "execute_result"
    }
   ],
   "source": [
    "H"
   ]
  },
  {
   "cell_type": "code",
   "execution_count": 6,
   "metadata": {},
   "outputs": [
    {
     "data": {
      "text/plain": [
       "420"
      ]
     },
     "execution_count": 6,
     "metadata": {},
     "output_type": "execute_result"
    }
   ],
   "source": [
    "# frames = sorted(annotated_frame.parent.glob(\"*.png\"))\n",
    "frames = sorted(\n",
    "    Path(\"/Users/benjamindecharmoy/projects/courtvision/data/frames/curated_001\").glob(\n",
    "        \"*.png\"\n",
    "    )\n",
    ")\n",
    "len(frames)"
   ]
  },
  {
   "cell_type": "code",
   "execution_count": 7,
   "metadata": {},
   "outputs": [],
   "source": [
    "from ultralytics import YOLO\n",
    "\n",
    "model = YOLO(\"yolov8n.pt\")\n",
    "\n",
    "# model.classes = [0]\n",
    "# model.conf = 0.6\n",
    "# model.max_det = 4\n",
    "# results = model.track(\n",
    "#     source=\"/Users/benjamindecharmoy/projects/courtvision/data/raw/curated_001.mp4\",\n",
    "#     # tracker=\"/Users/benjamindecharmoy/projects/courtvision/bytetrack.yaml\",\n",
    "#     tracker=\"/Users/benjamindecharmoy/projects/courtvision/botsort.yml\",\n",
    "#     classes=[0],\n",
    "#     max_det=4,\n",
    "#     save=True,\n",
    "# )\n",
    "\n",
    "from pickle import load, dump\n",
    "\n",
    "# dump(results, open(\"results.pkl\", \"wb\"))\n",
    "results = load(open(\"results.pkl\", \"rb\"))"
   ]
  },
  {
   "cell_type": "code",
   "execution_count": 8,
   "metadata": {},
   "outputs": [],
   "source": [
    "from courtvision.models import get_fasterrcnn_ball_detection_model\n",
    "from courtvision.swiss import get_latest_file\n",
    "\n",
    "ball_detector_model_path = get_latest_file(\n",
    "    Path(\"/Users/benjamindecharmoy/projects/courtvision/models/ball_detector/\")\n",
    ")\n",
    "model_name = ball_detector_model_path.stem\n",
    "ball_detector = get_fasterrcnn_ball_detection_model(ball_detector_model_path).eval()"
   ]
  },
  {
   "cell_type": "code",
   "execution_count": 9,
   "metadata": {},
   "outputs": [],
   "source": [
    "from collections import defaultdict\n",
    "from kornia import image_to_tensor\n",
    "\n",
    "base_results = defaultdict(list)\n",
    "from datetime import datetime\n",
    "\n",
    "rr.init(\n",
    "    f\"Curated_001-{datetime.now()}\", spawn=True\n",
    ")  # Spawn a Rerun Viewer and stream log events to it\n",
    "\n",
    "colours_per_idx = defaultdict(lambda: (255, 255, 255))\n",
    "colours_per_idx.update(\n",
    "    {\n",
    "        0: (0, 255, 0),\n",
    "        1: (0, 0, 255),\n",
    "        2: (255, 0, 0),\n",
    "        3: (255, 255, 0),\n",
    "        4: (255, 0, 255),\n",
    "        5: (0, 255, 255),\n",
    "    }\n",
    ")\n",
    "court_layout = cv2.imread(\n",
    "    \"/Users/benjamindecharmoy/projects/courtvision/notebooks/test.png\"\n",
    ")\n",
    "court_layout = cv2.resize(court_layout, (int(PadelCourt.width), int(PadelCourt.length)))\n",
    "\n",
    "front_wall_layout = cv2.imread(\n",
    "    \"/Users/benjamindecharmoy/projects/courtvision/notebooks/frontwall.png\"\n",
    ")\n",
    "front_wall_layout = cv2.resize(\n",
    "    front_wall_layout, (int(PadelCourt.width), int(PadelCourt.backwall_height))\n",
    ")\n",
    "rr.log_image(\"court_layout\", court_layout)\n",
    "for i, (frame, result) in enumerate(zip(frames, results)):\n",
    "    rr.set_time_sequence(\"play\", i)\n",
    "    rr.log_image(\"court_layout\", court_layout)\n",
    "    rr.log_image(\"court_frontwall\", front_wall_layout)\n",
    "    with torch.no_grad():\n",
    "\n",
    "        outputs = ball_detector(\n",
    "            image_to_tensor(result.orig_img, keepdim=False).float() / 255.0,\n",
    "            # read_image(frame.as_posix()).unsqueeze(0).float() / 255.0,\n",
    "        )\n",
    "    if outputs and len(outputs[0][\"boxes\"]) > 0:\n",
    "        for bx1, by1, bx2, by2 in outputs[0][\"boxes\"][:4]:\n",
    "            # bx1, by1, bx2, by2 = outputs[0][\"boxes\"][0]\n",
    "            rr.log_rect(\n",
    "                f\"rgb_image/Ball\",\n",
    "                (bx1, by1, bx2 - bx1, by2 - by1),\n",
    "                color=colours_per_idx[-1],\n",
    "            )\n",
    "        H_to_vertical_plane = np.array(\n",
    "            [\n",
    "                [9.09142405e-01, -9.66439760e-02, -6.81353581e01],\n",
    "                [5.93720192e-04, 9.54040584e-01, -3.36254241e02],\n",
    "                [1.98251071e-05, -1.74933071e-04, 1.00000000e00],\n",
    "            ]\n",
    "        )\n",
    "        court_plane_vertical = cv2.warpPerspective(\n",
    "            result.orig_img,\n",
    "            H_to_vertical_plane,\n",
    "            dsize=(int(PadelCourt.width), int(PadelCourt.backwall_height)),\n",
    "        )\n",
    "        ball_on_image_plane = torch.tensor([((bx1 + bx2) / 2, (by1 + by2) / 2)])\n",
    "        (ball_on_vertical_plane,) = project_points_to_base_plane(\n",
    "            points=ball_on_image_plane, H=H_to_vertical_plane\n",
    "        )\n",
    "        # ball_on_vertical_plane = (ball_on_vertical_plane[0], PadelCourt.backwall_height-ball_on_vertical_plane[1])\n",
    "        rr.log_point(\n",
    "            \"court_frontwall/Ball\",\n",
    "            ball_on_vertical_plane,\n",
    "            radius=5,\n",
    "            color=colours_per_idx[-1],\n",
    "        )\n",
    "        rr.log_image(\"court_frontwall/glass\", court_plane_vertical)\n",
    "    rr.log_image(\"rgb_image\", result.orig_img)\n",
    "\n",
    "    court_plane = cv2.warpPerspective(\n",
    "        result.orig_img,\n",
    "        H,\n",
    "        dsize=(int(PadelCourt.width), int(PadelCourt.length)),\n",
    "    )\n",
    "    rr.log_image(\"court_plane\", court_plane)\n",
    "\n",
    "    # rr.log_points(\"points\", positions)\n",
    "    for det in result.boxes.data:\n",
    "        x1, y1, x2, y2, idx, conf, cls = det\n",
    "        rr.log_rect(\n",
    "            f\"rgb_image/Player_{int(idx)}\",\n",
    "            (x1, y1, (x2 - x1), (y2 - y1)),\n",
    "            color=colours_per_idx[int(idx)],\n",
    "        )\n",
    "        mid_feet = torch.tensor([((x1 + x2) / 2, (y2 + y2) / 2)])\n",
    "        (mid_feet_base,) = project_points_to_base_plane(points=mid_feet, H=H)\n",
    "        rr.log_point(\n",
    "            f\"court_layout/Player_{int(idx)}\",\n",
    "            mid_feet_base,\n",
    "            radius=50,\n",
    "            color=colours_per_idx[int(idx)],\n",
    "        )\n",
    "\n",
    "        base_results[f\"{int(idx)}_xs\"].append(mid_feet_base[0].item())\n",
    "        base_results[f\"{int(idx)}_ys\"].append(mid_feet_base[1].item())\n",
    "        base_results[f\"{int(idx)}_zs\"].append(0.0)\n",
    "        base_results[f\"{int(idx)}_conf\"].append(conf.item())\n",
    "\n",
    "    # if i > 10:\n",
    "    #     break\n",
    "\n",
    "    # break\n",
    "# plt.imshow(image)\n",
    "# results[0].boxes.boxes, results[0].boxes.data"
   ]
  },
  {
   "cell_type": "code",
   "execution_count": null,
   "metadata": {},
   "outputs": [],
   "source": []
  },
  {
   "cell_type": "code",
   "execution_count": 8,
   "metadata": {},
   "outputs": [
    {
     "data": {
      "text/plain": [
       "array([[[ 40,   6,   0],\n",
       "        [ 40,   6,   0],\n",
       "        [ 40,   6,   0],\n",
       "        ...,\n",
       "        [  0,   6,  23],\n",
       "        [  0,   6,  23],\n",
       "        [  0,   6,  23]],\n",
       "\n",
       "       [[ 40,   6,   0],\n",
       "        [ 40,   6,   0],\n",
       "        [ 40,   6,   0],\n",
       "        ...,\n",
       "        [  0,   8,  24],\n",
       "        [  0,   8,  24],\n",
       "        [  0,   8,  24]],\n",
       "\n",
       "       [[ 40,   6,   0],\n",
       "        [ 40,   6,   0],\n",
       "        [ 40,   6,   0],\n",
       "        ...,\n",
       "        [  1,   9,  25],\n",
       "        [  1,   9,  25],\n",
       "        [  1,   9,  25]],\n",
       "\n",
       "       ...,\n",
       "\n",
       "       [[105,  81,  53],\n",
       "        [105,  81,  53],\n",
       "        [105,  81,  53],\n",
       "        ...,\n",
       "        [109,  82,  54],\n",
       "        [107,  80,  52],\n",
       "        [105,  79,  51]],\n",
       "\n",
       "       [[105,  81,  53],\n",
       "        [105,  81,  53],\n",
       "        [105,  81,  53],\n",
       "        ...,\n",
       "        [109,  82,  54],\n",
       "        [107,  80,  52],\n",
       "        [105,  79,  51]],\n",
       "\n",
       "       [[105,  81,  53],\n",
       "        [105,  81,  53],\n",
       "        [105,  81,  53],\n",
       "        ...,\n",
       "        [109,  82,  54],\n",
       "        [107,  80,  52],\n",
       "        [105,  79,  51]]], dtype=uint8)"
      ]
     },
     "execution_count": 8,
     "metadata": {},
     "output_type": "execute_result"
    }
   ],
   "source": [
    "results[0].orig_img"
   ]
  },
  {
   "cell_type": "code",
   "execution_count": 34,
   "metadata": {},
   "outputs": [
    {
     "data": {
      "image/png": "[encoded data removed]",
      "text/plain": [
       "<Figure size 640x480 with 1 Axes>"
      ]
     },
     "metadata": {},
     "output_type": "display_data"
    }
   ],
   "source": [
    "def get_court_frontwall_markings():\n",
    "    outer_lines = np.array(\n",
    "        [\n",
    "            # Outer lines\n",
    "            corners_world_3d[\"a_front_left\"],\n",
    "            corners_world_3d[\"b_front_right\"],\n",
    "            corners_world_3d[\"n_top_front_right\"],\n",
    "            corners_world_3d[\"m_top_front_left\"],\n",
    "            corners_world_3d[\"a_front_left\"],\n",
    "        ],\n",
    "        dtype=np.float32,\n",
    "    )\n",
    "    x_offset = 3 * 100.0\n",
    "    z_offset = 5 * 100.0\n",
    "    play_boundary = np.array(\n",
    "        [\n",
    "            # Outer lines\n",
    "            (\n",
    "                corners_world_3d[\"a_front_left\"][0] - x_offset,\n",
    "                corners_world_3d[\"a_front_left\"][1],\n",
    "                corners_world_3d[\"a_front_left\"][2],\n",
    "            ),\n",
    "            (\n",
    "                corners_world_3d[\"b_front_right\"][0] + x_offset,\n",
    "                corners_world_3d[\"b_front_right\"][1],\n",
    "                corners_world_3d[\"b_front_right\"][2],\n",
    "            ),\n",
    "            (\n",
    "                corners_world_3d[\"n_top_front_right\"][0] + x_offset,\n",
    "                corners_world_3d[\"n_top_front_right\"][1],\n",
    "                corners_world_3d[\"n_top_front_right\"][2] + z_offset,\n",
    "            ),\n",
    "            (\n",
    "                corners_world_3d[\"m_top_front_left\"][0] - x_offset,\n",
    "                corners_world_3d[\"m_top_front_left\"][1],\n",
    "                corners_world_3d[\"m_top_front_left\"][2] + z_offset,\n",
    "            ),\n",
    "            (\n",
    "                corners_world_3d[\"a_front_left\"][0] - x_offset,\n",
    "                corners_world_3d[\"a_front_left\"][1],\n",
    "                corners_world_3d[\"a_front_left\"][2],\n",
    "            ),\n",
    "        ],\n",
    "        dtype=np.float32,\n",
    "    )\n",
    "    xs = np.array([outer_lines[:-1, 0], outer_lines[1:, 0]]).T\n",
    "    xs = np.append(\n",
    "        xs, np.array([play_boundary[:-1, 0], play_boundary[1:, 0]]).T, axis=0\n",
    "    )\n",
    "\n",
    "    ys = np.array([outer_lines[:-1, 1], outer_lines[1:, 1]]).T\n",
    "    ys = np.append(\n",
    "        ys, np.array([play_boundary[:-1, 1], play_boundary[1:, 1]]).T, axis=0\n",
    "    )\n",
    "\n",
    "    zs = np.array([outer_lines[:-1, 2], outer_lines[1:, 2]]).T\n",
    "    zs = np.append(\n",
    "        zs, np.array([play_boundary[:-1, 2], play_boundary[1:, 2]]).T, axis=0\n",
    "    )\n",
    "\n",
    "    return xs, ys, zs\n",
    "\n",
    "\n",
    "xs, ys, zs = get_court_frontwall_markings()\n",
    "plt_axis, fig = plot_3d_lines(xs=xs, ys=ys, zs=zs, view_init=(0, 90, 0))\n",
    "plt_axis.set_title(\"\")\n",
    "plt_axis.set_xlabel(\"\")\n",
    "plt_axis.set_ylabel(\"\")\n",
    "plt_axis.set_xticks([])\n",
    "plt_axis.set_yticks([])\n",
    "plt_axis.set_zticks([])\n",
    "plt_axis.spines[\"right\"].set_visible(False)\n",
    "plt_axis.spines[\"top\"].set_visible(False)\n",
    "plt_axis.spines[\"bottom\"].set_visible(False)\n",
    "plt_axis.spines[\"left\"].set_visible(False)\n",
    "plt.axis(\"off\")\n",
    "plt.axis(\"image\")\n",
    "plt.savefig(\"frontwall.png\", bbox_inches=0)"
   ]
  },
  {
   "cell_type": "code",
   "execution_count": 8,
   "metadata": {},
   "outputs": [
    {
     "data": {
      "text/plain": [
       "{'a_front_left': (0.0, 0.0, 0.0),\n",
       " 'b_front_right': (1000.0, 0, 0.0),\n",
       " 'c_back_left': (0.0, 2000.0, 0.0),\n",
       " 'd_back_right': (1000.0, 2000.0, 0.0),\n",
       " 'e_left_near_serve_line': (0.0, 200.0, 0.0),\n",
       " 'f_right_near_serve_line': (1000.0, 200.0, 0.0),\n",
       " 'g_left_far_serve_line': (0.0, 1800.0, 0.0),\n",
       " 'h_right_far_serve_line': (1000.0, 1800.0, 0.0),\n",
       " 'i_center_line_far': (500, 2000, 0.0),\n",
       " 'j_net_line_left': (0, 1000, 0.0),\n",
       " 'k_center_line_near': (500, 0, 0.0),\n",
       " 'l_net_line_right': (1000, 1000, 0.0),\n",
       " 'm_top_front_left': (0.0, 0.0, 300.0),\n",
       " 'n_top_front_right': (1000.0, 0, 300.0)}"
      ]
     },
     "execution_count": 8,
     "metadata": {},
     "output_type": "execute_result"
    }
   ],
   "source": [
    "corners_world_3d"
   ]
  },
  {
   "cell_type": "code",
   "execution_count": 2,
   "metadata": {},
   "outputs": [
    {
     "ename": "NameError",
     "evalue": "name 'base_results' is not defined",
     "output_type": "error",
     "traceback": [
      "\u001b[0;31m---------------------------------------------------------------------------\u001b[0m",
      "\u001b[0;31mNameError\u001b[0m                                 Traceback (most recent call last)",
      "Cell \u001b[0;32mIn[2], line 60\u001b[0m\n\u001b[1;32m     57\u001b[0m \u001b[39mfrom\u001b[39;00m \u001b[39mcourtvision\u001b[39;00m\u001b[39m.\u001b[39;00m\u001b[39mvis\u001b[39;00m \u001b[39mimport\u001b[39;00m plot_3d_points\n\u001b[1;32m     59\u001b[0m idx \u001b[39m=\u001b[39m \u001b[39m1\u001b[39m\n\u001b[0;32m---> 60\u001b[0m xs \u001b[39m=\u001b[39m np\u001b[39m.\u001b[39marray(base_results[\u001b[39mf\u001b[39m\u001b[39m\"\u001b[39m\u001b[39m{\u001b[39;00midx\u001b[39m}\u001b[39;00m\u001b[39m_xs\u001b[39m\u001b[39m\"\u001b[39m])\n\u001b[1;32m     61\u001b[0m ys \u001b[39m=\u001b[39m np\u001b[39m.\u001b[39marray(base_results[\u001b[39mf\u001b[39m\u001b[39m\"\u001b[39m\u001b[39m{\u001b[39;00midx\u001b[39m}\u001b[39;00m\u001b[39m_ys\u001b[39m\u001b[39m\"\u001b[39m])\n\u001b[1;32m     62\u001b[0m zs \u001b[39m=\u001b[39m np\u001b[39m.\u001b[39marray(base_results[\u001b[39mf\u001b[39m\u001b[39m\"\u001b[39m\u001b[39m{\u001b[39;00midx\u001b[39m}\u001b[39;00m\u001b[39m_zs\u001b[39m\u001b[39m\"\u001b[39m])\n",
      "\u001b[0;31mNameError\u001b[0m: name 'base_results' is not defined"
     ]
    },
    {
     "data": {
      "image/png": "[encoded data removed]",
      "text/plain": [
       "<Figure size 640x480 with 1 Axes>"
      ]
     },
     "metadata": {},
     "output_type": "display_data"
    }
   ],
   "source": [
    "def get_court_markings():\n",
    "    outer_lines = np.array(\n",
    "        [\n",
    "            # Outer lines\n",
    "            corners_world_3d[\"a_front_left\"],\n",
    "            corners_world_3d[\"b_front_right\"],\n",
    "            corners_world_3d[\"d_back_right\"],\n",
    "            corners_world_3d[\"c_back_left\"],\n",
    "            corners_world_3d[\"a_front_left\"],\n",
    "        ],\n",
    "        dtype=np.float32,\n",
    "    )\n",
    "    inner_lines = np.array(\n",
    "        [\n",
    "            corners_world_3d[\"e_left_near_serve_line\"],\n",
    "            corners_world_3d[\"f_right_near_serve_line\"],\n",
    "            corners_world_3d[\"h_right_far_serve_line\"],\n",
    "            corners_world_3d[\"g_left_far_serve_line\"],\n",
    "            corners_world_3d[\"e_left_near_serve_line\"],\n",
    "        ],\n",
    "        dtype=np.float32,\n",
    "    )\n",
    "\n",
    "    center_line = np.array(\n",
    "        [\n",
    "            corners_world_3d[\"k_center_line_near\"],\n",
    "            corners_world_3d[\"i_center_line_far\"],\n",
    "        ]\n",
    "    )\n",
    "    net_line = np.array(\n",
    "        [\n",
    "            corners_world_3d[\"j_net_line_left\"],\n",
    "            corners_world_3d[\"l_net_line_right\"],\n",
    "        ]\n",
    "    )\n",
    "\n",
    "    xs = np.array([outer_lines[:-1, 0], outer_lines[1:, 0]]).T\n",
    "    xs = np.append(xs, np.array([inner_lines[:-1, 0], inner_lines[1:, 0]]).T, axis=0)\n",
    "    xs = np.append(xs, np.array([center_line[:-1, 0], center_line[1:, 0]]).T, axis=0)\n",
    "    xs = np.append(xs, np.array([net_line[:-1, 0], net_line[1:, 0]]).T, axis=0)\n",
    "\n",
    "    ys = np.array([outer_lines[:-1, 1], outer_lines[1:, 1]]).T\n",
    "    ys = np.append(ys, np.array([inner_lines[:-1, 1], inner_lines[1:, 1]]).T, axis=0)\n",
    "    ys = np.append(ys, np.array([center_line[:-1, 1], center_line[1:, 1]]).T, axis=0)\n",
    "    ys = np.append(ys, np.array([net_line[:-1, 1], net_line[1:, 1]]).T, axis=0)\n",
    "\n",
    "    zs = np.array([outer_lines[:-1, 2], outer_lines[1:, 2]]).T\n",
    "    zs = np.append(zs, np.array([inner_lines[:-1, 2], inner_lines[1:, 2]]).T, axis=0)\n",
    "    zs = np.append(zs, np.array([center_line[:-1, 2], center_line[1:, 2]]).T, axis=0)\n",
    "    zs = np.append(zs, np.array([net_line[:-1, 2], net_line[1:, 2]]).T, axis=0)\n",
    "\n",
    "    return xs, ys, zs\n",
    "\n",
    "\n",
    "xs, ys, zs = get_court_markings()\n",
    "plt_axis, fig = plot_3d_lines(xs=xs, ys=ys, zs=zs, view_init=(90, 90, 0))\n",
    "from courtvision.vis import plot_3d_points\n",
    "\n",
    "idx = 1\n",
    "xs = np.array(base_results[f\"{idx}_xs\"])\n",
    "ys = np.array(base_results[f\"{idx}_ys\"])\n",
    "zs = np.array(base_results[f\"{idx}_zs\"])\n",
    "plt_axis.set_title(\"\")\n",
    "plt_axis.set_xlabel(\"\")\n",
    "plt_axis.set_ylabel(\"\")\n",
    "plt_axis.set_xticks([])\n",
    "plt_axis.set_yticks([])\n",
    "plt_axis.set_zticks([])\n",
    "plt_axis.spines[\"right\"].set_visible(False)\n",
    "plt_axis.spines[\"top\"].set_visible(False)\n",
    "plt_axis.spines[\"bottom\"].set_visible(False)\n",
    "plt_axis.spines[\"left\"].set_visible(False)\n",
    "plt.axis(\"off\")\n",
    "plt.axis(\"image\")\n",
    "plt.savefig(\"test.png\", bbox_inches=0)\n",
    "\n",
    "# plt_axis, _=plot_3d_points(x=xs, y=ys, z=zs, plt_axis=plt_axis ,view_init=(90, 90,0))"
   ]
  },
  {
   "cell_type": "code",
   "execution_count": 166,
   "metadata": {},
   "outputs": [
    {
     "name": "stderr",
     "output_type": "stream",
     "text": [
      "/var/folders/nv/c7kqzw0j08q0bg0fjbmbbr4w0000gn/T/ipykernel_42895/857977412.py:7: UserWarning: Matplotlib is currently using module://matplotlib_inline.backend_inline, which is a non-GUI backend, so cannot show the figure.\n",
      "  fig.show()\n"
     ]
    }
   ],
   "source": []
  },
  {
   "cell_type": "code",
   "execution_count": 4,
   "metadata": {},
   "outputs": [],
   "source": []
  },
  {
   "cell_type": "code",
   "execution_count": 5,
   "metadata": {},
   "outputs": [
    {
     "ename": "TypeError",
     "evalue": "'module' object is not callable",
     "output_type": "error",
     "traceback": [
      "\u001b[0;31m---------------------------------------------------------------------------\u001b[0m",
      "\u001b[0;31mTypeError\u001b[0m                                 Traceback (most recent call last)",
      "Cell \u001b[0;32mIn[5], line 1\u001b[0m\n\u001b[0;32m----> 1\u001b[0m rr\u001b[39m.\u001b[39;49mlog(\u001b[39m\"\u001b[39;49m\u001b[39mtest\u001b[39;49m\u001b[39m\"\u001b[39;49m, \u001b[39m\"\u001b[39;49m\u001b[39mtest\u001b[39;49m\u001b[39m\"\u001b[39;49m)\n",
      "\u001b[0;31mTypeError\u001b[0m: 'module' object is not callable"
     ]
    }
   ],
   "source": [
    "rr.log(\"test\", \"test\")"
   ]
  },
  {
   "cell_type": "code",
   "execution_count": 78,
   "metadata": {},
   "outputs": [
    {
     "data": {
      "text/plain": [
       "<Axes3D: xlabel='X', ylabel='Y', zlabel='Z'>"
      ]
     },
     "execution_count": 78,
     "metadata": {},
     "output_type": "execute_result"
    },
    {
     "data": {
      "image/png": "[encoded data removed]",
      "text/plain": [
       "<Figure size 640x480 with 1 Axes>"
      ]
     },
     "metadata": {},
     "output_type": "display_data"
    }
   ],
   "source": [
    "from courtvision.vis import plot_3d_points, plot_3d_lines\n",
    "from courtvision.geometry import get_coords_world_3d\n",
    "import numpy as np\n",
    "\n",
    "court_markings = get_coords_world_3d()\n",
    "xs = np.array([court_markings[:1, 0], court_markings[1:2, 0]]).T\n",
    "xs = np.append(xs, np.array([court_markings[1:2, 0], court_markings[3:4, 0]]).T, axis=0)\n",
    "xs = np.append(xs, np.array([court_markings[3:4, 0], court_markings[4:5, 0]]).T, axis=0)\n",
    "xs = np.append(xs, np.array([court_markings[4:5, 0], court_markings[:1, 0]]).T, axis=0)\n",
    "\n",
    "ys = np.array([court_markings[:-1, 1], court_markings[1:, 1]]).T\n",
    "zs = np.array([court_markings[:-1, 2], court_markings[1:, 2]]).T\n",
    "plot_3d_lines(xs=xs, ys=ys, zs=zs)\n",
    "# get_coords_world_3d()"
   ]
  }
 ],
 "metadata": {
  "kernelspec": {
   "display_name": ".venv",
   "language": "python",
   "name": "python3"
  },
  "language_info": {
   "codemirror_mode": {
    "name": "ipython",
    "version": 3
   },
   "file_extension": ".py",
   "mimetype": "text/x-python",
   "name": "python",
   "nbconvert_exporter": "python",
   "pygments_lexer": "ipython3",
   "version": "3.11.2"
  },
  "orig_nbformat": 4
 },
 "nbformat": 4,
 "nbformat_minor": 2
}
