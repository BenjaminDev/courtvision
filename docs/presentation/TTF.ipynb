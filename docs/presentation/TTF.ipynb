{
 "cells": [
  {
   "attachments": {},
   "cell_type": "markdown",
   "metadata": {
    "slideshow": {
     "slide_type": "slide"
    }
   },
   "source": [
    "# Labs Project - CourtVision\n",
    "*An update by Benjamin de Charmoy*\n",
    "\n"
   ]
  },
  {
   "attachments": {},
   "cell_type": "markdown",
   "metadata": {
    "slideshow": {
     "slide_type": "fragment"
    }
   },
   "source": [
    "## Outline\n",
    "* Labs Projects\n",
    "* What is CourtVision?\n",
    "* Pieces of the puzzle\n",
    "* Following the path\n",
    "* Where are we - where to next?\n",
    "* Questions / Ideas"
   ]
  },
  {
   "attachments": {},
   "cell_type": "markdown",
   "metadata": {
    "slideshow": {
     "slide_type": "slide"
    }
   },
   "source": [
    "### Labs Projects\n",
    "* Thinkst Applied Research - Labs opened up a space for Thinksters to pursue research\n",
    "* CourtVision is the first such project\n",
    "    - I spoke to Jacob and we kicked around a few ideas. I am super interested in computer vision / signal processing (Magic!)\n",
    "    - Some initial noodling lead us to focus on single camera system\n",
    "    - A few iterations of the proposal\n",
    "    - Chats with Marco around when to do it and navigating existing engineering work\n",
    "    - Then we had lift off!\n",
    "* Thanks @thinkst, @mh, @mls and @jacob for creating this space\n",
    "    - https://phabricator.think.st/w/labs/welcome_call/  \n",
    "    - Read about it here [Labs Research Program](https://docs.google.com/document/d/1XWZX3s6kzoOOr7oewH9W16ftyJlf7JSVd_kHTyBEWvs/edit)\n",
    "    - [#AllHands announcement](https://drive.google.com/file/d/1SDAliPgejyoLKGjF8Mxn_CuJ8LR9NuSN/view?pli=1)"
   ]
  },
  {
   "attachments": {},
   "cell_type": "markdown",
   "metadata": {
    "slideshow": {
     "slide_type": "skip"
    }
   },
   "source": [
    "* You and your research - Labs slide Propose, Motivate, Do -(we can chat if I should/n't add this here)\n",
    "* What is CourtVision - applied to Padel (clip and highlevel description)\n",
    "* Pieces of the puzzle:\n",
    "    - Image plane detections (detect [x, y] - Players, Ball, Court markings)\n",
    "    - Relate image plan to real world\n",
    "    - Track Players and Ball to better estimate real world potitions\n",
    "    - Visualize game play and see what players could learn / discover\n",
    "* Following the path:\n",
    "    - Here I have sides on approaches and some details / code explaining\n",
    "    - Annatomy of the ML process showing intermediate results - gotchas, oversights\n",
    "\n",
    "* Where are we - where to next:\n",
    "    - Nice visuals of what one can currently do.\n",
    "\n",
    "* Questions / Ideas\n",
    "    - \n",
    "    https://stackoverflow.com/questions/37743144/how-to-increase-the-page-width-in-ipython-notebook-jupyter-slides"
   ]
  },
  {
   "attachments": {},
   "cell_type": "markdown",
   "metadata": {
    "slideshow": {
     "slide_type": "slide"
    }
   },
   "source": [
    "## What is CourtVision?\n"
   ]
  },
  {
   "attachments": {},
   "cell_type": "markdown",
   "metadata": {
    "slideshow": {
     "slide_type": "fragment"
    }
   },
   "source": [
    "* CourtVision is a research project into extracting useful information from videos of court-based sports.\n"
   ]
  },
  {
   "attachments": {},
   "cell_type": "markdown",
   "metadata": {
    "slideshow": {
     "slide_type": "fragment"
    }
   },
   "source": [
    "* Looking primarily at Padel\n",
    "<img  src=\"padel-omg-omg-omg.gif\" style=\" width: 200%\">\n",
    "\n"
   ]
  },
  {
   "attachments": {},
   "cell_type": "markdown",
   "metadata": {
    "slideshow": {
     "slide_type": "subslide"
    }
   },
   "source": [
    "\n",
    "## What is CourtVision?\n",
    "\n",
    "* CourtVision goals\n",
    "    - A dataset curated from live streamed events (we aim to share)\n",
    "    - A computer vision package and technical write up\n",
    "    - Evaluation of the efficacy of a single camera system\n",
    "    - Visualizations to evaluate the usefulness of CourtVision\n",
    "* We are currently ▓▓▓▓▓▓▓▓▓▓▓▓▓░░░░░░░ 65% of the way through\n",
    "\n"
   ]
  },
  {
   "cell_type": "markdown",
   "metadata": {},
   "source": []
  },
  {
   "cell_type": "markdown",
   "metadata": {
    "slideshow": {
     "slide_type": "slide"
    }
   },
   "source": [
    "# Pieces of the puzzle"
   ]
  },
  {
   "attachments": {},
   "cell_type": "markdown",
   "metadata": {
    "slideshow": {
     "slide_type": "subslide"
    }
   },
   "source": [
    "**Pieces of the puzzle**\n",
    "<!-- \n",
    "<p align=\"center\" width=\"100%\" height=\"100%\">\n",
    "    <img  src=\"the_puzzle.png\">\n",
    "</p> -->\n",
    "<!-- ![](the_puzzle_small.png) -->\n",
    "<img src=\"the_puzzle.png\" alt=\"Drawing\" style=\" width: 500px \"/>\n",
    " \n"
   ]
  },
  {
   "attachments": {},
   "cell_type": "markdown",
   "metadata": {
    "slideshow": {
     "slide_type": "subslide"
    }
   },
   "source": [
    "**Pieces of the puzzle**\n",
    "<img src=\"the_puzzle_top.png\" alt=\"Drawing\" style=\" width: 200%\"/>"
   ]
  },
  {
   "attachments": {},
   "cell_type": "markdown",
   "metadata": {
    "slideshow": {
     "slide_type": "subslide"
    }
   },
   "source": [
    "**Pieces of the puzzle**\n",
    "<img src=\"the_puzzle_bottom.png\" alt=\"Drawing\" style=\" width: 200%\"/>"
   ]
  },
  {
   "attachments": {},
   "cell_type": "markdown",
   "metadata": {
    "slideshow": {
     "slide_type": "subslide"
    }
   },
   "source": [
    "## Pieces of the puzzle\n",
    "* Data generating process\n",
    "    - Events unfold in the world - games are played\n",
    "    - A camera with unknown internal characteristics captues these events\n",
    "* Data undestanding process\n",
    "    - Detections are made in the \"Image plane\" \n",
    "    -  Camera intrisics are computed using knowledge about the scene\n",
    "    - Camera extrinsics are computed uisng knowledge about the scene\n",
    "    - A one-way mapping from \"World coordinate frame\" to \"image plane\"\n",
    "    - A homogrphy (transform - plane to plane) between image and world plane\n",
    "    - **BUT** we only have image plane detections how can we extablish world coordinates of players and ball?\n",
    "    - Visualize the output in a way that is useful to the Players.\n",
    "        + Seeing Spaces is a great talk on this - bret victor\n"
   ]
  },
  {
   "attachments": {},
   "cell_type": "markdown",
   "metadata": {
    "slideshow": {
     "slide_type": "slide"
    }
   },
   "source": [
    "\n",
    "# Following the path\n",
    "\n",
    "<p align=\"center\" width=\"100%\">\n",
    "    <img  src=\"tinker_eng_sci.png\">\n",
    "</p>\n",
    "  "
   ]
  },
  {
   "attachments": {},
   "cell_type": "markdown",
   "metadata": {
    "slideshow": {
     "slide_type": "subslide"
    }
   },
   "source": [
    "### Following the path\n",
    "<img  src=\"the_path.png\" style = \"width: 200%\">"
   ]
  },
  {
   "attachments": {},
   "cell_type": "markdown",
   "metadata": {
    "slideshow": {
     "slide_type": "subslide"
    }
   },
   "source": [
    "# Following the path\n",
    "* Fetching data - downloaded hours of Padel games\n",
    "* Extracted frames and audio\n",
    "    - This was not very robust (cycling back to use gesture recognition)\n",
    "    \n"
   ]
  },
  {
   "attachments": {},
   "cell_type": "markdown",
   "metadata": {
    "slideshow": {
     "slide_type": "subslide"
    }
   },
   "source": [
    "# Following the path\n",
    "* Ball and Player detector\n",
    "    - Insert code snippet and W&B plot\n",
    "    \n"
   ]
  },
  {
   "attachments": {},
   "cell_type": "markdown",
   "metadata": {
    "slideshow": {
     "slide_type": "subslide"
    }
   },
   "source": [
    "# Following the path\n",
    "* Compute scene geometry\n",
    "    - Demo label tool\n",
    "    - code snippet of matrix rotate and translate\n"
   ]
  },
  {
   "attachments": {},
   "cell_type": "markdown",
   "metadata": {
    "slideshow": {
     "slide_type": "subslide"
    }
   },
   "source": [
    "# Following the path\n",
    "* Combine detector and geometry - a unified view\n",
    "<p align=\"center\" width=\"100%\">\n",
    "    <img  src=\"PlaneTracking.gif\">\n",
    "</p>\n"
   ]
  },
  {
   "attachments": {},
   "cell_type": "markdown",
   "metadata": {
    "slideshow": {
     "slide_type": "subslide"
    }
   },
   "source": [
    "# Following the path\n",
    "* Combine tracker and geometry\n",
    "    - Rerun visual\n",
    "         \n",
    "\n"
   ]
  },
  {
   "attachments": {},
   "cell_type": "markdown",
   "metadata": {
    "slideshow": {
     "slide_type": "slide"
    }
   },
   "source": [
    "# Where are we? \n",
    "* Demo of running a clip \n",
    "# Where to next?\n",
    "* Generate more informative visualizations\n",
    "* Run on a mobile device\n",
    "* Relax the constraint of a stationary camera\n"
   ]
  },
  {
   "attachments": {},
   "cell_type": "markdown",
   "metadata": {
    "slideshow": {
     "slide_type": "slide"
    }
   },
   "source": [
    "# Question / Ideas\n"
   ]
  },
  {
   "cell_type": "markdown",
   "metadata": {},
   "source": []
  }
 ],
 "metadata": {
  "kernelspec": {
   "display_name": ".venv",
   "language": "python",
   "name": "python3"
  },
  "language_info": {
   "codemirror_mode": {
    "name": "ipython",
    "version": 3
   },
   "file_extension": ".py",
   "mimetype": "text/x-python",
   "name": "python",
   "nbconvert_exporter": "python",
   "pygments_lexer": "ipython3",
   "version": "3.11.2"
  },
  "orig_nbformat": 4
 },
 "nbformat": 4,
 "nbformat_minor": 2
}
