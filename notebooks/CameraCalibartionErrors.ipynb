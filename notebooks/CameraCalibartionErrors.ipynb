{
 "cells": [
  {
   "cell_type": "code",
   "execution_count": 86,
   "metadata": {},
   "outputs": [],
   "source": [
    "import json\n",
    "from pathlib import Path\n",
    "\n",
    "import numpy as np\n",
    "import torch\n",
    "from kornia.geometry import unproject_points\n",
    "from structlog import wrap_logger\n",
    "from torch.functional import F\n",
    "\n",
    "from courtvision.data import (\n",
    "    Annotation,\n",
    "    ClipSegmentResult,\n",
    "    CourtAnnotatedSample,\n",
    "    CourtVisionArtifacts,\n",
    "    KeypointValue,\n",
    "    PadelDataset,\n",
    "    RectValue,\n",
    "    StreamType,\n",
    "    VideoRectValue,\n",
    "    dict_to_points,\n",
    "    download_data_item,\n",
    "    frames_from_clip_segments,\n",
    "    get_normalized_calibration_image_points_and_clip_ids,\n",
    ")\n",
    "from courtvision.geometry import (\n",
    "    CameraInfo,\n",
    "    PadelCourt,\n",
    "    calibrate_and_evaluate,\n",
    "    calibrate_camera,\n",
    "    convert_obj_points_to_planar,\n",
    "    corners_world_3d,\n",
    "    denormalize_as_named_points,\n",
    "    find_optimal_calibration_and_pose,\n",
    "    get_planar_point_correspondences,\n",
    "    get_planar_points_padel_court,\n",
    "    project_points_to_base_plane,\n",
    ")\n",
    "from courtvision.models import BallDetector, PlayerDetector\n",
    "from courtvision.swiss import get_latest_file, mark_as_deprecated\n",
    "from courtvision.trackers import ParticleFilter\n",
    "from courtvision.vis import (\n",
    "    colours_per_player_idx,\n",
    "    log_ball_detections,\n",
    "    log_court_layout,\n",
    "    log_player_detections,\n",
    ")"
   ]
  },
  {
   "cell_type": "code",
   "execution_count": 87,
   "metadata": {},
   "outputs": [
    {
     "name": "stdout",
     "output_type": "stream",
     "text": [
      "\u001b[2m2023-06-27 16:48:55\u001b[0m [\u001b[32m\u001b[1minfo     \u001b[0m] \u001b[1mCamera already calibrated - using supplied camera_info\u001b[0m \u001b[36mcamera_info\u001b[0m=\u001b[35mCameraInfo(valid_for_clip_ids={PosixPath('/Users/benjamindecharmoy/projects/courtvision/datasets/clip_segmentations/data/cache/0000/output046.mp4'), PosixPath('s3:/courtvision-source-data-ksaldjfbnv/source/0000/output052.mp4'), PosixPath('/Users/benjamindecharmoy/projects/courtvision/datasets/clip_segmentations/data/cache/0000/output048.mp4'), PosixPath('/Users/benjamindecharmoy/projects/courtvision/datasets/clip_segmentations/data/cache/0000/output041.mp4'), PosixPath('s3:/courtvision-source-data-ksaldjfbnv/source/0000/output043.mp4'), PosixPath('s3:/courtvision-source-data-ksaldjfbnv/source/0000/output049.mp4'), PosixPath('s3:/courtvision-source-data-ksaldjfbnv/source/0000/output047.mp4'), PosixPath('s3:/courtvision-source-data-ksaldjfbnv/source/0000/output048.mp4'), PosixPath('/Users/benjamindecharmoy/projects/courtvision/datasets/clip_segmentations/data/cache/0000/output052.mp4'), PosixPath('s3:/courtvision-source-data-ksaldjfbnv/source/0000/output042.mp4'), PosixPath('/Users/benjamindecharmoy/projects/courtvision/datasets/clip_segmentations/data/cache/0000/output043.mp4'), PosixPath('s3:/courtvision-source-data-ksaldjfbnv/source/0000/output041.mp4'), PosixPath('s3:/courtvision-source-data-ksaldjfbnv/source/0000/output046.mp4'), PosixPath('/Users/benjamindecharmoy/projects/courtvision/datasets/clip_segmentations/data/cache/0000/output047.mp4'), PosixPath('/Users/benjamindecharmoy/projects/courtvision/datasets/clip_segmentations/data/cache/0000/output049.mp4'), PosixPath('/Users/benjamindecharmoy/projects/courtvision/datasets/clip_segmentations/data/cache/0000/output042.mp4')}, camera_matrix=array([[     2175.3,           0,      927.94],\n",
      "       [          0,      2092.4,      904.85],\n",
      "       [          0,           0,           1]]), distortion_coefficients=array([[     1.1725,     -7.3732,    0.056242,   0.0098591,      14.403]]), rotation_vector=array([[     2.0584],\n",
      "       [  0.0095717],\n",
      "       [  -0.021962]]), translation_vector=array([[    -48.471],\n",
      "       [    -3.4781],\n",
      "       [     161.48]]), image_width=array(1920), image_height=array(1080), error_in_reprojected_planar_points=array(     3.5059), error_in_reprojected_points=array(     9.7865, dtype=float32))\u001b[0m\n"
     ]
    }
   ],
   "source": [
    "ANNOTATION_PATH = Path(\"../datasets/clip_segmentations\")\n",
    "ANNOTATION_DATA_PATH = Path(\"../datasets/clip_segmentations/data\")\n",
    "ANNOTATION_DATA_PATH.mkdir(exist_ok=True, parents=True)\n",
    "\n",
    "court_mesh_path = Path(\"../blender/basic_image.glb\")\n",
    "\n",
    "annotations_file = get_latest_file(ANNOTATION_PATH, \"json\")\n",
    "with open(annotations_file, \"r\") as f:\n",
    "    dataset = PadelDataset(samples=json.load(f))\n",
    "\n",
    "artifacts = CourtVisionArtifacts(\n",
    "    local_cache_path=ANNOTATION_DATA_PATH / \"cache\",\n",
    "    dataset=dataset,\n",
    "    ball_detector=BallDetector(\n",
    "        model_file_or_dir=Path(\n",
    "            \"../models/ball_detector/fasterrcnn_resnet50_fpn_project-1-at-2023-05-23-14-38-c467b6ad-67.pt\"\n",
    "        ),\n",
    "        cache_dir=ANNOTATION_DATA_PATH / \"cache\",\n",
    "    ),\n",
    "    ball_tracker=ParticleFilter(\n",
    "        num_particles=10,\n",
    "        court_size=torch.tensor(\n",
    "            [PadelCourt.width, PadelCourt.length, PadelCourt.backwall_fence_height]\n",
    "        ),\n",
    "    ),\n",
    "    player_detector=PlayerDetector(\n",
    "        model_dir=Path(\"../models/player_detection\"),\n",
    "        cache_dir=ANNOTATION_DATA_PATH / \"cache\",\n",
    "    ),\n",
    "    camera_info_path=ANNOTATION_DATA_PATH / \"cache\" / \"camera_info.npz\",\n",
    "    court_layout=PadelCourt(),\n",
    ")\n",
    "\n",
    "# Calibrate camera from annotations in the dataset\n",
    "artifacts = calibrate_camera(artifacts)"
   ]
  },
  {
   "cell_type": "code",
   "execution_count": null,
   "metadata": {},
   "outputs": [],
   "source": []
  },
  {
   "cell_type": "code",
   "execution_count": 158,
   "metadata": {},
   "outputs": [],
   "source": [
    "# Court Floor Pixel Errors\n",
    "NUM_SAMPLES = 20000\n",
    "artifacts.ball_tracker.reset(\n",
    "    num_particles=NUM_SAMPLES,\n",
    "    court_size=torch.tensor(\n",
    "        [PadelCourt.width, PadelCourt.length, PadelCourt.backwall_fence_height]\n",
    "    ),\n",
    "    world_to_cam=artifacts.camera_info.world_space_to_camera_space(),\n",
    "    cam_to_image=torch.tensor(artifacts.camera_info.camera_matrix),\n",
    ")\n",
    "from itertools import product\n",
    "\n",
    "grid_on_floor = torch.tensor(\n",
    "    [\n",
    "        (float(x), float(y), 0.0)\n",
    "        for x, y in product(range(int(PadelCourt.width)), range(int(PadelCourt.length)))\n",
    "    ]\n",
    ")\n",
    "grid_on_floor.shape\n",
    "\n",
    "artifacts.ball_tracker.states[:, 0:3] = grid_on_floor\n",
    "# artifacts.ball_tracker.states[:, 3] =  0.0"
   ]
  },
  {
   "cell_type": "code",
   "execution_count": 159,
   "metadata": {},
   "outputs": [
    {
     "data": {
      "text/plain": [
       "0.1"
      ]
     },
     "execution_count": 159,
     "metadata": {},
     "output_type": "execute_result"
    }
   ],
   "source": [
    "10 / PadelCourt.width"
   ]
  },
  {
   "cell_type": "code",
   "execution_count": 160,
   "metadata": {},
   "outputs": [],
   "source": [
    "import rerun as rr\n",
    "\n",
    "rr.init(\"courtvision\", recording_id=\"test\")\n",
    "ip, port = (\n",
    "    \"127.0.0.1\",\n",
    "    \"9876\",\n",
    ")  # TODO: Make this configurable https://github.com/BenjaminDev/courtvision/issues/4\n",
    "rr.connect(f\"{ip}:{port}\")\n",
    "rr.log_points(\n",
    "    \"world/markers_state\",\n",
    "    positions=artifacts.ball_tracker.xyz,\n",
    ")"
   ]
  },
  {
   "cell_type": "code",
   "execution_count": 161,
   "metadata": {},
   "outputs": [],
   "source": [
    "points = artifacts.ball_tracker.state_to_observation(\n",
    "    state=artifacts.ball_tracker.states,\n",
    "    world_to_cam=artifacts.ball_tracker.world_to_cam,\n",
    "    cam_to_image=artifacts.ball_tracker.cam_to_image,\n",
    ")"
   ]
  },
  {
   "cell_type": "code",
   "execution_count": 162,
   "metadata": {},
   "outputs": [],
   "source": [
    "points\n",
    "rr.log_points(\n",
    "    \"world/camera/image/markers\",\n",
    "    positions=points,\n",
    "    radii=10.1,\n",
    ")"
   ]
  },
  {
   "cell_type": "code",
   "execution_count": 163,
   "metadata": {},
   "outputs": [
    {
     "data": {
      "text/plain": [
       "tensor([[ 275.0030,  859.7835],\n",
       "        [ 278.7727,  853.9895],\n",
       "        [ 282.5016,  848.2583],\n",
       "        ...,\n",
       "        [1278.2543,  302.2532],\n",
       "        [1277.4346,  300.9128],\n",
       "        [1276.6193,  299.5793]])"
      ]
     },
     "execution_count": 163,
     "metadata": {},
     "output_type": "execute_result"
    }
   ],
   "source": [
    "points"
   ]
  },
  {
   "cell_type": "code",
   "execution_count": 164,
   "metadata": {},
   "outputs": [],
   "source": [
    "from courtvision.geometry import (\n",
    "    camera_space_to_world_space,\n",
    "    compute_ray_intersecting_plane,\n",
    ")\n",
    "\n",
    "# Use 2 depth values to unproject the point from the image plane to the camera plane\n",
    "aves = []\n",
    "for point in points:\n",
    "    img_points = point.clone()\n",
    "    intersection_points = []\n",
    "    for i in range(100):\n",
    "        # add noise to point\n",
    "        delta = torch.tensor([0.01, 0.01]) * 9.75 * i\n",
    "        p = point + delta\n",
    "        # print(f\"{i=} {delta=} {p=} {point=}\")\n",
    "        img_points = torch.vstack([img_points, p])\n",
    "        depths = torch.tensor(\n",
    "            [[1.0 * PadelCourt.court_scale, 20.0 * PadelCourt.court_scale]]\n",
    "        ).T  # Depth values in [mm * PadelCourt.court_scale]\n",
    "        mid_feets = p.repeat(depths.shape[0], 1)\n",
    "        mid_feets_base_camera_space = unproject_points(\n",
    "            point_2d=mid_feets,\n",
    "            camera_matrix=artifacts.camera_info.camera_matrix,\n",
    "            depth=depths,\n",
    "        ).squeeze(0)\n",
    "        # Using the Translation and Rotation Vector of the camera, transform the point from camera space to world space\n",
    "        mid_feet_base_world_space = camera_space_to_world_space(\n",
    "            mid_feets_base_camera_space.squeeze(0).numpy().T,\n",
    "            artifacts.camera_info.translation_vector,\n",
    "            artifacts.camera_info.rotation_vector,\n",
    "        )\n",
    "        # Compute the intersection of the ray formed by the camera position and the 3D point with the plane\n",
    "        intersection = compute_ray_intersecting_plane(\n",
    "            point_a_on_ray=mid_feet_base_world_space[0].reshape(3, 1),\n",
    "            point_b_on_ray=mid_feet_base_world_space[1].reshape(3, 1),\n",
    "        )\n",
    "        intersection_points.append(intersection)\n",
    "    rr.log_points(\n",
    "        \"world/camera/image/markers\",\n",
    "        positions=img_points,\n",
    "        radii=10,\n",
    "    )\n",
    "    rr.log_points(\n",
    "        \"world/arkers\",\n",
    "        positions=torch.tensor(intersection_points),\n",
    "    )\n",
    "\n",
    "    aves.append(\n",
    "        (torch.tensor(intersection_points) - torch.tensor(intersection_points)[0])\n",
    "        .abs()\n",
    "        .mean()\n",
    "        .item()\n",
    "    )"
   ]
  },
  {
   "cell_type": "code",
   "execution_count": 133,
   "metadata": {},
   "outputs": [],
   "source": [
    "mean = sum(aves) / len(aves)\n",
    "error = mean / PadelCourt.court_scale"
   ]
  },
  {
   "cell_type": "code",
   "execution_count": 214,
   "metadata": {},
   "outputs": [
    {
     "data": {
      "image/png": "[encoded data removed]",
      "text/plain": [
       "<Figure size 640x480 with 2 Axes>"
      ]
     },
     "metadata": {},
     "output_type": "display_data"
    }
   ],
   "source": [
    "import numpy as np\n",
    "import seaborn as sns\n",
    "import matplotlib.pylab as plt\n",
    "import cv2\n",
    "\n",
    "errors = (np.array(aves) / 10) * 1000\n",
    "error_map = errors.reshape(int(PadelCourt.width), int(PadelCourt.length)).transpose(\n",
    "    1, 0\n",
    ")\n",
    "error_map = np.flipud(error_map)\n",
    "error_map = cv2.resize(error_map, (10, 20))\n",
    "# error_map = np.resize(error_map, (20, 10))\n",
    "\n",
    "ax = sns.heatmap(\n",
    "    error_map, linewidth=0.5, cbar_kws={\"label\": \"Re-projection Error (mm)\"}\n",
    ")\n",
    "\n",
    "plt.title(\"  Forward-projection error onto the court floor\", loc=\"center\", pad=20)\n",
    "plt.xticks(range(0, 10, 1), range(0, 10, 1), rotation=0)\n",
    "plt.yticks(range(0, 20, 5), range(20, 0, -5))\n",
    "plt.xlabel(\"Distance from front left of corner (m)\")\n",
    "plt.ylabel(\"Distance from front left of corner (m)\")\n",
    "ax.set_aspect(\"equal\")\n",
    "plt.show()"
   ]
  },
  {
   "cell_type": "code",
   "execution_count": 213,
   "metadata": {},
   "outputs": [
    {
     "data": {
      "text/html": [
       "<div>\n",
       "<style scoped>\n",
       "    .dataframe tbody tr th:only-of-type {\n",
       "        vertical-align: middle;\n",
       "    }\n",
       "\n",
       "    .dataframe tbody tr th {\n",
       "        vertical-align: top;\n",
       "    }\n",
       "\n",
       "    .dataframe thead th {\n",
       "        text-align: right;\n",
       "    }\n",
       "</style>\n",
       "<table border=\"1\" class=\"dataframe\">\n",
       "  <thead>\n",
       "    <tr style=\"text-align: right;\">\n",
       "      <th></th>\n",
       "      <th>0</th>\n",
       "    </tr>\n",
       "  </thead>\n",
       "  <tbody>\n",
       "    <tr>\n",
       "      <th>count</th>\n",
       "      <td>20000.000000</td>\n",
       "    </tr>\n",
       "    <tr>\n",
       "      <th>mean</th>\n",
       "      <td>87.046921</td>\n",
       "    </tr>\n",
       "    <tr>\n",
       "      <th>std</th>\n",
       "      <td>31.608976</td>\n",
       "    </tr>\n",
       "    <tr>\n",
       "      <th>min</th>\n",
       "      <td>31.767375</td>\n",
       "    </tr>\n",
       "    <tr>\n",
       "      <th>25%</th>\n",
       "      <td>59.595178</td>\n",
       "    </tr>\n",
       "    <tr>\n",
       "      <th>50%</th>\n",
       "      <td>84.137597</td>\n",
       "    </tr>\n",
       "    <tr>\n",
       "      <th>75%</th>\n",
       "      <td>112.780389</td>\n",
       "    </tr>\n",
       "    <tr>\n",
       "      <th>max</th>\n",
       "      <td>161.456453</td>\n",
       "    </tr>\n",
       "  </tbody>\n",
       "</table>\n",
       "</div>"
      ],
      "text/plain": [
       "                  0\n",
       "count  20000.000000\n",
       "mean      87.046921\n",
       "std       31.608976\n",
       "min       31.767375\n",
       "25%       59.595178\n",
       "50%       84.137597\n",
       "75%      112.780389\n",
       "max      161.456453"
      ]
     },
     "execution_count": 213,
     "metadata": {},
     "output_type": "execute_result"
    }
   ],
   "source": [
    "import pandas as pd\n",
    "\n",
    "df = pd.DataFrame(errors)\n",
    "df.describe()\n",
    "# errors"
   ]
  },
  {
   "cell_type": "code",
   "execution_count": 178,
   "metadata": {},
   "outputs": [
    {
     "name": "stdout",
     "output_type": "stream",
     "text": [
      "Original array shape: (100, 200)\n",
      "Upsampled array shape: (1000, 2000)\n"
     ]
    }
   ],
   "source": [
    "import numpy as np\n",
    "\n",
    "# Generate a sample NumPy array of size 100x200\n",
    "original_array = np.random.random((100, 200))\n",
    "\n",
    "# Upsample the array to size 1000x2000\n",
    "upsampled_array = np.kron(original_array, np.ones((10, 10)))\n",
    "\n",
    "# Print the shape of the original and upsampled arrays\n",
    "print(\"Original array shape:\", original_array.shape)\n",
    "print(\"Upsampled array shape:\", upsampled_array.shape)"
   ]
  },
  {
   "cell_type": "code",
   "execution_count": 152,
   "metadata": {},
   "outputs": [
    {
     "data": {
      "image/png": "[encoded data removed]",
      "text/plain": [
       "<Figure size 640x480 with 2 Axes>"
      ]
     },
     "metadata": {},
     "output_type": "display_data"
    }
   ],
   "source": [
    "import seaborn as sns\n",
    "import matplotlib.pyplot as plt\n",
    "\n",
    "# Generate a sample heatmap data\n",
    "data = [[1, 2, 3], [4, 5, 6], [7, 8, 9]]\n",
    "\n",
    "# Set custom x and y tick labels\n",
    "x_labels = [\"A\", \"B\", \"C\"]\n",
    "y_labels = [\"X\", \"Y\", \"Z\"]\n",
    "\n",
    "# Create the heatmap\n",
    "sns.heatmap(data)\n",
    "\n",
    "# Set the x and y tick labels\n",
    "plt.xticks(range(len(x_labels)), x_labels)\n",
    "plt.yticks(range(len(y_labels)), y_labels)\n",
    "\n",
    "# Show the plot\n",
    "plt.show()"
   ]
  },
  {
   "cell_type": "code",
   "execution_count": 141,
   "metadata": {},
   "outputs": [
    {
     "data": {
      "text/html": [
       "<pre style=\"white-space:pre;overflow-x:auto;line-height:normal;font-family:Menlo,'DejaVu Sans Mono',consolas,'Courier New',monospace\"><span style=\"color: #800000; text-decoration-color: #800000\">╭─────────────────────────────── </span><span style=\"color: #800000; text-decoration-color: #800000; font-weight: bold\">Traceback </span><span style=\"color: #bf7f7f; text-decoration-color: #bf7f7f; font-weight: bold\">(most recent call last)</span><span style=\"color: #800000; text-decoration-color: #800000\"> ────────────────────────────────╮</span>\n",
       "<span style=\"color: #800000; text-decoration-color: #800000\">│</span> in <span style=\"color: #00ff00; text-decoration-color: #00ff00\">&lt;module&gt;</span>:<span style=\"color: #0000ff; text-decoration-color: #0000ff\">6</span>                                                                                    <span style=\"color: #800000; text-decoration-color: #800000\">│</span>\n",
       "<span style=\"color: #800000; text-decoration-color: #800000\">│</span>                                                                                                  <span style=\"color: #800000; text-decoration-color: #800000\">│</span>\n",
       "<span style=\"color: #800000; text-decoration-color: #800000\">│</span>   <span style=\"color: #7f7f7f; text-decoration-color: #7f7f7f\">3 </span><span style=\"color: #0000ff; text-decoration-color: #0000ff\">import</span> <span style=\"color: #00ffff; text-decoration-color: #00ffff; text-decoration: underline\">matplotlib.pylab</span> <span style=\"color: #0000ff; text-decoration-color: #0000ff\">as</span> <span style=\"color: #00ffff; text-decoration-color: #00ffff; text-decoration: underline\">plt</span>                                                               <span style=\"color: #800000; text-decoration-color: #800000\">│</span>\n",
       "<span style=\"color: #800000; text-decoration-color: #800000\">│</span>   <span style=\"color: #7f7f7f; text-decoration-color: #7f7f7f\">4 </span>                                                                                             <span style=\"color: #800000; text-decoration-color: #800000\">│</span>\n",
       "<span style=\"color: #800000; text-decoration-color: #800000\">│</span>   <span style=\"color: #7f7f7f; text-decoration-color: #7f7f7f\">5 </span>uniform_data = np.random.rand(<span style=\"color: #0000ff; text-decoration-color: #0000ff\">10</span>, <span style=\"color: #0000ff; text-decoration-color: #0000ff\">12</span>)                                                        <span style=\"color: #800000; text-decoration-color: #800000\">│</span>\n",
       "<span style=\"color: #800000; text-decoration-color: #800000\">│</span> <span style=\"color: #800000; text-decoration-color: #800000\">❱ </span>6 ax = sns.heatmap(error_map, linewidth=<span style=\"color: #0000ff; text-decoration-color: #0000ff\">0.5</span>)                                                   <span style=\"color: #800000; text-decoration-color: #800000\">│</span>\n",
       "<span style=\"color: #800000; text-decoration-color: #800000\">│</span>   <span style=\"color: #7f7f7f; text-decoration-color: #7f7f7f\">7 </span>plt.show()                                                                                   <span style=\"color: #800000; text-decoration-color: #800000\">│</span>\n",
       "<span style=\"color: #800000; text-decoration-color: #800000\">│</span>   <span style=\"color: #7f7f7f; text-decoration-color: #7f7f7f\">8 </span>                                                                                             <span style=\"color: #800000; text-decoration-color: #800000\">│</span>\n",
       "<span style=\"color: #800000; text-decoration-color: #800000\">╰──────────────────────────────────────────────────────────────────────────────────────────────────╯</span>\n",
       "<span style=\"color: #ff0000; text-decoration-color: #ff0000; font-weight: bold\">NameError: </span>name <span style=\"color: #008000; text-decoration-color: #008000\">'error_map'</span> is not defined\n",
       "</pre>\n"
      ],
      "text/plain": [
       "\u001b[31m╭─\u001b[0m\u001b[31m──────────────────────────────\u001b[0m\u001b[31m \u001b[0m\u001b[1;31mTraceback \u001b[0m\u001b[1;2;31m(most recent call last)\u001b[0m\u001b[31m \u001b[0m\u001b[31m───────────────────────────────\u001b[0m\u001b[31m─╮\u001b[0m\n",
       "\u001b[31m│\u001b[0m in \u001b[92m<module>\u001b[0m:\u001b[94m6\u001b[0m                                                                                    \u001b[31m│\u001b[0m\n",
       "\u001b[31m│\u001b[0m                                                                                                  \u001b[31m│\u001b[0m\n",
       "\u001b[31m│\u001b[0m   \u001b[2m3 \u001b[0m\u001b[94mimport\u001b[0m \u001b[4;96mmatplotlib\u001b[0m\u001b[4;96m.\u001b[0m\u001b[4;96mpylab\u001b[0m \u001b[94mas\u001b[0m \u001b[4;96mplt\u001b[0m                                                               \u001b[31m│\u001b[0m\n",
       "\u001b[31m│\u001b[0m   \u001b[2m4 \u001b[0m                                                                                             \u001b[31m│\u001b[0m\n",
       "\u001b[31m│\u001b[0m   \u001b[2m5 \u001b[0muniform_data = np.random.rand(\u001b[94m10\u001b[0m, \u001b[94m12\u001b[0m)                                                        \u001b[31m│\u001b[0m\n",
       "\u001b[31m│\u001b[0m \u001b[31m❱ \u001b[0m6 ax = sns.heatmap(error_map, linewidth=\u001b[94m0.5\u001b[0m)                                                   \u001b[31m│\u001b[0m\n",
       "\u001b[31m│\u001b[0m   \u001b[2m7 \u001b[0mplt.show()                                                                                   \u001b[31m│\u001b[0m\n",
       "\u001b[31m│\u001b[0m   \u001b[2m8 \u001b[0m                                                                                             \u001b[31m│\u001b[0m\n",
       "\u001b[31m╰──────────────────────────────────────────────────────────────────────────────────────────────────╯\u001b[0m\n",
       "\u001b[1;91mNameError: \u001b[0mname \u001b[32m'error_map'\u001b[0m is not defined\n"
      ]
     },
     "metadata": {},
     "output_type": "display_data"
    }
   ],
   "source": [
    "import numpy as np\n",
    "import seaborn as sns\n",
    "import matplotlib.pylab as plt\n",
    "\n",
    "uniform_data = np.random.rand(10, 12)\n",
    "ax = sns.heatmap(error_map, linewidth=0.5)\n",
    "plt.show()"
   ]
  },
  {
   "cell_type": "code",
   "execution_count": 125,
   "metadata": {},
   "outputs": [
    {
     "data": {
      "text/plain": [
       "(10, 12)"
      ]
     },
     "execution_count": 125,
     "metadata": {},
     "output_type": "execute_result"
    }
   ],
   "source": [
    "uniform_data.shape"
   ]
  },
  {
   "cell_type": "code",
   "execution_count": 132,
   "metadata": {},
   "outputs": [
    {
     "data": {
      "text/plain": [
       "0.7744161580187687"
      ]
     },
     "execution_count": 132,
     "metadata": {},
     "output_type": "execute_result"
    }
   ],
   "source": [
    "uniform_data[0, 2]"
   ]
  },
  {
   "cell_type": "code",
   "execution_count": null,
   "metadata": {},
   "outputs": [],
   "source": []
  }
 ],
 "metadata": {
  "kernelspec": {
   "display_name": ".venv",
   "language": "python",
   "name": "python3"
  },
  "language_info": {
   "codemirror_mode": {
    "name": "ipython",
    "version": 3
   },
   "file_extension": ".py",
   "mimetype": "text/x-python",
   "name": "python",
   "nbconvert_exporter": "python",
   "pygments_lexer": "ipython3",
   "version": "3.11.2"
  },
  "orig_nbformat": 4
 },
 "nbformat": 4,
 "nbformat_minor": 2
}
