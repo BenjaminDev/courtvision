{
 "cells": [
  {
   "cell_type": "code",
   "execution_count": 1,
   "metadata": {},
   "outputs": [],
   "source": [
    "%load_ext autoreload\n",
    "%autoreload 2\n",
    "import torch\n",
    "import cv2\n",
    "import numpy as np\n",
    "from kornia.geometry import denormalize_pixel_coordinates\n",
    "from torch.testing import assert_close\n",
    "from courtvision.trackers import Tracker, StateIdx\n",
    "import rerun as rr\n",
    "from courtvision.geometry import solve_for_camera_matrix, solve_for_projection_matrix"
   ]
  },
  {
   "cell_type": "code",
   "execution_count": null,
   "metadata": {},
   "outputs": [],
   "source": []
  },
  {
   "cell_type": "code",
   "execution_count": 2,
   "metadata": {},
   "outputs": [
    {
     "name": "stdout",
     "output_type": "stream",
     "text": [
      "dict_keys(['a_front_left', 'b_front_right', 'c_back_left', 'd_back_right', 'e_left_near_serve_line', 'f_right_near_serve_line', 'g_left_far_serve_line', 'h_right_far_serve_line', 'i_center_line_far', 'j_net_line_left', 'k_center_line_near', 'l_net_line_right', 'm_top_front_left', 'n_top_front_right', 'o_top_back_left', 'p_top_back_right'])\n",
      "removing i_center_line_far\n",
      "removing j_net_line_left\n",
      "removing k_center_line_near\n",
      "removing l_net_line_right\n"
     ]
    },
    {
     "data": {
      "text/plain": [
       "dict_keys(['a_front_left', 'b_front_right', 'c_back_left', 'd_back_right', 'e_left_near_serve_line', 'f_right_near_serve_line', 'g_left_far_serve_line', 'h_right_far_serve_line', 'm_top_front_left', 'n_top_front_right', 'o_top_back_left', 'p_top_back_right'])"
      ]
     },
     "execution_count": 2,
     "metadata": {},
     "output_type": "execute_result"
    }
   ],
   "source": [
    "from courtvision.geometry import corners_world_3d, convert_corners_to_coords\n",
    "\n",
    "print(corners_world_3d.keys())\n",
    "convert_corners_to_coords(corners_world_3d)\n",
    "from courtvision.geometry import get_corners_image, get_corners_verital_plane_on_image\n",
    "\n",
    "corners_image = get_corners_image(\"curated_001/curated_001_frame_0001\")\n",
    "corners_image_other = get_corners_verital_plane_on_image(\n",
    "    \"curated_001/curated_001_frame_0001\", plane=\"both\"\n",
    ")\n",
    "corners_image.update(corners_image_other)\n",
    "\n",
    "for k in list(corners_world_3d.keys()):\n",
    "    if k not in corners_image:\n",
    "        print(f\"removing {k}\")\n",
    "        corners_world_3d.pop(k)\n",
    "\n",
    "\n",
    "corners_image.keys()\n",
    "corners_world_3d.keys()"
   ]
  },
  {
   "cell_type": "code",
   "execution_count": 3,
   "metadata": {},
   "outputs": [],
   "source": [
    "image_size = (1280, 720)\n",
    "world_points = torch.tensor(\n",
    "    convert_corners_to_coords(corners_world_3d), dtype=torch.float64\n",
    ")\n",
    "\n",
    "image_points = torch.tensor(\n",
    "    convert_corners_to_coords(corners_image), dtype=torch.float64\n",
    ")\n",
    "\n",
    "camera_matrix, dist_coeffs, reproj_error = solve_for_camera_matrix(\n",
    "    world_points=world_points[:8],\n",
    "    image_points=image_points[:8],\n",
    "    image_size=image_size,\n",
    ")\n",
    "\n",
    "\n",
    "projection_matrix, tvec = solve_for_projection_matrix(\n",
    "    world_points=world_points.numpy(),\n",
    "    image_points=image_points.numpy(),\n",
    "    camera_matrix=camera_matrix,\n",
    "    dist_coeffs=dist_coeffs,\n",
    "    in_object_coordinate_frame=True,\n",
    ")"
   ]
  },
  {
   "cell_type": "code",
   "execution_count": 8,
   "metadata": {},
   "outputs": [
    {
     "data": {
      "text/plain": [
       "(array([1618.39871437]),\n",
       " array([[  123.40760714],\n",
       "        [ -449.13034974],\n",
       "        [-1549.92480144]]))"
      ]
     },
     "execution_count": 8,
     "metadata": {},
     "output_type": "execute_result"
    }
   ],
   "source": [
    "np.sqrt(tvec[0] ** 2 + tvec[1] ** 2 + tvec[2] ** 2), tvec"
   ]
  },
  {
   "cell_type": "code",
   "execution_count": 5,
   "metadata": {},
   "outputs": [
    {
     "name": "stdout",
     "output_type": "stream",
     "text": [
      "(12, 3)\n"
     ]
    },
    {
     "data": {
      "text/plain": [
       "((12, 3), (12, 3))"
      ]
     },
     "execution_count": 5,
     "metadata": {},
     "output_type": "execute_result"
    }
   ],
   "source": [
    "from courtvision.geometry import transfrom_points, convert_points_to_homogeneous\n",
    "\n",
    "# Transform object points to camera frame\n",
    "objectPoints_camera = transfrom_points(\n",
    "    points=world_points.numpy(), transformation_matrix=projection_matrix, tvec=tvec\n",
    ")\n",
    "print(objectPoints_camera.shape)\n",
    "# objectPoints_camera = np.array([objectPoints_camera[:,1],objectPoints_camera[:,0],objectPoints_camera[:,2]]).T\n",
    "# permuted_arr = np.array([arr[2], arr[1], arr[0]])\n",
    "objectPoints_camera.shape, world_points.numpy().shape"
   ]
  },
  {
   "cell_type": "code",
   "execution_count": 6,
   "metadata": {},
   "outputs": [
    {
     "name": "stderr",
     "output_type": "stream",
     "text": [
      "[2023-05-29T20:00:25Z WARN  re_sdk::global] There is no currently active Blueprint recording available for the current thread (ThreadId(1)): have you called `set_global()` and/or `set_thread_local()` first?\n"
     ]
    }
   ],
   "source": [
    "import rerun as rr\n",
    "\n",
    "if False:\n",
    "    rr.init(\"Blueprint demo\")\n",
    "    rr.start_web_viewer_server()\n",
    "    rec = rr.memory_recording()\n",
    "else:\n",
    "    from random import randint\n",
    "    import string\n",
    "\n",
    "    dd = \"\".join(\n",
    "        [\n",
    "            string.ascii_letters[randint(0, len(string.ascii_letters) - 1)]\n",
    "            for i in range(10)\n",
    "        ]\n",
    "    )\n",
    "    rr.init(dd, spawn=True)\n",
    "rr.set_time_sequence(\"frame_nr\", 0)\n",
    "i = 0"
   ]
  },
  {
   "cell_type": "code",
   "execution_count": 7,
   "metadata": {},
   "outputs": [
    {
     "name": "stdout",
     "output_type": "stream",
     "text": [
      "1\n",
      "(720, 1280, 3)\n",
      "(720, 1280, 3)\n"
     ]
    }
   ],
   "source": [
    "i = i + 1\n",
    "print(i)\n",
    "rr.set_time_sequence(\"frame_nr\", i)\n",
    "rr.log_view_coordinates(\"camera\", up=\"+Z\", right_handed=True, timeless=False)\n",
    "# rr.log_view_coordinates(\"world\",xyz=\"RFU\", timeless=True)\n",
    "\n",
    "# rr.log_rigid3(\n",
    "#             \"world/camera\",\n",
    "#             child_from_parent=(translation_xyz,quat_xyzw),\n",
    "\n",
    "#             # xyz=\"RFD\",  # X=Right, Y=Down, Z=Forward\n",
    "#         )\n",
    "# rr.log_transform3d(\"camera\",\n",
    "#                    transform=from_camera_to_world,\n",
    "#                    from_parent=False,\n",
    "#                    )\n",
    "\n",
    "rr.log_pinhole(\n",
    "    \"camera/image\",\n",
    "    child_from_parent=camera_matrix,\n",
    "    width=image_size[0],\n",
    "    height=image_size[1],\n",
    "    #   timeless=True,\n",
    ")\n",
    "img = cv2.imread(\n",
    "    \"/Users/benjamindecharmoy/projects/courtvision/data/frames/curated_001/curated_001_frame_0001.png\"\n",
    ")\n",
    "print(img.shape)\n",
    "img = cv2.resize(img, (1280, 720))\n",
    "print(img.shape)\n",
    "rr.log_image(\"camera/image\", img)\n",
    "# rr.log_points(\"world/camera/imgae\",\n",
    "#               positions=denormalize_pixel_coordinates(image_points,height=image_size[1],width=image_size[0]),\n",
    "#               )\n",
    "rr.log_point(\n",
    "    \"camera/origin\",\n",
    "    position=torch.tensor([0.0, 0.0, 0.0]),\n",
    "    color=(1.0, 0.0, 0.0),\n",
    "    radius=10.0,\n",
    ")\n",
    "\n",
    "rr.log_point(\n",
    "    \"camera/x\",\n",
    "    position=torch.tensor([20.0, 0.0, 0.0]),\n",
    "    color=(1.0, 1.0, 0.0),\n",
    "    radius=10.0,\n",
    ")\n",
    "rr.log_point(\n",
    "    \"camera/y\",\n",
    "    position=torch.tensor([0.0, 20.0, 0.0]),\n",
    "    color=(1.0, 1.0, 0.0),\n",
    "    radius=10.0,\n",
    ")\n",
    "rr.log_point(\n",
    "    \"camera/z\",\n",
    "    position=torch.tensor([0.0, 0.0, 20.0]),\n",
    "    color=(1.0, 1.0, 0.0),\n",
    "    radius=10.0,\n",
    ")\n",
    "rr.log_arrow(\n",
    "    \"camera/front_left_to_back_left\",\n",
    "    origin=objectPoints_camera[0],\n",
    "    vector=objectPoints_camera[2] - objectPoints_camera[0],\n",
    "    color=(0.0, 0.0, 1.0),\n",
    ")\n",
    "rr.log_arrow(\n",
    "    \"camera/front_right_to_back_right\",\n",
    "    origin=objectPoints_camera[1],\n",
    "    vector=objectPoints_camera[3] - objectPoints_camera[1],\n",
    "    color=(0.0, 0.0, 1.0),\n",
    ")\n",
    "rr.log_points(\n",
    "    \"camera/court_points\",\n",
    "    positions=objectPoints_camera[2:],\n",
    "    colors=torch.tensor([1.0, 0.0, 0.0]),\n",
    "    radii=100.0,\n",
    ")\n",
    "rr.log_points(\n",
    "    \"camera/court_points_front\",\n",
    "    positions=objectPoints_camera[:2],\n",
    "    colors=torch.tensor([1.0, 1.0, 0.0]),\n",
    "    radii=100.0,\n",
    ")\n",
    "rr.log_obb(\n",
    "    \"camera/court\",\n",
    "    half_size=(300.0, 1000.0, 500.0),\n",
    "    position=(300.0, 1000.0, 500.0),\n",
    "    stroke_width=3.0,\n",
    ")\n",
    "\n",
    "\n",
    "# rr.log_obb(\"world/court2\",\n",
    "#            half_size=(5000.0/2, 20000.0/2, 3000.0/2),\n",
    "#            position=(2500.0, 1000.0, 1500.0),\n",
    "# )\n",
    "# rr.log_point(\"world/points_ball\", position=torch.tensor([0.0, 0.0, 0.0]),color=(0.0, 0.0, 1.0), radius=10.0)\n",
    "# # rr.log_points(\"world/court_points\", positions=world_points, colors=torch.tensor([1.0, 0.0, 0.0]),radii=1000.0)\n",
    "# rr.log_point(\"world/points_ball\", position=torch.tensor([500.0, 1000.0, 300.0]),color=(0.0, 0.0, 1.0), radius=10.0)"
   ]
  },
  {
   "cell_type": "code",
   "execution_count": 14,
   "metadata": {},
   "outputs": [
    {
     "data": {
      "image/png": "[encoded data removed]",
      "text/plain": [
       "<Figure size 640x480 with 1 Axes>"
      ]
     },
     "metadata": {},
     "output_type": "display_data"
    }
   ],
   "source": [
    "# %matplotlib notebook\n",
    "\n",
    "import matplotlib.pyplot as plt\n",
    "\n",
    "camera_points = objectPoints_camera\n",
    "# Create a 3D plot\n",
    "fig = plt.figure()\n",
    "ax = fig.add_subplot(111, projection=\"3d\")\n",
    "\n",
    "# Plot world points in green\n",
    "# ax.scatter(world_points[:, 0], world_points[:, 1], world_points[:, 2], c='green')\n",
    "\n",
    "# Plot camera points in red\n",
    "ax.scatter(camera_points[:, 0], camera_points[:, 1], camera_points[:, 2], c=\"red\")\n",
    "\n",
    "\n",
    "camera_position = -tvec\n",
    "# The camera orientation is the third column of the rotation matrix (or the third row, depending on the convention used).\n",
    "camera_orientation = (\n",
    "    projection_matrix[:, 2]\n",
    "    if projection_matrix.shape[0] == 3\n",
    "    else projection_matrix[2, :]\n",
    ")\n",
    "\n",
    "# Plot camera as an arrow\n",
    "ax.quiver(\n",
    "    camera_position[0],\n",
    "    camera_position[1],\n",
    "    camera_position[2],\n",
    "    camera_orientation[2],\n",
    "    camera_orientation[1],\n",
    "    camera_orientation[0],\n",
    "    length=1000.0,\n",
    "    color=\"blue\",\n",
    ")\n",
    "\n",
    "# Adding labels\n",
    "ax.set_xlabel(\"X\")\n",
    "ax.set_ylabel(\"Y\")\n",
    "ax.set_zlabel(\"Z\")\n",
    "ax.view_init(elev=90, azim=0)\n",
    "# Show the plot\n",
    "plt.show()"
   ]
  },
  {
   "cell_type": "code",
   "execution_count": 27,
   "metadata": {},
   "outputs": [
    {
     "data": {
      "text/plain": [
       "array([[-2093.20904117],\n",
       "       [ -644.60521486],\n",
       "       [  650.60182588]])"
      ]
     },
     "execution_count": 27,
     "metadata": {},
     "output_type": "execute_result"
    }
   ],
   "source": [
    "tvec"
   ]
  },
  {
   "cell_type": "code",
   "execution_count": 172,
   "metadata": {},
   "outputs": [
    {
     "data": {
      "image/png": "[encoded data removed]",
      "text/plain": [
       "<Figure size 640x480 with 1 Axes>"
      ]
     },
     "metadata": {},
     "output_type": "display_data"
    }
   ],
   "source": [
    "import matplotlib.pyplot as plt\n",
    "\n",
    "# Transform object points\n",
    "objectPoints = world_points.numpy()\n",
    "objectPoints_transformed = objectPoints  # np.dot(projection_matrix[:3,:3], objectPoints.T).T + projection_matrix[:3,3]\n",
    "\n",
    "# Get camera direction from rotation matrix\n",
    "camera_direction = -projection_matrix[\n",
    "    :, 2\n",
    "]  # In OpenGL convention, camera is looking down the negative z-axis\n",
    "\n",
    "# Create a new figure and add a 3D subplot\n",
    "fig = plt.figure()\n",
    "ax = fig.add_subplot(111, projection=\"3d\")\n",
    "\n",
    "# Plot the transformed object points\n",
    "ax.scatter(\n",
    "    objectPoints_transformed[:, 0],\n",
    "    objectPoints_transformed[:, 1],\n",
    "    objectPoints_transformed[:, 2],\n",
    "    c=\"b\",\n",
    "    marker=\"o\",\n",
    ")\n",
    "\n",
    "# Plot the camera location as a red arrow\n",
    "ax.quiver(\n",
    "    translation_xyz[0],\n",
    "    translation_xyz[1],\n",
    "    translation_xyz[2],\n",
    "    camera_direction[0],\n",
    "    camera_direction[1],\n",
    "    camera_direction[2],\n",
    "    color=\"r\",\n",
    "    length=100.5,\n",
    ")\n",
    "\n",
    "# Add labels to the axes\n",
    "ax.set_xlabel(\"X\")\n",
    "ax.set_ylabel(\"Y\")\n",
    "ax.set_zlabel(\"Z\")\n",
    "\n",
    "plt.show()"
   ]
  },
  {
   "cell_type": "code",
   "execution_count": 49,
   "metadata": {},
   "outputs": [
    {
     "data": {
      "text/plain": [
       "array([ 5.02635904e+02, -2.13946340e+03,  1.71047864e+00])"
      ]
     },
     "execution_count": 49,
     "metadata": {},
     "output_type": "execute_result"
    }
   ],
   "source": [
    "translation_xyz"
   ]
  },
  {
   "cell_type": "code",
   "execution_count": 29,
   "metadata": {},
   "outputs": [],
   "source": [
    "# Define the 3D point in homogeneous coordinates\n",
    "# P_hom = np.array([[X], [Y], [Z], [1]], dtype=np.float32)\n",
    "\n",
    "# # Project the 3D point to the image plane using the projection matrix\n",
    "# P_proj_hom = np.dot(P, P_hom)\n",
    "\n",
    "# # Normalize the image coordinates\n",
    "# P_proj = P_proj_hom[:2] / P_proj_hom[2]\n",
    "\n",
    "# # Print the projected point on the image plane\n",
    "# print(\"Projected point:\", P_proj)"
   ]
  },
  {
   "cell_type": "code",
   "execution_count": null,
   "metadata": {},
   "outputs": [],
   "source": [
    "rr.log_extension_components"
   ]
  },
  {
   "cell_type": "code",
   "execution_count": 37,
   "metadata": {},
   "outputs": [
    {
     "name": "stdout",
     "output_type": "stream",
     "text": [
      "torch.Size([1, 16, 3]) torch.Size([1, 12, 2]) torch.Size([1, 3, 3])\n"
     ]
    },
    {
     "ename": "error",
     "evalue": "OpenCV(4.5.5) /Users/xperience/actions-runner/_work/opencv-python/opencv-python/opencv/modules/calib3d/src/solvepnp.cpp:833: error: (-215:Assertion failed) ( (npoints >= 4) || (npoints == 3 && flags == SOLVEPNP_ITERATIVE && useExtrinsicGuess) || (npoints >= 3 && flags == SOLVEPNP_SQPNP) ) && npoints == std::max(ipoints.checkVector(2, CV_32F), ipoints.checkVector(2, CV_64F)) in function 'solvePnPGeneric'\n",
     "output_type": "error",
     "traceback": [
      "\u001b[0;31m---------------------------------------------------------------------------\u001b[0m",
      "\u001b[0;31merror\u001b[0m                                     Traceback (most recent call last)",
      "Cell \u001b[0;32mIn[37], line 52\u001b[0m\n\u001b[1;32m     48\u001b[0m \u001b[39mimport\u001b[39;00m \u001b[39mnumpy\u001b[39;00m \u001b[39mas\u001b[39;00m \u001b[39mnp\u001b[39;00m\n\u001b[1;32m     50\u001b[0m dist_coeffs \u001b[39m=\u001b[39m np\u001b[39m.\u001b[39marray([\u001b[39m0\u001b[39m, \u001b[39m0\u001b[39m, \u001b[39m0\u001b[39m, \u001b[39m0\u001b[39m, \u001b[39m0\u001b[39m], dtype\u001b[39m=\u001b[39mnp\u001b[39m.\u001b[39mfloat32)\n\u001b[0;32m---> 52\u001b[0m success, rvec, tvec \u001b[39m=\u001b[39m cv2\u001b[39m.\u001b[39;49msolvePnP(\n\u001b[1;32m     53\u001b[0m     world_points\u001b[39m.\u001b[39;49mnumpy(),\n\u001b[1;32m     54\u001b[0m     img_points_N\u001b[39m.\u001b[39;49mnumpy(),\n\u001b[1;32m     55\u001b[0m     intrinsics\u001b[39m.\u001b[39;49msqueeze(\u001b[39m0\u001b[39;49m)\u001b[39m.\u001b[39;49mnumpy(),\n\u001b[1;32m     56\u001b[0m     dist_coeffs,\n\u001b[1;32m     57\u001b[0m     flags\u001b[39m=\u001b[39;49mcv2\u001b[39m.\u001b[39;49mSOLVEPNP_ITERATIVE,\n\u001b[1;32m     58\u001b[0m     useExtrinsicGuess\u001b[39m=\u001b[39;49m\u001b[39mFalse\u001b[39;49;00m,\n\u001b[1;32m     59\u001b[0m     \n\u001b[1;32m     60\u001b[0m )\n\u001b[1;32m     61\u001b[0m \u001b[39mprint\u001b[39m(\u001b[39mf\u001b[39m\u001b[39m\"\u001b[39m\u001b[39m{\u001b[39;00msuccess\u001b[39m=}\u001b[39;00m\u001b[39m\"\u001b[39m)\n\u001b[1;32m     62\u001b[0m \u001b[39m# Convert rotation vector to rotation matrix\u001b[39;00m\n",
      "\u001b[0;31merror\u001b[0m: OpenCV(4.5.5) /Users/xperience/actions-runner/_work/opencv-python/opencv-python/opencv/modules/calib3d/src/solvepnp.cpp:833: error: (-215:Assertion failed) ( (npoints >= 4) || (npoints == 3 && flags == SOLVEPNP_ITERATIVE && useExtrinsicGuess) || (npoints >= 3 && flags == SOLVEPNP_SQPNP) ) && npoints == std::max(ipoints.checkVector(2, CV_32F), ipoints.checkVector(2, CV_64F)) in function 'solvePnPGeneric'\n"
     ]
    }
   ],
   "source": [
    "import torch\n",
    "import kornia\n",
    "from courtvision.geometry import corners_world_3d\n",
    "\n",
    "#  REF https://ksimek.github.io/2013/08/13/intrinsic/\n",
    "world_points = torch.tensor(\n",
    "    convert_corners_to_coords(corners_world_3d), dtype=torch.float64\n",
    ").unsqueeze(0)\n",
    "\n",
    "img_points = torch.tensor(\n",
    "    convert_corners_to_coords(corners_image), dtype=torch.float64\n",
    ").unsqueeze(0)\n",
    "# print(f\"{img_points=}\")\n",
    "from kornia.geometry.conversions import (\n",
    "    normalize_pixel_coordinates,\n",
    "    denormalize_pixel_coordinates,\n",
    "    normalize_pixel_coordinates3d,\n",
    ")\n",
    "\n",
    "img_points_N = normalize_pixel_coordinates(img_points, width=1280, height=720)\n",
    "img_points_d = denormalize_pixel_coordinates(img_points_N, width=1280, height=720)\n",
    "# print(f\"{img_points_d=}\")\n",
    "fx = 1000\n",
    "fy = 1000\n",
    "cy = 720 / 2\n",
    "\n",
    "cx = 1280 / 2\n",
    "\n",
    "\n",
    "intrinsics = torch.tensor(\n",
    "    [\n",
    "        [\n",
    "            [fx, 0.0, cx],\n",
    "            [0.0, fy, cy],\n",
    "            [0.0, 0.0, 1.0],\n",
    "        ]\n",
    "    ],\n",
    "    dtype=torch.float64,\n",
    ")\n",
    "\n",
    "print(world_points.shape, img_points.shape, intrinsics.shape)\n",
    "# torch.Size([1, 6, 3]) torch.Size([1, 6, 2]) torch.Size([1, 3, 3])\n",
    "world_points_N = normalize_pixel_coordinates3d(\n",
    "    world_points, depth=2000.0, height=300.0, width=1000.0\n",
    ")\n",
    "# Solve PnP\n",
    "import cv2\n",
    "import numpy as np\n",
    "\n",
    "dist_coeffs = np.array([0, 0, 0, 0, 0], dtype=np.float32)\n",
    "\n",
    "success, rvec, tvec = cv2.solvePnP(\n",
    "    world_points.numpy(),\n",
    "    img_points_N.numpy(),\n",
    "    intrinsics.squeeze(0).numpy(),\n",
    "    dist_coeffs,\n",
    "    flags=cv2.SOLVEPNP_ITERATIVE,\n",
    "    useExtrinsicGuess=False,\n",
    ")\n",
    "print(f\"{success=}\")\n",
    "# Convert rotation vector to rotation matrix\n",
    "rmat, _ = cv2.Rodrigues(rvec)\n",
    "\n",
    "# Concatenate rotation matrix and translation vector to create a 3x4 transformation matrix\n",
    "transformation_matrix = np.hstack((rmat, tvec))\n",
    "print(f\"{transformation_matrix=}\")\n",
    "#    {rvec=} {tvec=}\")\n",
    "pred_world_to_cam = kornia.geometry.solve_pnp_dlt(\n",
    "    world_points_N, img_points_N, intrinsics, svd_eps=0.0000000001\n",
    ")\n",
    "\n",
    "# print(pred_world_to_cam.shape)\n",
    "print(f\"{pred_world_to_cam=}\")\n",
    "# torch.Size([1, 3, 4])\n",
    "\n",
    "# pred_world_to_cam\n",
    "# world_points_N"
   ]
  },
  {
   "cell_type": "code",
   "execution_count": 33,
   "metadata": {},
   "outputs": [
    {
     "name": "stdout",
     "output_type": "stream",
     "text": [
      "1.0996793425628677\n"
     ]
    },
    {
     "data": {
      "text/plain": [
       "0.7312957762435465"
      ]
     },
     "execution_count": 33,
     "metadata": {},
     "output_type": "execute_result"
    }
   ],
   "source": [
    "import numpy as np\n",
    "\n",
    "\n",
    "def calculate_reprojection_error_using_projection_matrix(\n",
    "    objpoints, imgpoints, projection_matrix\n",
    "):\n",
    "    mean_error = 0\n",
    "    for i in range(len(objpoints)):\n",
    "        # convert the object point to homogeneous coordinates\n",
    "        objpoint_homogeneous = np.hstack((objpoints[i], 1))\n",
    "        # project the object point\n",
    "        imgpoint_projected_homogeneous = np.dot(projection_matrix, objpoint_homogeneous)\n",
    "        # convert the projected point from homogeneous to cartesian coordinates\n",
    "        imgpoint_projected = (\n",
    "            imgpoint_projected_homogeneous[:2] / imgpoint_projected_homogeneous[2]\n",
    "        )\n",
    "        # calculate the error\n",
    "        error = np.linalg.norm(imgpoints[i] - imgpoint_projected)\n",
    "        mean_error += error\n",
    "    return mean_error / len(objpoints)\n",
    "\n",
    "\n",
    "print(\n",
    "    calculate_reprojection_error_using_projection_matrix(\n",
    "        world_points_N.squeeze(0).numpy(),\n",
    "        img_points_N.squeeze(0).numpy(),\n",
    "        pred_world_to_cam.squeeze(0).numpy(),\n",
    "    )\n",
    ")\n",
    "calculate_reprojection_error_using_projection_matrix(\n",
    "    world_points_N.squeeze(0).numpy(),\n",
    "    img_points_N.squeeze(0).numpy(),\n",
    "    transformation_matrix,\n",
    ")"
   ]
  },
  {
   "cell_type": "code",
   "execution_count": 155,
   "metadata": {},
   "outputs": [
    {
     "data": {
      "text/plain": [
       "torch.Size([1, 1, 3, 3])"
      ]
     },
     "execution_count": 155,
     "metadata": {},
     "output_type": "execute_result"
    }
   ],
   "source": [
    "import numpy as np\n",
    "import cv2\n",
    "\n",
    "# Assume you have the following required variables\n",
    "# mtx: Camera matrix\n",
    "# dist: Distortion coefficients\n",
    "# rvecs: Rotation vectors\n",
    "# tvecs: Translation vectors\n",
    "# objpoints: 3d point in real world space\n",
    "# imgpoints: 2d points in image plane\n",
    "\n",
    "\n",
    "def calculate_reprojection_error(objpoints, imgpoints, rvecs, tvecs, mtx, dist):\n",
    "    mean_error = 0\n",
    "    for i in range(len(objpoints)):\n",
    "        imgpoints2, _ = cv2.projectPoints(objpoints[i], rvecs[i], tvecs[i], mtx, dist)\n",
    "        error = cv2.norm(imgpoints[i], imgpoints2, cv2.NORM_L2) / len(imgpoints2)\n",
    "        mean_error += error\n",
    "    return mean_error / len(objpoints)\n",
    "\n",
    "\n",
    "reprojection_error = calculate_reprojection_error(\n",
    "    world_points_N.numpy(), img_points_N.numpy(), rvecs, tvecs, mtx, dist\n",
    ")\n",
    "\n",
    "print(\"reprojection error: \", reprojection_error)"
   ]
  },
  {
   "cell_type": "code",
   "execution_count": 160,
   "metadata": {},
   "outputs": [
    {
     "data": {
      "text/plain": [
       "(array([[-1939726.92634732],\n",
       "        [-1090176.10143233],\n",
       "        [ 2426190.30146557]]),\n",
       " array([[ 1.73129197],\n",
       "        [-0.4755916 ],\n",
       "        [ 1.13913989]]))"
      ]
     },
     "execution_count": 160,
     "metadata": {},
     "output_type": "execute_result"
    }
   ],
   "source": [
    "tvec, rvec"
   ]
  },
  {
   "cell_type": "code",
   "execution_count": 143,
   "metadata": {},
   "outputs": [
    {
     "data": {
      "text/plain": [
       "torch.Size([1, 3, 4])"
      ]
     },
     "execution_count": 143,
     "metadata": {},
     "output_type": "execute_result"
    }
   ],
   "source": [
    "pred_world_to_cam.shape"
   ]
  },
  {
   "cell_type": "code",
   "execution_count": 136,
   "metadata": {},
   "outputs": [],
   "source": [
    "tracker = Tracker(num_particles=1000, world_to_cam=pred_world_to_cam)"
   ]
  },
  {
   "cell_type": "code",
   "execution_count": 137,
   "metadata": {},
   "outputs": [
    {
     "data": {
      "text/plain": [
       "tensor([[[-5.8979e-01,  7.1178e-01, -3.8146e-01,  9.6423e+02],\n",
       "         [-3.3216e-01,  2.1675e-01,  9.1798e-01,  5.4303e+02],\n",
       "         [ 7.3609e-01,  6.6812e-01,  1.0859e-01, -1.2034e+03]]])"
      ]
     },
     "execution_count": 137,
     "metadata": {},
     "output_type": "execute_result"
    }
   ],
   "source": [
    "tracker.H.to(dtype=torch.float32)"
   ]
  },
  {
   "cell_type": "code",
   "execution_count": 148,
   "metadata": {},
   "outputs": [
    {
     "data": {
      "text/plain": [
       "(tensor([[-0.8005, -0.4500],\n",
       "         [-0.8005, -0.4500],\n",
       "         [-0.8005, -0.4500],\n",
       "         ...,\n",
       "         [-0.8005, -0.4500],\n",
       "         [-0.8005, -0.4500],\n",
       "         [-0.8005, -0.4500]]),\n",
       " tensor([[[-0.9998, -0.9976],\n",
       "          [-0.9986, -0.9975],\n",
       "          [-0.9995, -0.9992],\n",
       "          [-0.9989, -0.9992],\n",
       "          [-0.9997, -0.9980],\n",
       "          [-0.9987, -0.9980],\n",
       "          [-0.9995, -0.9990],\n",
       "          [-0.9989, -0.9990],\n",
       "          [-0.9999, -0.9986],\n",
       "          [-0.9986, -0.9986],\n",
       "          [-0.9995, -0.9998],\n",
       "          [-0.9989, -0.9981]]], dtype=torch.float64))"
      ]
     },
     "execution_count": 148,
     "metadata": {},
     "output_type": "execute_result"
    }
   ],
   "source": [
    "obs_in_image = torch.tensor([[1.0, 1.0]]).repeat(1000, 1)\n",
    "[0.8944, 0.8864],\n",
    "from kornia.geometry.conversions import normalize_homography3d\n",
    "\n",
    "tracker.set_states_to(torch.tensor([-1.0, -1.0, -1.0]))\n",
    "dd = Tracker.state_to_observation(\n",
    "    tracker.states, tracker.H.to(dtype=torch.float32).squeeze(0)\n",
    ")\n",
    "dd, img_points_N"
   ]
  },
  {
   "cell_type": "code",
   "execution_count": 145,
   "metadata": {},
   "outputs": [
    {
     "data": {
      "text/plain": [
       "tensor([[-0.8012, -0.4512],\n",
       "        [-0.8012, -0.4512],\n",
       "        [-0.8012, -0.4512],\n",
       "        ...,\n",
       "        [-0.8012, -0.4512],\n",
       "        [-0.8012, -0.4512],\n",
       "        [-0.8012, -0.4512]])"
      ]
     },
     "execution_count": 145,
     "metadata": {},
     "output_type": "execute_result"
    }
   ],
   "source": [
    "dd"
   ]
  },
  {
   "cell_type": "code",
   "execution_count": 109,
   "metadata": {},
   "outputs": [
    {
     "data": {
      "text/plain": [
       "tensor(0.0870, dtype=torch.float64)"
      ]
     },
     "execution_count": 109,
     "metadata": {},
     "output_type": "execute_result"
    }
   ],
   "source": [
    "img_points.min()"
   ]
  },
  {
   "cell_type": "code",
   "execution_count": 150,
   "metadata": {},
   "outputs": [
    {
     "name": "stdout",
     "output_type": "stream",
     "text": [
      "success=True rvec=array([[0.],\n",
      "       [0.],\n",
      "       [0.]]) tvec=array([[-31.75634152],\n",
      "       [-23.55795647],\n",
      "       [ 51.23990293]])\n"
     ]
    }
   ],
   "source": [
    "import cv2\n",
    "import numpy as np\n",
    "\n",
    "# 3D object points in world coordinates\n",
    "object_points = np.array([[0, 0, 0], [1, 0, 0], [0, 1, 0], [1, 1, 0]], dtype=np.float32)\n",
    "\n",
    "# 2D image points in image coordinates\n",
    "image_points = np.array([[10, 10], [20, 10], [10, 20], [20, 20]], dtype=np.float32)\n",
    "\n",
    "# Camera intrinsic matrix (fx, fy, cx, cy)\n",
    "camera_matrix = np.array([[500, 0, 320], [0, 500, 240], [0, 0, 1]], dtype=np.float32)\n",
    "\n",
    "# Distortion coefficients (k1, k2, p1, p2, k3)\n",
    "dist_coeffs = np.array([0, 0, 0, 0, 0], dtype=np.float32)\n",
    "\n",
    "# Solve PnP\n",
    "success, rvec, tvec = cv2.solvePnP(\n",
    "    object_points, image_points, camera_matrix, dist_coeffs, flags=cv2.SOLVEPNP_UPNP\n",
    ")\n",
    "print(f\"{success=} {rvec=} {tvec=}\")"
   ]
  },
  {
   "cell_type": "code",
   "execution_count": 77,
   "metadata": {},
   "outputs": [
    {
     "data": {
      "text/plain": [
       "True"
      ]
     },
     "execution_count": 77,
     "metadata": {},
     "output_type": "execute_result"
    }
   ],
   "source": [
    "repo_erro, camera_matrix, dist_coeffs, *_ = cv2.calibrateCamera(\n",
    "    objectPoints=[world_points.squeeze(0).numpy().astype(np.float32)[:-4]],\n",
    "    imagePoints=[img_points.squeeze(0).numpy().astype(np.float32)[:-4]],\n",
    "    imageSize=(1280, 720),\n",
    "    cameraMatrix=None,\n",
    "    distCoeffs=None,\n",
    ")\n",
    "dist_coeffs\n",
    "repo_erro > 1e-2"
   ]
  },
  {
   "cell_type": "code",
   "execution_count": 70,
   "metadata": {},
   "outputs": [
    {
     "data": {
      "text/plain": [
       "(1, 12, 3)"
      ]
     },
     "execution_count": 70,
     "metadata": {},
     "output_type": "execute_result"
    }
   ],
   "source": [
    "world_points.numpy().shape"
   ]
  },
  {
   "cell_type": "code",
   "execution_count": 66,
   "metadata": {},
   "outputs": [
    {
     "data": {
      "text/plain": [
       "[array([[   0.,    0.,    0.],\n",
       "        [1000.,    0.,    0.],\n",
       "        [   0., 2000.,    0.],\n",
       "        [1000., 2000.,    0.],\n",
       "        [   0.,  200.,    0.],\n",
       "        [1000.,  200.,    0.],\n",
       "        [   0., 1800.,    0.],\n",
       "        [1000., 1800.,    0.]], dtype=float32)]"
      ]
     },
     "execution_count": 66,
     "metadata": {},
     "output_type": "execute_result"
    }
   ],
   "source": [
    "[world_points.squeeze(0).numpy().astype(np.float32)[:-4]]"
   ]
  },
  {
   "cell_type": "code",
   "execution_count": 170,
   "metadata": {},
   "outputs": [
    {
     "ename": "TypeError",
     "evalue": "'str' object cannot be interpreted as an integer",
     "output_type": "error",
     "traceback": [
      "\u001b[0;31m---------------------------------------------------------------------------\u001b[0m",
      "\u001b[0;31mTypeError\u001b[0m                                 Traceback (most recent call last)",
      "Cell \u001b[0;32mIn[170], line 4\u001b[0m\n\u001b[1;32m      2\u001b[0m line \u001b[39m=\u001b[39m \u001b[39m'\u001b[39m\u001b[39mAll work and no play makes Jack a dull boy\u001b[39m\u001b[39m'\u001b[39m\n\u001b[1;32m      3\u001b[0m \u001b[39mimport\u001b[39;00m \u001b[39mjson\u001b[39;00m\n\u001b[0;32m----> 4\u001b[0m \u001b[39mprint\u001b[39m(json\u001b[39m.\u001b[39mdumps([{\u001b[39mf\u001b[39m\u001b[39m\"\u001b[39m\u001b[39mline \u001b[39m\u001b[39m{\u001b[39;00mline_num\u001b[39m:\u001b[39;00m\u001b[39m04d\u001b[39m\u001b[39m}\u001b[39;00m\u001b[39m\"\u001b[39m: line} \u001b[39mfor\u001b[39;00m line_num \u001b[39min\u001b[39;00m \u001b[39mrange\u001b[39;49m(count)], indent\u001b[39m=\u001b[39m\u001b[39m2\u001b[39m))\n",
      "\u001b[0;31mTypeError\u001b[0m: 'str' object cannot be interpreted as an integer"
     ]
    }
   ],
   "source": []
  },
  {
   "cell_type": "code",
   "execution_count": 28,
   "metadata": {},
   "outputs": [
    {
     "name": "stdout",
     "output_type": "stream",
     "text": [
      "else\n",
      "finally\n"
     ]
    }
   ],
   "source": []
  },
  {
   "cell_type": "code",
   "execution_count": null,
   "metadata": {},
   "outputs": [],
   "source": []
  }
 ],
 "metadata": {
  "kernelspec": {
   "display_name": ".venv",
   "language": "python",
   "name": "python3"
  },
  "language_info": {
   "codemirror_mode": {
    "name": "ipython",
    "version": 3
   },
   "file_extension": ".py",
   "mimetype": "text/x-python",
   "name": "python",
   "nbconvert_exporter": "python",
   "pygments_lexer": "ipython3",
   "version": "3.11.2"
  },
  "orig_nbformat": 4
 },
 "nbformat": 4,
 "nbformat_minor": 2
}
